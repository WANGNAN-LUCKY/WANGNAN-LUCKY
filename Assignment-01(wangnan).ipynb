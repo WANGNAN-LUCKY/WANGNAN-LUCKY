{
 "cells": [
  {
   "cell_type": "markdown",
   "metadata": {},
   "source": [
    "## Lesson-01 Assignment"
   ]
  },
  {
   "cell_type": "markdown",
   "metadata": {},
   "source": [
    "#### 今天是2020年1月05日，今天世界上又多了一名AI工程师 :) "
   ]
  },
  {
   "cell_type": "markdown",
   "metadata": {},
   "source": [
    "`各位同学大家好，欢迎各位开始学习我们的人工智能课程。这门课程假设大家不具备机器学习和人工智能的知识，但是希望大家具备初级的Python编程能力。根据往期同学的实际反馈，我们课程的完结之后 能力能够超过80%的计算机人工智能/深度学习方向的硕士生的能力。`"
   ]
  },
  {
   "cell_type": "markdown",
   "metadata": {},
   "source": [
    "## 本次作业的内容"
   ]
  },
  {
   "cell_type": "markdown",
   "metadata": {},
   "source": [
    "#### 1. 复现课堂代码\n",
    "\n",
    "在本部分，你需要参照我们给大家的GitHub地址里边的课堂代码，结合课堂内容，复现内容。"
   ]
  },
  {
   "cell_type": "markdown",
   "metadata": {},
   "source": [
    "#### 2. 作业截止时间\n",
    "此次作业截止时间为 2020.01.12日"
   ]
  },
  {
   "cell_type": "markdown",
   "metadata": {},
   "source": [
    "#### 3. 完成以下问答和编程练习"
   ]
  },
  {
   "cell_type": "markdown",
   "metadata": {},
   "source": [
    ">"
   ]
  },
  {
   "cell_type": "markdown",
   "metadata": {},
   "source": [
    "## 基础理论部分"
   ]
  },
  {
   "cell_type": "markdown",
   "metadata": {},
   "source": [
    "> **评阅点**：每道题是否回答完整"
   ]
  },
  {
   "cell_type": "markdown",
   "metadata": {},
   "source": [
    "#### 0. Can you come up out 3 sceneraies which use AI methods? "
   ]
  },
  {
   "cell_type": "markdown",
   "metadata": {},
   "source": [
    "Ans: \n",
    "场景1：推荐系统---> 应用于电商，短视频娱乐，教育领域的自适应\n",
    "场景2：识别系统---> 交通的车牌识别；农业的识别农作物精准投放除草剂；教育领域的英语口语语音评测 ； 校园安全的安检\n",
    "场景3：NLP（人机对话） ---> 智能助理，虚拟老师，虚拟客服，文章重点标注，文章纠错"
   ]
  },
  {
   "cell_type": "markdown",
   "metadata": {},
   "source": [
    "#### 1. How do we use Github; Why do we use Jupyter and Pycharm;"
   ]
  },
  {
   "cell_type": "markdown",
   "metadata": {},
   "source": [
    "Ans: \n",
    "How do we use Github\n",
    "关于Github，本人不是研发出身，所以对Github的理解还是粗浅的；参考了网上的博文：\n",
    "\n",
    "github是一个基于git的代码托管平台，付费用户可以建私人仓库，我们一般的免费用户只能使用公共仓库，也就是代码要公开。\n",
    "简单来说，Git 是一个管理你的「代码的历史记录」的工具。\n",
    "除了管理代码还有以下作用：\n",
    "1. 可以和牛人共享学习代码\n",
    "2. 可以同一个项目多人协同合作\n",
    "3. 可以管理历史数据\n",
    "4. 可以用于求职，自动生成简历\n",
    "\n",
    "Why do we use Jupyter\n",
    "个人理解：jupyter可以方便的展示程序的中间过程，并且方便注释，易于传播，分享，交流。下面的文字转自知乎\n",
    "\n",
    "在没有notebook之前，在IT领域工作的我都是这样工作的：在普通的 Python shell 或者在IDE（集成开发环境）如Pycharm中写代码，然后在word中写文档来说明你的项目。这个过程很反锁，通常是写完代码，再写文档的时候我还的重头回顾一遍代码。最蛋疼的地方在于，有些数据分析的中间结果，我还的重新跑代码，然后把结果弄到文档里给客户看。有了notebook之后，我的世界突然美好了许多，因为notebook 可以直接在代码旁写出叙述性文档，而不是另外编写单独的文档。也就是它可以能将代码、文档等这一切集中到一处，让用户一目了然。\n",
    "作者：猴子\n",
    "链接：https://www.zhihu.com/question/46309360/answer/254638807\n",
    "来源：知乎\n",
    "\n",
    "Why do we use  Pycharm; \n",
    "\n",
    "pycharm里面写代码有很多优势。\n",
    "1. 函数及关键字的自动补全，在函数功能和使用方法忘记的时候还能点击查看\n",
    "2. 代码的区块化让代码思路更加清晰，代码编写错误的地方还会直接报红\n",
    "3. 此外pycharm在连接xshell和virtual box之类的时候也特别方便，一般开发中都会用到虚拟机，在使用到Django时，pycharm也有自带的server方便使用。\n",
    "\n",
    "作者：穆图\n",
    "链接：https://www.zhihu.com/question/327537222/answer/819778167\n",
    "来源：知乎\n",
    "著作权归作者所有。商业转载请联系作者获得授权，非商业转载请注明出处。\n"
   ]
  },
  {
   "cell_type": "markdown",
   "metadata": {},
   "source": [
    "#### 2. What's the Probability Model?"
   ]
  },
  {
   "cell_type": "markdown",
   "metadata": {},
   "source": [
    "Ans: 要回答什么是概率模型，需要弄清楚以下前置知识\n",
    "1. 随机变量 ： 一个“自变量”不确定的函数；函数的输入是“事件”，输出是“事件的结果”。\n",
    "2. 事件： 理解为一有结果的事情，随机变量的自变量\n",
    "3. 样本空间： 随机变量输出的所有结果的集合；\n",
    "4. 概率 ： 某个事件通过随机变量产生的结果 与 样本空间 的比值； 也可以解释成：某事件的随机变量占据样本空间的面积。\n",
    "5. 概率分布： 所有事件所对应的概率。 概率的和为1。（我个人理解是一种统计上的描述，就像给事件画肖像一样；）\n",
    "\n",
    "6. 概率模型： 是用来描述不同随机变量之间关系的数学模型，通常情况下刻画了一个或多个随机变量之间的相互非确定性的几率关系。\n",
    "\n",
    "谈谈个人的理解：我理解所谓的概率模型本质上还是用“随机变量”构建的数学关系式；最终的目的是为了得到要研究“事件”的“概率分布”；通过概率分布来进行事件结果的预测；\n"
   ]
  },
  {
   "cell_type": "markdown",
   "metadata": {},
   "source": [
    "#### 3. Can you came up with some sceneraies at which we could use Probability Model?"
   ]
  },
  {
   "cell_type": "markdown",
   "metadata": {},
   "source": [
    "Ans:\n",
    "\n",
    "场景一：学术上概率模型可以解决数学问题\n",
    "   比如： 证明不等式 ； 计算积分 ；计算函数极限\n",
    "\n",
    "场景二：工业质检中的6西格玛标准\n",
    "\n"
   ]
  },
  {
   "cell_type": "markdown",
   "metadata": {},
   "source": [
    "#### 4. Why do we use probability and what's the difficult points for programming based on parsing and pattern match?"
   ]
  },
  {
   "cell_type": "markdown",
   "metadata": {},
   "source": [
    "Ans:\n",
    "\n",
    "概率可以让我们预测事件的结果，来最终影响决策。同时可以让我们更客观的认识世界。\n",
    "\n",
    "what's the difficult points for programming based on parsing and pattern match?\n",
    "\n",
    "（1）解析环节中，如何把不用改代码，可以试用任何语法模板的思想，用代码实现是个难点；需要精熟的代码基础和思维。\n",
    "（2）模式配置中，如何用代码实现公式中的递归嵌套和迭代是个难点；我也是一句一句拆开测试，并且手写推了一遍公式，才勉强搞懂老师代码的意思。\n"
   ]
  },
  {
   "cell_type": "markdown",
   "metadata": {},
   "source": [
    "#### 5. What's the Language Model;"
   ]
  },
  {
   "cell_type": "markdown",
   "metadata": {},
   "source": [
    "Ans:\n",
    "模型是指对事物的数学抽象，语言模型（ＬＭ）指的就是对语言现在的数学抽象；本质上是计算一个给定句子ｗ的出现的概率Ｐ（ｗ）的模型。\n"
   ]
  },
  {
   "cell_type": "markdown",
   "metadata": {},
   "source": [
    "#### 6. Can you came up with some sceneraies at which we could use Language Model?\n"
   ]
  },
  {
   "cell_type": "markdown",
   "metadata": {},
   "source": [
    "Ans:\n",
    "场景一：判断自动翻译的句子是否通顺。\n",
    "场景二：作文的批改\n",
    "场景三：文本的自动纠错　\n"
   ]
  },
  {
   "cell_type": "markdown",
   "metadata": {},
   "source": [
    "#### 7. What's the 1-gram language model;"
   ]
  },
  {
   "cell_type": "markdown",
   "metadata": {},
   "source": [
    "Ans:　ｎ－ｇｒａｍ：每个单词的出现的概率仅取决于之前ｎ个单词。\n",
    "１－ｇｒａｍ就是ｎ等于１；假设每个单词出现的概率取决于之前的１个单词。\n"
   ]
  },
  {
   "cell_type": "markdown",
   "metadata": {},
   "source": [
    "#### 8. What's the disadvantages and advantages of 1-gram language model;"
   ]
  },
  {
   "cell_type": "markdown",
   "metadata": {},
   "source": [
    "Ans: 语言模型是采用“极大似然估计”来计算每个后验概率；主要目的是结果两个问题：\n",
    "（1）数据稀疏，指长度越大的句子，出现的概率会为0\n",
    "（2）计算代价大,句子中n越大，需要存储的代价会越高\n",
    "\n",
    "优点： 1-gram；采用马尔可夫假设对条件概率式子进行了简化；可以解决很大程度上缓解长句出现概率为0的数据稀疏问题；同时式子因为简化，存储空间大大降低了\n",
    "\n",
    "缺点： 该方法的假设本身也带来了“局限性”，只能判断语法是否通顺，无法判断句子前后的逻辑关系是否正确。因此实际应用输出的结果可能不可靠。\n",
    "\n",
    "比如：我在作业1中的一个例子； 您预订的车票（成功|失败），请（按时取票|及时改签）。 \n",
    "可能会输出： “您预订的车票成功，请及时改签” 或“您预订的车票失败，请按时取票”\n",
    "句子的语法是通畅的，但是句意的逻辑错误，这个问题1-gram无法识别。\n",
    "\n"
   ]
  },
  {
   "cell_type": "markdown",
   "metadata": {},
   "source": [
    "#### 9. What't the 2-gram models;"
   ]
  },
  {
   "cell_type": "markdown",
   "metadata": {},
   "source": [
    "Ans\n",
    "\n",
    "2－ｇｒａｍ就是ｎ等于2；假设每个单词出现的概率取决于之前的2个单词。"
   ]
  },
  {
   "cell_type": "markdown",
   "metadata": {},
   "source": [
    "## 编程实践部分"
   ]
  },
  {
   "cell_type": "markdown",
   "metadata": {},
   "source": [
    "#### 1. 设计你自己的句子生成器"
   ]
  },
  {
   "cell_type": "markdown",
   "metadata": {},
   "source": [
    "如何生成句子是一个很经典的问题，从1940s开始，图灵提出机器智能的时候，就使用的是人类能不能流畅和计算机进行对话。和计算机对话的一个前提是，计算机能够生成语言。\n",
    "\n",
    "计算机如何能生成语言是一个经典但是又很复杂的问题。 我们课程上为大家介绍的是一种基于规则（Rule Based）的生成方法。该方法虽然提出的时间早，但是现在依然在很多地方能够大显身手。值得说明的是，现在很多很实用的算法，都是很久之前提出的，例如，二分查找提出与1940s, Dijstra算法提出于1960s 等等。"
   ]
  },
  {
   "cell_type": "markdown",
   "metadata": {},
   "source": [
    "在著名的电视剧，电影《西部世界》中，这些机器人们语言生成的方法就是使用的SyntaxTree生成语言的方法。\n",
    "\n",
    "> \n",
    ">\n",
    "\n",
    "![WstWorld](https://timgsa.baidu.com/timg?image&quality=80&size=b9999_10000&sec=1569578233461&di=4adfa7597fb380e7cc0e67190bbd7605&imgtype=0&src=http%3A%2F%2Fs1.sinaimg.cn%2Flarge%2F006eYYfyzy76cmpG3Yb1f)\n",
    "\n",
    "> \n",
    ">"
   ]
  },
  {
   "cell_type": "markdown",
   "metadata": {},
   "source": [
    "在这一部分，需要各位同学首先定义自己的语言。 大家可以先想一个应用场景，然后在这个场景下，定义语法。例如：\n",
    "\n",
    "在西部世界里，一个”人类“的语言可以定义为：\n",
    "``` \n",
    "human = \"\"\"\n",
    "human = 自己 寻找 活动\n",
    "自己 = 我 | 俺 | 我们 \n",
    "寻找 = 看看 | 找找 | 想找点\n",
    "活动 = 乐子 | 玩的\n",
    "\"\"\"\n",
    "```\n",
    "\n",
    "一个“接待员”的语言可以定义为\n",
    "```\n",
    "host = \"\"\"\n",
    "host = 寒暄 报数 询问 业务相关 结尾 \n",
    "报数 = 我是 数字 号 ,\n",
    "数字 = 单个数字 | 数字 单个数字 \n",
    "单个数字 = 1 | 2 | 3 | 4 | 5 | 6 | 7 | 8 | 9 \n",
    "寒暄 = 称谓 打招呼 | 打招呼\n",
    "称谓 = 人称 ,\n",
    "人称 = 先生 | 女士 | 小朋友\n",
    "打招呼 = 你好 | 您好 \n",
    "询问 = 请问你要 | 您需要\n",
    "业务相关 = 玩玩 具体业务\n",
    "玩玩 = 耍一耍 | 玩一玩\n",
    "具体业务 = 喝酒 | 打牌 | 打猎 | 赌博\n",
    "结尾 = 吗？\"\"\"\n",
    "\n",
    "```\n",
    "\n",
    "\n"
   ]
  },
  {
   "cell_type": "markdown",
   "metadata": {},
   "source": [
    "请定义你自己的语法: "
   ]
  },
  {
   "cell_type": "markdown",
   "metadata": {},
   "source": [
    "第一个语法：\n",
    "应用场景： 火车票预订短信\n",
    "解决问题： 自动发送给用户抢票结果短信"
   ]
  },
  {
   "cell_type": "code",
   "execution_count": 110,
   "metadata": {},
   "outputs": [],
   "source": [
    "Train_booking =  '''\n",
    "Train_booking = 称呼 打招呼 车次确认 抢票　结果 请您 建议措施\n",
    "称呼 = 姓名 性别\n",
    "姓名 = 王铁柱|王尼玛|诸葛钢铁|伊利丹|阿尔萨斯\n",
    "性别 = 先生|女士\n",
    "打招呼 = 早上好，|下午好，|晚上好，|你好，\n",
    "车次确认 = 您预订的 时间 从 始发站 到 终点站 的 车次 列车\n",
    "时间 = 日 时 \n",
    "日 = 1月1号|1月2号|1月3号\n",
    "时 = 6:00|7:00|15:00|20:00\n",
    "始发站　= 北京|天津|大连|广州|深圳\n",
    "终点站　= 武汉|上海|辽宁|新疆|西安\n",
    "车次　=　D23|K19|D35|G138\n",
    "结果　=　成功,|失败,\n",
    "建议措施　=　及时取票。|及时改签其他车次。\n",
    "'''"
   ]
  },
  {
   "cell_type": "markdown",
   "metadata": {},
   "source": [
    "> **评阅点**： 是否提出了和课程上区别较大的语法结构"
   ]
  },
  {
   "cell_type": "markdown",
   "metadata": {},
   "source": [
    "第二个语法：\n",
    "应用场景： 在线直播辅导助教，提醒学员按时出勤 or 提醒学员按时提交作业\n",
    "解决问题：　通过该程序替代辅导助教提醒学员出勤和催作业的工作\n",
    "项目收益： 节省xx名辅导老师，xxh工作时间 "
   ]
  },
  {
   "cell_type": "code",
   "execution_count": 111,
   "metadata": {},
   "outputs": [],
   "source": [
    "teaching_assistant = '''\n",
    "teaching_assistant =  打招呼 自我介绍 课程名 提醒事件 祝福语\n",
    "打招呼 = 学生名 小朋友你好！\n",
    "学生名 = 子轩|佳琪|王二狗|张楚岚|王阳明|科比|伍陆柒|冯宝宝\n",
    "自我介绍 = 我是 公司名 的 老师名 老师\n",
    "公司名 = 【学而思】|【猿辅导】|【新东方】|【大宝丁】|【开课吧】\n",
    "老师名 = 李白|杜甫|白居易|陆羽|图灵|白起\n",
    "课程名 = 你报名的 班级名 ，第 次数 次课 \n",
    "班级名 = 学科名 类别名\n",
    "学科名 = 语文|数学|英语|美容美发|水电焊\n",
    "类别名 = 提高班|加强班|保过班\n",
    "次数 = 1|2|3|4|5\n",
    "提醒事件 = 事件 的时间是 时间 ，请按时 提示动作\n",
    "事件 = 课程开始 | 作业截止\n",
    "时间 = 1月3号|2月4号|下周五|本周三\n",
    "提示动作 = 出勤|提交作业\n",
    "祝福语 = ，加油！| ，好运！\n",
    "'''"
   ]
  },
  {
   "cell_type": "markdown",
   "metadata": {},
   "source": [
    "> **评阅点**：是否和上一个语法区别比较大"
   ]
  },
  {
   "cell_type": "markdown",
   "metadata": {},
   "source": [
    "TODO: 然后，使用自己之前定义的generate函数，使用此函数生成句子。"
   ]
  },
  {
   "cell_type": "markdown",
   "metadata": {},
   "source": [
    "TODO: 然后，定义一个函数，generate_n，将generate扩展，使其能够生成n个句子:"
   ]
  },
  {
   "cell_type": "code",
   "execution_count": 112,
   "metadata": {},
   "outputs": [],
   "source": [
    "import random"
   ]
  },
  {
   "cell_type": "code",
   "execution_count": 113,
   "metadata": {},
   "outputs": [],
   "source": [
    "def generate_grammar(grammar_str: str ,target,split='=' ):\n",
    "    grammar={}\n",
    "    for line in grammar_str.split('\\n'):\n",
    "        if not line: continue\n",
    "        \n",
    "        expression, formula = line.split(split)\n",
    "        \n",
    "        formulas = formula.split('|')\n",
    "        \n",
    "        formulas = [f.split() for f in formulas]\n",
    "        \n",
    "        grammar[expression.strip()] = formulas\n",
    "        \n",
    "       #print(expression,':' ,formulas)\n",
    "    return grammar\n",
    "\n",
    "choice_a_expr = random.choice\n",
    "\n",
    "def generate_by_grammar(grammar:dict,target:str):\n",
    "    if target not in grammar: return target    \n",
    "    expr = choice_a_expr(grammar[target])\n",
    "    \n",
    "    return ''.join( generate_by_grammar(grammar,t) for t in expr)\n",
    "\n",
    "def generate_by_str(grammar_str,split,target):\n",
    "    grammar = generate_grammar(grammar_str , target , split)\n",
    "    return generate_by_grammar(grammar,target)\n"
   ]
  },
  {
   "cell_type": "code",
   "execution_count": 114,
   "metadata": {},
   "outputs": [
    {
     "data": {
      "text/plain": [
       "'伊利丹女士早上好，您预订的1月3号7:00从北京到辽宁的D23列车抢票成功,请您及时改签其他车次。'"
      ]
     },
     "execution_count": 114,
     "metadata": {},
     "output_type": "execute_result"
    }
   ],
   "source": [
    "generate_by_str(Train_booking , target='Train_booking' ,split='=' )"
   ]
  },
  {
   "cell_type": "code",
   "execution_count": 115,
   "metadata": {},
   "outputs": [
    {
     "data": {
      "text/plain": [
       "'佳琪小朋友你好！我是【开课吧】的陆羽老师你报名的语文提高班，第5次课作业截止的时间是本周三，请按时出勤，好运！'"
      ]
     },
     "execution_count": 115,
     "metadata": {},
     "output_type": "execute_result"
    }
   ],
   "source": [
    "generate_by_str(teaching_assistant , target='teaching_assistant' ,split='=' )"
   ]
  },
  {
   "cell_type": "code",
   "execution_count": 116,
   "metadata": {},
   "outputs": [],
   "source": [
    "def generate_n(grammar_str,split,target,n=int):\n",
    "    # you code here \n",
    "    list_sentence=[]\n",
    "    for i in range(n):\n",
    "        grammar = generate_grammar(grammar_str , target , split)\n",
    "        if target not in grammar: return target    \n",
    "        expr = choice_a_expr(grammar[target])\n",
    "        sentence = ''.join( generate_by_grammar(grammar,t) for t in expr)\n",
    "        print(i, ''.join( generate_by_grammar(grammar,t) for t in expr))\n",
    "        list_sentence.append(sentence)\n",
    "    return list_sentence\n",
    "        "
   ]
  },
  {
   "cell_type": "code",
   "execution_count": 117,
   "metadata": {},
   "outputs": [
    {
     "name": "stdout",
     "output_type": "stream",
     "text": [
      "0 王铁柱先生下午好，您预订的1月3号7:00从大连到西安的D23列车抢票失败,请您及时改签其他车次。\n",
      "1 王尼玛女士早上好，您预订的1月3号15:00从广州到辽宁的D35列车抢票失败,请您及时取票。\n",
      "2 阿尔萨斯先生你好，您预订的1月2号7:00从天津到新疆的K19列车抢票失败,请您及时取票。\n",
      "3 王尼玛女士下午好，您预订的1月3号7:00从天津到新疆的D35列车抢票失败,请您及时改签其他车次。\n",
      "4 阿尔萨斯先生你好，您预订的1月3号6:00从广州到上海的K19列车抢票成功,请您及时改签其他车次。\n",
      "5 王铁柱女士晚上好，您预订的1月2号20:00从天津到辽宁的D23列车抢票成功,请您及时取票。\n",
      "6 诸葛钢铁女士你好，您预订的1月1号20:00从北京到上海的D23列车抢票成功,请您及时取票。\n",
      "7 阿尔萨斯先生下午好，您预订的1月1号7:00从北京到辽宁的K19列车抢票成功,请您及时取票。\n",
      "8 王尼玛先生早上好，您预订的1月3号6:00从广州到武汉的G138列车抢票失败,请您及时取票。\n",
      "9 诸葛钢铁先生你好，您预订的1月1号20:00从天津到新疆的D23列车抢票失败,请您及时改签其他车次。\n"
     ]
    },
    {
     "data": {
      "text/plain": [
       "['王铁柱先生晚上好，您预订的1月1号6:00从广州到辽宁的D35列车抢票失败,请您及时改签其他车次。',\n",
       " '伊利丹女士下午好，您预订的1月2号15:00从大连到辽宁的K19列车抢票失败,请您及时取票。',\n",
       " '诸葛钢铁女士你好，您预订的1月3号6:00从大连到上海的D23列车抢票失败,请您及时改签其他车次。',\n",
       " '伊利丹女士下午好，您预订的1月3号7:00从广州到武汉的D23列车抢票失败,请您及时取票。',\n",
       " '王铁柱先生早上好，您预订的1月2号6:00从天津到上海的K19列车抢票成功,请您及时取票。',\n",
       " '王铁柱先生你好，您预订的1月2号15:00从北京到新疆的D23列车抢票成功,请您及时改签其他车次。',\n",
       " '阿尔萨斯女士下午好，您预订的1月3号20:00从北京到武汉的D35列车抢票失败,请您及时取票。',\n",
       " '王铁柱女士晚上好，您预订的1月2号6:00从天津到武汉的G138列车抢票失败,请您及时改签其他车次。',\n",
       " '阿尔萨斯女士早上好，您预订的1月3号7:00从大连到西安的K19列车抢票失败,请您及时改签其他车次。',\n",
       " '阿尔萨斯女士下午好，您预订的1月2号15:00从深圳到辽宁的D35列车抢票失败,请您及时改签其他车次。']"
      ]
     },
     "execution_count": 117,
     "metadata": {},
     "output_type": "execute_result"
    }
   ],
   "source": [
    "generate_n(Train_booking , target='Train_booking' ,split='=' ,n=10)"
   ]
  },
  {
   "cell_type": "code",
   "execution_count": 118,
   "metadata": {},
   "outputs": [
    {
     "name": "stdout",
     "output_type": "stream",
     "text": [
      "0 冯宝宝小朋友你好！我是【猿辅导】的白居易老师你报名的语文加强班，第3次课课程开始的时间是1月3号，请按时出勤，好运！\n",
      "1 佳琪小朋友你好！我是【新东方】的李白老师你报名的英语提高班，第4次课课程开始的时间是1月3号，请按时提交作业，好运！\n",
      "2 张楚岚小朋友你好！我是【新东方】的白居易老师你报名的英语保过班，第4次课课程开始的时间是下周五，请按时提交作业，好运！\n",
      "3 王二狗小朋友你好！我是【学而思】的陆羽老师你报名的英语加强班，第2次课作业截止的时间是1月3号，请按时提交作业，好运！\n",
      "4 伍陆柒小朋友你好！我是【开课吧】的陆羽老师你报名的数学提高班，第5次课作业截止的时间是1月3号，请按时提交作业，加油！\n",
      "5 子轩小朋友你好！我是【大宝丁】的李白老师你报名的水电焊加强班，第4次课课程开始的时间是下周五，请按时提交作业，加油！\n",
      "6 伍陆柒小朋友你好！我是【新东方】的白起老师你报名的美容美发保过班，第5次课作业截止的时间是1月3号，请按时出勤，好运！\n",
      "7 冯宝宝小朋友你好！我是【新东方】的图灵老师你报名的水电焊加强班，第3次课课程开始的时间是本周三，请按时出勤，好运！\n",
      "8 张楚岚小朋友你好！我是【大宝丁】的白居易老师你报名的美容美发提高班，第3次课作业截止的时间是1月3号，请按时提交作业，加油！\n",
      "9 佳琪小朋友你好！我是【猿辅导】的白居易老师你报名的语文提高班，第4次课课程开始的时间是本周三，请按时提交作业，好运！\n",
      "10 王二狗小朋友你好！我是【猿辅导】的陆羽老师你报名的水电焊保过班，第2次课课程开始的时间是下周五，请按时出勤，好运！\n",
      "11 王阳明小朋友你好！我是【猿辅导】的李白老师你报名的水电焊提高班，第5次课作业截止的时间是本周三，请按时出勤，好运！\n",
      "12 张楚岚小朋友你好！我是【新东方】的白起老师你报名的美容美发加强班，第3次课作业截止的时间是下周五，请按时提交作业，好运！\n",
      "13 伍陆柒小朋友你好！我是【猿辅导】的白起老师你报名的数学提高班，第2次课课程开始的时间是1月3号，请按时出勤，加油！\n",
      "14 科比小朋友你好！我是【学而思】的白居易老师你报名的语文加强班，第4次课课程开始的时间是2月4号，请按时提交作业，好运！\n"
     ]
    },
    {
     "data": {
      "text/plain": [
       "['佳琪小朋友你好！我是【猿辅导】的白起老师你报名的美容美发加强班，第1次课作业截止的时间是2月4号，请按时出勤，好运！',\n",
       " '佳琪小朋友你好！我是【学而思】的图灵老师你报名的数学加强班，第5次课作业截止的时间是2月4号，请按时提交作业，加油！',\n",
       " '子轩小朋友你好！我是【学而思】的白起老师你报名的水电焊加强班，第3次课课程开始的时间是下周五，请按时提交作业，好运！',\n",
       " '科比小朋友你好！我是【开课吧】的图灵老师你报名的美容美发提高班，第1次课课程开始的时间是2月4号，请按时提交作业，加油！',\n",
       " '张楚岚小朋友你好！我是【猿辅导】的陆羽老师你报名的英语加强班，第4次课作业截止的时间是1月3号，请按时出勤，加油！',\n",
       " '王阳明小朋友你好！我是【开课吧】的白居易老师你报名的水电焊加强班，第5次课作业截止的时间是1月3号，请按时出勤，加油！',\n",
       " '王二狗小朋友你好！我是【开课吧】的杜甫老师你报名的数学提高班，第1次课作业截止的时间是1月3号，请按时提交作业，好运！',\n",
       " '伍陆柒小朋友你好！我是【新东方】的白居易老师你报名的语文加强班，第1次课课程开始的时间是2月4号，请按时出勤，加油！',\n",
       " '佳琪小朋友你好！我是【猿辅导】的杜甫老师你报名的英语保过班，第5次课课程开始的时间是下周五，请按时出勤，加油！',\n",
       " '科比小朋友你好！我是【学而思】的李白老师你报名的英语保过班，第3次课课程开始的时间是下周五，请按时提交作业，加油！',\n",
       " '王阳明小朋友你好！我是【学而思】的陆羽老师你报名的数学提高班，第4次课作业截止的时间是1月3号，请按时出勤，好运！',\n",
       " '佳琪小朋友你好！我是【猿辅导】的杜甫老师你报名的英语加强班，第2次课作业截止的时间是2月4号，请按时出勤，加油！',\n",
       " '张楚岚小朋友你好！我是【学而思】的李白老师你报名的数学提高班，第4次课作业截止的时间是2月4号，请按时提交作业，加油！',\n",
       " '科比小朋友你好！我是【学而思】的白居易老师你报名的英语提高班，第3次课课程开始的时间是1月3号，请按时提交作业，加油！',\n",
       " '王阳明小朋友你好！我是【大宝丁】的陆羽老师你报名的水电焊提高班，第2次课作业截止的时间是2月4号，请按时提交作业，好运！']"
      ]
     },
     "execution_count": 118,
     "metadata": {},
     "output_type": "execute_result"
    }
   ],
   "source": [
    "generate_n(teaching_assistant , target='teaching_assistant' ,split='=' ,n=15)"
   ]
  },
  {
   "cell_type": "markdown",
   "metadata": {},
   "source": [
    "> **评阅点**; 运行代码，观察是否能够生成多个句子"
   ]
  },
  {
   "cell_type": "markdown",
   "metadata": {},
   "source": [
    "#### 2. 使用新数据源完成语言模型的训练"
   ]
  },
  {
   "cell_type": "markdown",
   "metadata": {},
   "source": [
    "按照我们上文中定义的`prob_2`函数，我们更换一个文本数据源，获得新的Language Model:\n",
    "\n",
    "1. 下载文本数据集（你可以在以下数据集中任选一个，也可以两个都使用）\n",
    "    + 可选数据集1，保险行业问询对话集： https://github.com/Computing-Intelligence/insuranceqa-corpus-zh/raw/release/corpus/pool/train.txt.gz\n",
    "    + 可选数据集2：豆瓣评论数据集：https://github.com/Computing-Intelligence/datasource/raw/master/movie_comments.csv\n",
    "2. 修改代码，获得新的**2-gram**语言模型\n",
    "    + 进行文本清洗，获得所有的纯文本\n",
    "    + 将这些文本进行切词\n",
    "    + 送入之前定义的语言模型中，判断文本的合理程度"
   ]
  },
  {
   "cell_type": "code",
   "execution_count": 119,
   "metadata": {},
   "outputs": [],
   "source": [
    "import pandas as pd\n",
    "import random\n",
    "import re"
   ]
  },
  {
   "cell_type": "code",
   "execution_count": 120,
   "metadata": {},
   "outputs": [],
   "source": [
    "filename_train = 'C:\\\\Users\\\\wnapple\\\\Desktop\\\\dataset\\\\train.txt'         "
   ]
  },
  {
   "cell_type": "code",
   "execution_count": 121,
   "metadata": {},
   "outputs": [],
   "source": [
    "filename_movie = 'C:\\\\Users\\\\wnapple\\\\Desktop\\\\dataset\\\\movie_comments.csv'  "
   ]
  },
  {
   "cell_type": "code",
   "execution_count": 122,
   "metadata": {},
   "outputs": [
    {
     "name": "stderr",
     "output_type": "stream",
     "text": [
      "E:\\aconda\\lib\\site-packages\\IPython\\core\\interactiveshell.py:3057: DtypeWarning: Columns (0,4) have mixed types. Specify dtype option on import or set low_memory=False.\n",
      "  interactivity=interactivity, compiler=compiler, result=result)\n"
     ]
    }
   ],
   "source": [
    "content_movie = pd.read_csv(filename_movie)            #读取 电影文件"
   ]
  },
  {
   "cell_type": "code",
   "execution_count": 123,
   "metadata": {
    "scrolled": true
   },
   "outputs": [
    {
     "data": {
      "text/html": [
       "<div>\n",
       "<style scoped>\n",
       "    .dataframe tbody tr th:only-of-type {\n",
       "        vertical-align: middle;\n",
       "    }\n",
       "\n",
       "    .dataframe tbody tr th {\n",
       "        vertical-align: top;\n",
       "    }\n",
       "\n",
       "    .dataframe thead th {\n",
       "        text-align: right;\n",
       "    }\n",
       "</style>\n",
       "<table border=\"1\" class=\"dataframe\">\n",
       "  <thead>\n",
       "    <tr style=\"text-align: right;\">\n",
       "      <th></th>\n",
       "      <th>id</th>\n",
       "      <th>link</th>\n",
       "      <th>name</th>\n",
       "      <th>comment</th>\n",
       "      <th>star</th>\n",
       "    </tr>\n",
       "  </thead>\n",
       "  <tbody>\n",
       "    <tr>\n",
       "      <th>0</th>\n",
       "      <td>1</td>\n",
       "      <td>https://movie.douban.com/subject/26363254/</td>\n",
       "      <td>战狼2</td>\n",
       "      <td>吴京意淫到了脑残的地步，看了恶心想吐</td>\n",
       "      <td>1</td>\n",
       "    </tr>\n",
       "    <tr>\n",
       "      <th>1</th>\n",
       "      <td>2</td>\n",
       "      <td>https://movie.douban.com/subject/26363254/</td>\n",
       "      <td>战狼2</td>\n",
       "      <td>首映礼看的。太恐怖了这个电影，不讲道理的，完全就是吴京在实现他这个小粉红的英雄梦。各种装备轮...</td>\n",
       "      <td>2</td>\n",
       "    </tr>\n",
       "    <tr>\n",
       "      <th>2</th>\n",
       "      <td>3</td>\n",
       "      <td>https://movie.douban.com/subject/26363254/</td>\n",
       "      <td>战狼2</td>\n",
       "      <td>吴京的炒作水平不输冯小刚，但小刚至少不会用主旋律来炒作…吴京让人看了不舒服，为了主旋律而主旋...</td>\n",
       "      <td>2</td>\n",
       "    </tr>\n",
       "    <tr>\n",
       "      <th>3</th>\n",
       "      <td>4</td>\n",
       "      <td>https://movie.douban.com/subject/26363254/</td>\n",
       "      <td>战狼2</td>\n",
       "      <td>凭良心说，好看到不像《战狼1》的续集，完虐《湄公河行动》。</td>\n",
       "      <td>4</td>\n",
       "    </tr>\n",
       "    <tr>\n",
       "      <th>4</th>\n",
       "      <td>5</td>\n",
       "      <td>https://movie.douban.com/subject/26363254/</td>\n",
       "      <td>战狼2</td>\n",
       "      <td>中二得很</td>\n",
       "      <td>1</td>\n",
       "    </tr>\n",
       "  </tbody>\n",
       "</table>\n",
       "</div>"
      ],
      "text/plain": [
       "  id                                        link name  \\\n",
       "0  1  https://movie.douban.com/subject/26363254/  战狼2   \n",
       "1  2  https://movie.douban.com/subject/26363254/  战狼2   \n",
       "2  3  https://movie.douban.com/subject/26363254/  战狼2   \n",
       "3  4  https://movie.douban.com/subject/26363254/  战狼2   \n",
       "4  5  https://movie.douban.com/subject/26363254/  战狼2   \n",
       "\n",
       "                                             comment star  \n",
       "0                                 吴京意淫到了脑残的地步，看了恶心想吐    1  \n",
       "1  首映礼看的。太恐怖了这个电影，不讲道理的，完全就是吴京在实现他这个小粉红的英雄梦。各种装备轮...    2  \n",
       "2  吴京的炒作水平不输冯小刚，但小刚至少不会用主旋律来炒作…吴京让人看了不舒服，为了主旋律而主旋...    2  \n",
       "3                      凭良心说，好看到不像《战狼1》的续集，完虐《湄公河行动》。    4  \n",
       "4                                               中二得很    1  "
      ]
     },
     "execution_count": 123,
     "metadata": {},
     "output_type": "execute_result"
    }
   ],
   "source": [
    "content_movie.head() "
   ]
  },
  {
   "cell_type": "code",
   "execution_count": 124,
   "metadata": {
    "scrolled": true
   },
   "outputs": [
    {
     "name": "stderr",
     "output_type": "stream",
     "text": [
      "E:\\aconda\\lib\\site-packages\\ipykernel_launcher.py:1: FutureWarning: read_table is deprecated, use read_csv instead, passing sep='\\t'.\n",
      "  \"\"\"Entry point for launching an IPython kernel.\n"
     ]
    }
   ],
   "source": [
    "content_train = pd.read_table(filename_train,encoding='utf-8') #读取 保险文件"
   ]
  },
  {
   "cell_type": "code",
   "execution_count": 125,
   "metadata": {},
   "outputs": [],
   "source": [
    "comment_movie = content_movie['comment'].tolist()  # 将电影文件评论列存到list"
   ]
  },
  {
   "cell_type": "code",
   "execution_count": 126,
   "metadata": {},
   "outputs": [],
   "source": [
    "comment_train =content_train['0 ++$++ disability-insurance ++$++ 法律要求残疾保险吗？ ++$++ Is  Disability  Insurance  Required  By  Law?'].tolist()"
   ]
  },
  {
   "cell_type": "code",
   "execution_count": 127,
   "metadata": {},
   "outputs": [
    {
     "data": {
      "text/plain": [
       "['1 ++$++ life-insurance ++$++ 债权人可以在死后人寿保险吗？ ++$++ Can  Creditors  Take  Life  Insurance  After  Death?',\n",
       " '2 ++$++ renters-insurance ++$++ 旅行者保险有租赁保险吗？ ++$++ Does  Travelers  Insurance  Have  Renters  Insurance?',\n",
       " '3 ++$++ auto-insurance ++$++ 我可以开一辆没有保险的新车吗？ ++$++ Can  I  Drive  A  New  Car  Home  Without  Insurance?',\n",
       " '4 ++$++ life-insurance ++$++ 人寿保险的现金转出价值是否应纳税？ ++$++ Is  The  Cash  Surrender  Value  Of  Life  Insurance  Taxable?',\n",
       " '5 ++$++ annuities ++$++ 如何报告年金收入？ ++$++ How  Is  Annuity  Income  Reported?',\n",
       " '6 ++$++ home-insurance ++$++ AAA家庭保险涵盖什么？ ++$++ What  Does  AAA  Home  Insurance  Cover?',\n",
       " '7 ++$++ retirement-plans ++$++ 什么是简单的退休计划？ ++$++ What  Is  A  Simple  Retirement  Plan?',\n",
       " '8 ++$++ disability-insurance ++$++ 社会保险残疾保险是什么？ ++$++ What  Does  Social  Security  Disability  Insurance  Cover?',\n",
       " '9 ++$++ auto-insurance ++$++ 汽车保险是否预付？ ++$++ Is  Car  Insurance  Prepaid?',\n",
       " '10 ++$++ medicare-insurance ++$++ 医疗保险B部分盖什么？ ++$++ What  Does  Medicare  Part  B  Cover?',\n",
       " '11 ++$++ life-insurance ++$++ 退伍军人能否获得人寿保险？ ++$++ Can  Veterans  Get  Life  Insurance?',\n",
       " '12 ++$++ home-insurance ++$++ 我的房主保险是否包括失去的结婚戒指？ ++$++ Does  My  Homeowners  Insurance  Cover  Lost  Wedding  Ring?',\n",
       " '13 ++$++ auto-insurance ++$++ 分配风险汽车保险如何工作？ ++$++ How  Does  Assigned  Risk  Auto  Insurance  Work?',\n",
       " '14 ++$++ auto-insurance ++$++ 我的男朋友可以加我的汽车保险吗？ ++$++ Can  My  Boyfriend  Add  Me  To  His  Car  Insurance?',\n",
       " '15 ++$++ auto-insurance ++$++ 我是否需要提交私人财产车祸索赔的警察报告？ ++$++ Do  I  Need  A  Police  Report  To  Submit  A  Claim  For  A  Car  Accident  On  Private  Property?',\n",
       " '16 ++$++ auto-insurance ++$++ 全覆盖汽车保险盖修理？ ++$++ Does  Full  Coverage  Auto  Insurance  Cover  Repairs?',\n",
       " '17 ++$++ life-insurance ++$++ 人生在伊斯兰教中是否可以接受？ ++$++ Is  Life  Insurance  Acceptable  In  Islam?',\n",
       " '18 ++$++ health-insurance ++$++ 健康保险是否覆盖管道逆转？ ++$++ Will  Health  Insurance  Cover  A  Tubal  Reversal?',\n",
       " '19 ++$++ life-insurance ++$++ 如果您已经诊断为乳腺癌，您可以获得多大的人寿保险？ ++$++ How  Much  Life  Insurance  Can  You  Get  If  You  Have  Been  Diagnosed  With  Breast  Cancer?',\n",
       " '20 ++$++ medicare-insurance ++$++ 我需要注册医疗保险？ ++$++ What  Do  I  Need  To  Register  For  Medicare?',\n",
       " '21 ++$++ disability-insurance ++$++ 短期残疾保险是否工作？ ++$++ Does  Short  Term  Disability  Insurance  Work?',\n",
       " '22 ++$++ home-insurance ++$++ 房主保险盖池？ ++$++ Will  Homeowners  Insurance  Cover  Pool?',\n",
       " '23 ++$++ medicare-insurance ++$++ 什么时候要注册医疗保险？ ++$++ When  Do  I  Have  To  Sign  Up  For  Medicare?',\n",
       " '24 ++$++ auto-insurance ++$++ MIP会影响我的汽车保险吗？ ++$++ Will  An  MIP  Affect  My  Car  Insurance?',\n",
       " '25 ++$++ life-insurance ++$++ 蓝十字蓝盾有人寿保险吗？ ++$++ Does  Blue  Cross  Blue  Shield  Have  Life  Insurance?',\n",
       " '26 ++$++ long-term-care-insurance ++$++ 长期护理保险的优点和缺点是什么？ ++$++ What  Are  The  Advantages  And  Disadvantages  To  Long  Term  Care  Insurance?',\n",
       " '27 ++$++ medicare-insurance ++$++ 医疗保险支付生命预警？ ++$++ Will  Medicare  Pay  For  Life  Alert?',\n",
       " '28 ++$++ life-insurance ++$++ 我应该买哪种人寿？ ++$++ Which  Life  Insurance  Should  I  Buy?',\n",
       " '29 ++$++ medicare-insurance ++$++ 医疗保险支付HPV筛查吗？ ++$++ Does  Medicare  Pay  For  HPV  Screening?',\n",
       " '30 ++$++ life-insurance ++$++ 哪个是最好的人寿保险？ ++$++ Which  Is  The  Best  Life  Insurance  To  Get?',\n",
       " '31 ++$++ long-term-care-insurance ++$++ 长期护理保险费用多少？ ++$++ How  Much  Should  Long  Term  Care  Insurance  Cost?',\n",
       " '32 ++$++ annuities ++$++ 固定年金如何安全？ ++$++ How  Safe  Are  Fixed  Annuities?',\n",
       " '33 ++$++ life-insurance ++$++ 要解决人寿保险索赔需要多长时间？ ++$++ How  Long  Does  It  Take  To  Settle  A  Life  Insurance  Claim?',\n",
       " '34 ++$++ auto-insurance ++$++ 是否检查汽车保险信贷？ ++$++ Is  Car  Insurance  Credit  Checked?',\n",
       " '35 ++$++ long-term-care-insurance ++$++ 我可以使用HSA支付长期护理保险吗？ ++$++ Can  I  Use  HSA  To  Pay  For  Long  Term  Care  Insurance?',\n",
       " '36 ++$++ health-insurance ++$++ 雇主可以向吸烟者收取更多健康保险费吗？ ++$++ Can  Employers  Charge  Smokers  More  For  Health  Insurance?',\n",
       " '37 ++$++ home-insurance ++$++ 房屋所有权保险通常覆盖什么？ ++$++ What  Does  Home  Owners  Insurance  Usually  Cover?',\n",
       " '38 ++$++ health-insurance ++$++ 没有健康保险的超声波成本是多少？ ++$++ How  Much  Does  An  Ultrasound  Cost  Without  Health  Insurance?',\n",
       " '39 ++$++ life-insurance ++$++ 什么是10年期人寿保险？ ++$++ What  Is  10  Yr  Term  Life  Insurance?',\n",
       " '40 ++$++ retirement-plans ++$++ 你可以把钱放在一个401K和一个Roth IRA？ ++$++ Can  You  Put  Money  In  A  401K  And  A  Roth  IRA?',\n",
       " '41 ++$++ health-insurance ++$++ 我可以用丙型肝炎保险吗？ ++$++ Can  I  Get  Health  Insurance  With  Hepatitis  C?',\n",
       " '42 ++$++ medicare-insurance ++$++ 什么时候可以注册医疗保险A部分？ ++$++ When  Can  I  Enroll  In  Medicare  Part  A?',\n",
       " '43 ++$++ health-insurance ++$++ 健康保险何时起源？ ++$++ When  Did  Health  Insurance  Originate?',\n",
       " '44 ++$++ health-insurance ++$++ 医疗保险有多重要？ ++$++ How  Important  Is  Health  Care  Insurance?',\n",
       " '45 ++$++ renters-insurance ++$++ 租用保险费用多少？ ++$++ How  Much  Does  It  Cost  To  Get  Renters  Insurance?',\n",
       " '46 ++$++ home-insurance ++$++ 我的家庭保险是否覆盖盗窃？ ++$++ Does  My  Home  Insurance  Cover  Theft?',\n",
       " '47 ++$++ renters-insurance ++$++ 租户保险如何受益业主？ ++$++ How  Does  Renters  Insurance  Benefit  The  Landlord?',\n",
       " '48 ++$++ health-insurance ++$++ 俄亥俄州雇主是否必须提供健康保险？ ++$++ Do  Ohio  Employers  Have  To  Offer  Health  Insurance?',\n",
       " '49 ++$++ auto-insurance ++$++ 我应该有多少汽车保险？ ++$++ How  Much  Auto  Insurance  Should  I  Have?',\n",
       " '50 ++$++ home-insurance ++$++ 为什么房主保险增加？ ++$++ Why  Does  Homeowners  Insurance  Increase?',\n",
       " '51 ++$++ medicare-insurance ++$++ 谁能买医保？ ++$++ Who  Can  Buy  Medicare?',\n",
       " '52 ++$++ medicare-insurance ++$++ 如何清除Medicare B部分？ ++$++ How  To  Remove  Medicare  Part  B?',\n",
       " '53 ++$++ long-term-care-insurance ++$++ 在什么年龄我应该得到长期护理保险？ ++$++ At  What  Age  Should  I  Get  Long  Term  Care  Insurance?',\n",
       " '54 ++$++ life-insurance ++$++ 人寿保险死亡福利是否应纳税？ ++$++ When  Are  Life  Insurance  Death  Benefits  Taxable?',\n",
       " '55 ++$++ medicare-insurance ++$++ 什么是医疗储蓄计划？ ++$++ What  Are  Medicare  Savings  Programs?',\n",
       " '56 ++$++ home-insurance ++$++ 房主保险是否向其他狗盖狗叮咬？ ++$++ Does  Homeowners  Insurance  Cover  Dog  Bites  To  Other  Dogs?',\n",
       " '57 ++$++ medicare-insurance ++$++ 医疗保险计划盖什么？ ++$++ What  Does  Medicare  Plan  A  Cover?',\n",
       " '58 ++$++ life-insurance ++$++ 全人寿保险是一个好的选择吗？ ++$++ Is  Whole  Life  Insurance  A  Good  Option?',\n",
       " '59 ++$++ health-insurance ++$++ 雇主可以提供不同数额的健康保险吗？ ++$++ Can  Employers  Contribute  Different  Amounts  Health  Insurance?',\n",
       " '60 ++$++ medicare-insurance ++$++ 将来会发生什么医疗保险？ ++$++ What  Will  Happen  To  Medicare  In  The  Future?',\n",
       " '61 ++$++ life-insurance ++$++ 一般人寿保险？ ++$++ Can  The  General  Life  Insurance?',\n",
       " '62 ++$++ auto-insurance ++$++ 我的汽车保险是否会如果得到机票呢？ ++$++ Will  My  Auto  Insurance  Go  Up  If  Get  Ticket?',\n",
       " '63 ++$++ renters-insurance ++$++ 租客保险是否包括盗窃？ ++$++ Does  Renters  Insurance  Include  Theft?',\n",
       " '64 ++$++ renters-insurance ++$++ 什么是租赁保险？ ++$++ What  Is  A  Renters  Insurance  Policy?',\n",
       " '65 ++$++ home-insurance ++$++ 如何计算家庭保险？ ++$++ How  Is  Home  Insurance  Calculated?',\n",
       " '66 ++$++ home-insurance ++$++ 房主保险是否覆盖下水道维修？ ++$++ Does  Homeowners  Insurance  Cover  Sewer  Repair?',\n",
       " '67 ++$++ long-term-care-insurance ++$++ AARP是否有长期护理保险？ ++$++ Does  AARP  Have  Long  Term  Care  Insurance?',\n",
       " '68 ++$++ disability-insurance ++$++ 短期残疾考虑健康保险吗？ ++$++ Is  Short  Term  Disability  Considered  Health  Insurance?',\n",
       " '69 ++$++ life-insurance ++$++ 在什么年龄你应该得到人寿保险？ ++$++ At  What  Age  Should  You  Get  Life  Insurance?',\n",
       " '70 ++$++ home-insurance ++$++ 旅行者家庭保险好吗？ ++$++ Is  Travelers  Home  Insurance  Any  Good?',\n",
       " '71 ++$++ medicare-insurance ++$++ 谁能得到医疗保险？ ++$++ Who  Can  Get  On  Medicare?',\n",
       " '72 ++$++ renters-insurance ++$++ 谁有最优惠的租金保险费率？ ++$++ Who  Has  The  Best  Rates  For  Renters  Insurance?',\n",
       " '73 ++$++ auto-insurance ++$++ 谁能驾驶你的车在你的保险？ ++$++ Who  Can  Drive  Your  Car  Under  Your  Insurance?',\n",
       " '74 ++$++ medicare-insurance ++$++ 医疗保险可以支付养老院吗？ ++$++ Can  Medicare  Pay  For  Nursing  Homes?',\n",
       " '75 ++$++ auto-insurance ++$++ 如果汽车保险失败，会发生什么？ ++$++ What  Happens  If  Car  Insurance  Lapses?',\n",
       " '76 ++$++ home-insurance ++$++ 车库门由房主保险覆盖？ ++$++ Is  Garage  Door  Covered  By  Homeowners  Insurance?',\n",
       " '77 ++$++ medicare-insurance ++$++ 我在哪里注册医疗保险？ ++$++ Where  Do  I  Sign  Up  For  Medicare?',\n",
       " '78 ++$++ auto-insurance ++$++ 如何获得汽车保险最佳交易？ ++$++ How  To  Get  The  Best  Deal  On  Auto  Insurance?',\n",
       " '79 ++$++ medicare-insurance ++$++ 在新泽西州如何申请Medicare Part D？ ++$++ How  Do  You  Apply  For  Medicare  Part  D  In  New  Jersey?',\n",
       " '80 ++$++ renters-insurance ++$++ 哪家公司提供最佳租赁保险？ ++$++ Which  Company  Offers  The  Best  Renters  Insurance?',\n",
       " '81 ++$++ life-insurance ++$++ 全人寿保险有哪些特点？ ++$++ What  Are  Some  Characteristics  Of  Whole  Life  Insurance?',\n",
       " '82 ++$++ annuities ++$++ 什么是年金种现金流？ ++$++ What  Is  Annuity  Kind  Of  Cash  Flow?',\n",
       " '83 ++$++ life-insurance ++$++ 可以在乳腺癌后获得人身保险吗？ ++$++ Can  You  Get  Life  Insurance  After  Breast  Cancer?',\n",
       " '84 ++$++ auto-insurance ++$++ 如何找出多少汽车保险呢？ ++$++ How  To  Figure  Out  How  Much  Car  Insurance  Will  Be?',\n",
       " '85 ++$++ retirement-plans ++$++ 如何计划退休与401K？ ++$++ How  To  Plan  For  Retirement  With  A  401K?',\n",
       " '86 ++$++ health-insurance ++$++ 什么是不符合奥巴马的健康保险的税收减免？ ++$++ What  Is  The  Tax  Penalty  For  Not  Having  Health  Insurance  Under  Obamacare?',\n",
       " '87 ++$++ medicare-insurance ++$++ 你能失去医疗福利吗？ ++$++ Can  You  Lose  Medicare  Benefits?',\n",
       " '88 ++$++ home-insurance ++$++ 房主保险是否会损失钻石？ ++$++ Will  Homeowners  Insurance  Cover  A  Lost  Diamond?',\n",
       " '89 ++$++ long-term-care-insurance ++$++ 长期护理保险费用多少？ ++$++ How  Much  Do  Long  Term  Care  Insurance  Policies  Cost?',\n",
       " '90 ++$++ life-insurance ++$++ 何时应该停止支付人寿保险？ ++$++ When  Should  I  Stop  Paying  For  Life  Insurance?',\n",
       " '91 ++$++ medicare-insurance ++$++ 你去医疗保险什么年龄？ ++$++ What  Age  Do  You  Go  On  Medicare?',\n",
       " '92 ++$++ life-insurance ++$++ 人寿保险公司如何吸烟？ ++$++ How  Can  Life  Insurance  Companies  Tell  If  You  Are  A  Smoker?',\n",
       " '93 ++$++ long-term-care-insurance ++$++ 如何确定您是否需要长期护理保险？ ++$++ How  To  Determine  If  You  Need  Long  Term  Care  Insurance?',\n",
       " '94 ++$++ auto-insurance ++$++ 谁制造汽车保险？ ++$++ Who  Made  Car  Insurance  Mandatory?',\n",
       " '95 ++$++ life-insurance ++$++ 什么时候应该得到期限人寿保险？ ++$++ When  Should  I  Get  Term  Life  Insurance?',\n",
       " '96 ++$++ auto-insurance ++$++ 信用与汽车保险有什么关系？ ++$++ What  Does  Credit  Have  To  Do  With  Auto  Insurance?',\n",
       " '97 ++$++ home-insurance ++$++ 家庭保险是否支付屋顶更换？ ++$++ Will  Home  Insurance  Pay  For  Roof  Replacement?',\n",
       " '98 ++$++ auto-insurance ++$++ 谁拥有最好和最便宜的汽车保险？ ++$++ Who  Has  The  Best  And  Cheapest  Car  Insurance?',\n",
       " '99 ++$++ auto-insurance ++$++ 你能租汽车保险吗？ ++$++ Can  You  Rent  A  Uhaul  With  Car  Insurance?',\n",
       " \"100 ++$++ home-insurance ++$++ 房主保险涵盖什么？ ++$++ What's  Covered  In  Homeowners  Insurance?\",\n",
       " '101 ++$++ long-term-care-insurance ++$++ 我可以为我母亲购买长期护理保险吗？ ++$++ Can  I  Buy  Long  Term  Care  Insurance  For  My  Mother?',\n",
       " '102 ++$++ life-insurance ++$++ 什么是完全实行人寿保险？ ++$++ What  Is  A  Fully  Paid-Up  Life  Insurance  Policy?',\n",
       " '103 ++$++ life-insurance ++$++ 我可以得到高血压的人寿保险吗？ ++$++ Can  I  Get  Life  Insurance  With  Hypertension?',\n",
       " '104 ++$++ renters-insurance ++$++ 如何找到好的租客保险？ ++$++ How  To  Find  Good  Renters  Insurance?',\n",
       " '105 ++$++ auto-insurance ++$++ 什么是考虑用于保险目的的跑车？ ++$++ What  Is  Considered  A  Sports  Car  For  Insurance  Purposes?',\n",
       " '106 ++$++ home-insurance ++$++ 家庭保险涵盖什么？ ++$++ What  Is  Covered  Under  Home  Insurance?',\n",
       " '107 ++$++ retirement-plans ++$++ 为什么现在重新计划退休？ ++$++ Why  Is  It  Important  To  Plan  For  Retirement  Now?',\n",
       " '108 ++$++ auto-insurance ++$++ 为什么要为汽车保险付钱？ ++$++ Why  Do  Guys  Pay  More  For  Car  Insurance?',\n",
       " '109 ++$++ home-insurance ++$++ 移动家庭保险如何便宜？ ++$++ How  Cheap  Is  Mobile  Home  Insurance?',\n",
       " '110 ++$++ life-insurance ++$++ 可以在乳腺癌后获得人身保险吗？ ++$++ Can  I  Get  Life  Insurance  After  Breast  Cancer?',\n",
       " '111 ++$++ disability-insurance ++$++ 多少人使用残疾保险？ ++$++ How  Many  People  Use  Disability  Insurance?',\n",
       " '112 ++$++ auto-insurance ++$++ 您的汽车保险涵盖谁？ ++$++ Who  Is  Covered  Under  Your  Auto  Insurance?',\n",
       " '113 ++$++ medicare-insurance ++$++ 什么是Medigap计划？ ++$++ What  Is  A  Medigap  Plan?',\n",
       " '114 ++$++ health-insurance ++$++ 如何增加健康保险？ ++$++ How  To  Add  A  Dependent  To  Health  Insurance?',\n",
       " '115 ++$++ disability-insurance ++$++ 长期残疾保险多久？ ++$++ How  Long  Does  Long  Term  Disability  Insurance  Last?',\n",
       " '116 ++$++ life-insurance ++$++ 全人寿保险不好吗 ++$++ Is  Whole  Life  Insurance  Bad?',\n",
       " '117 ++$++ auto-insurance ++$++ 犹他州的平均车险是多少？ ++$++ What  Is  The  Average  Car  Insurance  Rate  In  Utah?',\n",
       " '118 ++$++ life-insurance ++$++ 伟大的西方人寿是否涵盖旅游保险？ ++$++ Does  Great  West  Life  Cover  Travel  Insurance?',\n",
       " '119 ++$++ life-insurance ++$++ 定期人寿保险在特定年龄结束吗？ ++$++ Does  Term  Life  Insurance  End  At  A  Certain  Age?',\n",
       " '120 ++$++ home-insurance ++$++ 房主保险是否覆盖火器？ ++$++ Does  Homeowners  Insurance  Cover  Firearms?',\n",
       " '121 ++$++ retirement-plans ++$++ 共同基金的资产净值是多少？ ++$++ What  Is  Net  Asset  Value  Of  A  Mutual  Fund?',\n",
       " '122 ++$++ health-insurance ++$++ 哪些国家有最好的健康保险？ ++$++ Which  States  Have  The  Best  Health  Insurance?',\n",
       " '123 ++$++ retirement-plans ++$++ 为什么重要计划退休？ ++$++ Why  Is  It  Important  To  Plan  For  Retirement?',\n",
       " '124 ++$++ disability-insurance ++$++ 多少残疾保险足够了？ ++$++ How  Much  Disability  Insurance  Is  Enough?',\n",
       " '125 ++$++ life-insurance ++$++ 骑手在人寿保险中意味着什么？ ++$++ What  Does  Rider  Mean  In  Life  Insurance?',\n",
       " '126 ++$++ long-term-care-insurance ++$++ 你为长期护理保险支付多少钱？ ++$++ How  Much  Do  You  Pay  For  Long  Term  Care  Insurance?',\n",
       " '127 ++$++ renters-insurance ++$++ 我可以要求什么租客保险？ ++$++ What  Can  I  Claim  On  Renters  Insurance?',\n",
       " '128 ++$++ health-insurance ++$++ 健康保险额定值是多少？ ++$++ What  Does  Health  Insurance  Rated  Mean?',\n",
       " '129 ++$++ life-insurance ++$++ 你如何计算人寿保险的期望回报？ ++$++ How  Would  You  Calculate  The  Expected  Return  On  A  Life  Insurance  Policy?',\n",
       " '130 ++$++ auto-insurance ++$++ 没有驾照吗？ ++$++ Can  I  Get  Auto  Insurance  Without  A  Driver  License?',\n",
       " '131 ++$++ medicare-insurance ++$++ 什么时候是符合医疗保险D部分的人？ ++$++ When  Is  A  Person  Eligible  For  Medicare  Part  D?',\n",
       " '132 ++$++ auto-insurance ++$++ 汽车保险是联邦要求吗？ ++$++ Is  Auto  Insurance  A  Federal  Requirement?',\n",
       " '133 ++$++ auto-insurance ++$++ 你能得到不良信用的汽车保险吗？ ++$++ Can  You  Get  Auto  Insurance  With  Bad  Credit?',\n",
       " '134 ++$++ life-insurance ++$++ HIPPA适用于人寿保险公司吗？ ++$++ Does  HIPPA  Apply  To  Life  Insurance  Companies?',\n",
       " '135 ++$++ auto-insurance ++$++ DUI后汽车保险费用多少？ ++$++ How  Much  Does  Auto  Insurance  Cost  After  A  DUI?',\n",
       " '136 ++$++ home-insurance ++$++ 购买家庭时多少保险？ ++$++ How  Much  Is  Insurance  When  Buying  A  Home?',\n",
       " '137 ++$++ medicare-insurance ++$++ 什么是Medigap政策？ ++$++ What  Is  The  Medigap  Policy?',\n",
       " '138 ++$++ renters-insurance ++$++ 租客保险是否涵盖失去的订婚戒指？ ++$++ Does  Renters  Insurance  Cover  A  Lost  Engagement  Ring?',\n",
       " '139 ++$++ medicare-insurance ++$++ Obamacare覆盖Medigap？ ++$++ Does  Obamacare  Cover  Medigap?',\n",
       " '140 ++$++ renters-insurance ++$++ 全国租赁保险多少？ ++$++ How  Much  Is  Nationwide  Renters  Insurance?',\n",
       " '141 ++$++ life-insurance ++$++ 谁卖出抵押人寿保险？ ++$++ Who  Sells  Mortgage  Life  Insurance?',\n",
       " '142 ++$++ life-insurance ++$++ 我的人寿保险是否覆盖跳伞？ ++$++ Does  My  Life  Insurance  Cover  Skydiving?',\n",
       " '143 ++$++ health-insurance ++$++ 健康保险是否覆盖皮肤清除手术？ ++$++ Does  Health  Insurance  Cover  Skin  Removal  Surgery?',\n",
       " '144 ++$++ health-insurance ++$++ 没有健康保险的皮肤科医生花费多少钱？ ++$++ How  Much  Does  It  Cost  To  See  A  Dermatologist  Without  Health  Insurance?',\n",
       " '145 ++$++ health-insurance ++$++ 在哪里得到健康保险与预先存在的条件？ ++$++ Where  To  Get  Health  Insurance  With  A  Preexisting  Condition?',\n",
       " '146 ++$++ life-insurance ++$++ 是否USAA卖人寿保险？ ++$++ Does  USAA  Sell  Life  Insurance?',\n",
       " '147 ++$++ disability-insurance ++$++ 联邦政府是否有残疾保险？ ++$++ Does  The  Federal  Government  Have  Disability  Insurance?',\n",
       " '148 ++$++ life-insurance ++$++ 什么是人寿保险股？ ++$++ What  Is  A  Life  Insurance  Unit?',\n",
       " '149 ++$++ disability-insurance ++$++ 残疾人保险在平均水平上有多大？ ++$++ How  Much  Is  Disability  Insurance  On  Average?',\n",
       " '150 ++$++ life-insurance ++$++ 你可以提交人寿保险吗？ ++$++ Can  You  Surrender  A  Life  Insurance  Policy?',\n",
       " '151 ++$++ life-insurance ++$++ 人寿保险是否考虑收入？ ++$++ Is  Life  Insurance  Considered  Income?',\n",
       " '152 ++$++ disability-insurance ++$++ 什么时候应该得到残疾保险？ ++$++ When  Should  I  Get  Disability  Insurance?',\n",
       " '153 ++$++ renters-insurance ++$++ 租金保险费用多少？ ++$++ How  Much  Does  It  Cost  For  Renters  Insurance?',\n",
       " '154 ++$++ auto-insurance ++$++ 新罕布什尔州是否需要汽车保险？ ++$++ Does  New  Hampshire  Require  Auto  Insurance?',\n",
       " '155 ++$++ disability-insurance ++$++ 您的工资有多少由残疾保险承担？ ++$++ How  Much  Of  Your  Salary  Is  Covered  By  Disability  Insurance?',\n",
       " '156 ++$++ medicare-insurance ++$++ 哪个药店接受医疗保险？ ++$++ Which  Pharmacies  Accept  Medicare?',\n",
       " '157 ++$++ auto-insurance ++$++ 需要多长时间才能获得汽车保险？ ++$++ How  Long  Will  It  Take  To  Get  Car  Insurance?',\n",
       " '158 ++$++ medicare-insurance ++$++ 什么是医疗保险？ ++$++ What  Is  Medicare  Hospice?',\n",
       " '159 ++$++ life-insurance ++$++ 如何确定期限人寿保险的现金价值？ ++$++ How  Do  You  Determine  Cash  Value  Of  Term  Life  Insurance  Policy?',\n",
       " '160 ++$++ life-insurance ++$++ 人寿保险为您的葬礼付钱吗？ ++$++ Does  Life  Insurance  Pay  For  Your  Funeral?',\n",
       " '161 ++$++ health-insurance ++$++ 你的健康保险可以让孩子多久？ ++$++ How  Long  Can  You  Keep  A  Child  On  Your  Health  Insurance?',\n",
       " '162 ++$++ health-insurance ++$++ 健康保险税何时可以扣除？ ++$++ When  Is  Health  Insurance  Tax  Deductible?',\n",
       " '163 ++$++ annuities ++$++ Suze Orman对可变年金说什么？ ++$++ What  Does  Suze  Orman  Say  About  Variable  Annuities?',\n",
       " '164 ++$++ health-insurance ++$++ 可以用Fsa支付健康保险费吗？ ++$++ Can  I  Pay  Health  Insurance  Premiums  With  Fsa?',\n",
       " '165 ++$++ medicare-insurance ++$++ 沃尔玛是否接受医疗保险？ ++$++ Does  Walmart  Take  Medicare?',\n",
       " '166 ++$++ auto-insurance ++$++ 汽车保险可以转移吗？ ++$++ Can  Auto  Insurance  Be  Transferred?',\n",
       " '167 ++$++ auto-insurance ++$++ 什么是SR22保险？ ++$++ What  Does  SR22  Insurance  Cover?',\n",
       " '168 ++$++ auto-insurance ++$++ 没有工作可以得到汽车保险吗？ ++$++ Can  I  Get  Car  Insurance  Without  A  Job?',\n",
       " '169 ++$++ health-insurance ++$++ 你经常支付健康保险吗？ ++$++ How  Often  Do  You  Pay  Health  Insurance?',\n",
       " '170 ++$++ life-insurance ++$++ 受益人何时收到人寿保险？ ++$++ When  Does  The  Beneficiary  Collect  From  A  Life  Insurance  Policy?',\n",
       " \"171 ++$++ auto-insurance ++$++ 如果我没有汽车保险我可以租车吗？ ++$++ If  I  Don't  Have  Auto  Insurance  Can  I  Rent  A  Car?\",\n",
       " '172 ++$++ medicare-insurance ++$++ 医疗保险支付救护车吗？ ++$++ Does  Medicare  Pay  For  Ambulance  Rides?',\n",
       " '173 ++$++ home-insurance ++$++ 何时需要家庭保修保险？ ++$++ When  Is  Home  Warranty  Insurance  Required?',\n",
       " '174 ++$++ home-insurance ++$++ 家庭保险是否覆盖您的烟囱？ ++$++ Does  Home  Insurance  Cover  Your  Chimney?',\n",
       " '175 ++$++ life-insurance ++$++ 我需要多少人寿保险？ ++$++ How  Much  Life  Insurance  Do  I  Need?',\n",
       " '176 ++$++ home-insurance ++$++ 财产保险与房主保险相同吗？ ++$++ Is  Property  Insurance  The  Same  As  Homeowners  Insurance?',\n",
       " '177 ++$++ life-insurance ++$++ 当你年轻时，人寿保险是否更便宜？ ++$++ Is  Life  Insurance  Cheaper  To  Buy  When  You  Are  Younger?',\n",
       " '178 ++$++ disability-insurance ++$++ Aflac是否提供短期残疾保险？ ++$++ Does  Aflac  Offer  Short  Term  Disability  Insurance?',\n",
       " '179 ++$++ disability-insurance ++$++ 长期残疾是否涵盖医疗保险？ ++$++ Does  Long  Term  Disability  Cover  Medical  Insurance?',\n",
       " '180 ++$++ home-insurance ++$++ 失去使用意味着什么是房主保险？ ++$++ What  Does  Loss  Of  Use  Mean  For  Homeowners  Insurance?',\n",
       " '181 ++$++ auto-insurance ++$++ 汽车保险是否在您的信用报告上？ ++$++ Does  Car  Insurance  Go  On  Your  Credit  Report?',\n",
       " '182 ++$++ auto-insurance ++$++ 如何驾驶没有保险的新车？ ++$++ How  To  Drive  A  New  Car  Home  Without  Insurance?',\n",
       " '183 ++$++ auto-insurance ++$++ 为什么汽车保险在俄亥俄州那么昂贵？ ++$++ Why  Is  Auto  Insurance  So  Expensive  In  Ohio?',\n",
       " '184 ++$++ disability-insurance ++$++ 我需要南卡罗来纳州的残疾保险吗？ ++$++ Do  I  Need  Disability  Insurance  In  South  Carolina?',\n",
       " \"185 ++$++ renters-insurance ++$++ 一个公寓大楼可否要求您将其作为您的租客保险的共同保单持有人？ ++$++ Can  an  apartment  complex  require  you  to  add  them  as  a  co-policy  holder  on  your  renter's  insurance?\",\n",
       " '186 ++$++ medicare-insurance ++$++ 什么是医疗保险要花费我？ ++$++ What  Is  Medicare  Going  To  Cost  Me?',\n",
       " '187 ++$++ medicare-insurance ++$++ 被医疗保险部分D覆盖的Hyoscyamine是吗？ ++$++ Is  Hyoscyamine  Covered  By  Medicare  Part  D?',\n",
       " '188 ++$++ long-term-care-insurance ++$++ 长期护理保险的平均成本是多少？ ++$++ How  Much  Does  Long  Term  Care  Insurance  Cost  On  Average?',\n",
       " '189 ++$++ medicare-insurance ++$++ 医疗保险支付IVF多少钱？ ++$++ How  Much  Does  Medicare  Pay  For  IVF?',\n",
       " '190 ++$++ medicare-insurance ++$++ 医疗保险和医疗补助金有什么区别？ ++$++ What  Is  The  Difference  In  Medicare  And  Medicaid?',\n",
       " '191 ++$++ life-insurance ++$++ 人寿保险支付多少？ ++$++ How  Much  Will  Life  Insurance  Payout?',\n",
       " '192 ++$++ disability-insurance ++$++ 为什么需要残疾保险？ ++$++ Why  Do  You  Need  Disability  Insurance?',\n",
       " '193 ++$++ health-insurance ++$++ 健康保险何时成为强制性 ++$++ When  Does  Health  Insurance  Become  Mandatory?',\n",
       " '194 ++$++ auto-insurance ++$++ 结婚影响汽车保险？ ++$++ Does  Getting  Married  Affect  Auto  Insurance?',\n",
       " '195 ++$++ medicare-insurance ++$++ 医疗保险费用会在2014年上涨吗？ ++$++ Will  The  Cost  Of  Medicare  Go  Up  In  2014?',\n",
       " '196 ++$++ auto-insurance ++$++ 汽车保险多久？ ++$++ How  Long  Does  Car  Insurance  Last?',\n",
       " '197 ++$++ home-insurance ++$++ AAA家庭保险好吗？ ++$++ Is  AAA  Home  Insurance  Any  Good?',\n",
       " '198 ++$++ auto-insurance ++$++ 我可以保险金从汽车事故吗？ ++$++ Can  I  Keep  Insurance  Money  From  Car  Accident?',\n",
       " '199 ++$++ auto-insurance ++$++ 你可以去没有汽车保险的监狱吗？ ++$++ Can  You  Go  To  Jail  For  Having  No  Car  Insurance?',\n",
       " '200 ++$++ health-insurance ++$++ 您可以作为房地产经纪人获得健康保险吗？ ++$++ Can  You  Get  Health  Insurance  As  A  Real  Estate  Agent?',\n",
       " '201 ++$++ medicare-insurance ++$++ 什么时候开放注册Medigap政策？ ++$++ When  Is  Open  Enrollment  For  Medigap  Policies?',\n",
       " '202 ++$++ medicare-insurance ++$++ 何时使用医疗保险？ ++$++ When  To  Use  Medicare?',\n",
       " '203 ++$++ retirement-plans ++$++ 有限责任公司有退休计划吗？ ++$++ Can  An  LLC  Have  A  Retirement  Plan?',\n",
       " '204 ++$++ auto-insurance ++$++ 福特野马的汽车保险费用多少？ ++$++ How  Much  Would  Car  Insurance  Cost  For  A  Ford  Mustang?',\n",
       " '205 ++$++ auto-insurance ++$++ 保险会覆盖我的车上的一棵树吗？ ++$++ Will  Insurance  Cover  A  Tree  Falling  On  My  Car?',\n",
       " '206 ++$++ life-insurance ++$++ 人寿保险政策的面值是多少？ ++$++ What  Is  The  Face  Value  Of  A  Term  Life  Insurance  Policy?',\n",
       " '207 ++$++ life-insurance ++$++ 什么是安联人寿保险？ ++$++ What  Is  Allianz  Life  Insurance?',\n",
       " '208 ++$++ life-insurance ++$++ 人寿保险的现金投降价值是多少？ ++$++ What  Is  Cash  Surrender  Value  In  Life  Insurance?',\n",
       " '209 ++$++ renters-insurance ++$++ 租客保险是否盖车库盗窃？ ++$++ Does  Renters  Insurance  Cover  Garage  Theft?',\n",
       " '210 ++$++ life-insurance ++$++ 高胆固醇是否会影响人寿保险费率？ ++$++ Does  High  Cholesterol  Affect  Life  Insurance  Rates?',\n",
       " '211 ++$++ medicare-insurance ++$++ 医疗保险支付疼痛泵？ ++$++ Will  Medicare  Pay  For  A  Pain  Pump?',\n",
       " '212 ++$++ life-insurance ++$++ 什么是人寿保险类型？ ++$++ What  Are  The  Types  Of  Life  Insurance  Policies?',\n",
       " '213 ++$++ life-insurance ++$++ 国家农场寿险对THC进行测试？ ++$++ Does  State  Farm  Life  Insurance  Test  For  THC?',\n",
       " '214 ++$++ health-insurance ++$++ 哪里可以为个人购买健康保险？ ++$++ Where  Can  I  Buy  Health  Insurance  For  An  Individual?',\n",
       " '215 ++$++ medicare-insurance ++$++ 什么时候可以从医疗保险优势计划中消失？ ++$++ When  Can  You  Disenroll  From  A  Medicare  Advantage  Plan?',\n",
       " '216 ++$++ life-insurance ++$++ 人寿保险去财产？ ++$++ Does  Life  Insurance  Go  To  Estate?',\n",
       " '217 ++$++ renters-insurance ++$++ 租客保险是否涵盖啮齿动物损伤？ ++$++ Does  Renters  Insurance  Cover  Rodent  Damage?',\n",
       " '218 ++$++ retirement-plans ++$++ 当我可以从我的401K提款？ ++$++ When  I  Can  Withdraw  Money  From  My  401K?',\n",
       " '219 ++$++ renters-insurance ++$++ 公寓可以让你有租赁保险吗？ ++$++ Can  An  Apartment  Force  You  To  Have  Renters  Insurance?',\n",
       " '220 ++$++ medicare-insurance ++$++ Medigap是否覆盖眼睛检查？ ++$++ Does  Medigap  Cover  Eye  Exams?',\n",
       " '221 ++$++ home-insurance ++$++ 哪里最好的地方得到房主的保险？ ++$++ Where  Is  The  Best  Place  To  Get  Homeowners  Insurance?',\n",
       " '222 ++$++ life-insurance ++$++ 人寿保险期满是什么意思？ ++$++ What  Does  Life  Insurance  Maturity  Mean?',\n",
       " '223 ++$++ renters-insurance ++$++ 租客保险是否覆盖踏板车？ ++$++ Does  Renters  Insurance  Cover  Scooters?',\n",
       " '224 ++$++ home-insurance ++$++ 房主的保险是否会包裹食物？ ++$++ Will  Homeowners  Insurance  Cover  Spoiled  Food?',\n",
       " '225 ++$++ home-insurance ++$++ 家庭保险是否覆盖火灾？ ++$++ Does  home  insurance  cover  fire?',\n",
       " '226 ++$++ health-insurance ++$++ 当你退出工作时，健康保险停止吗？ ++$++ When  You  Quit  Your  Job  Does  Health  Insurance  Stop?',\n",
       " '227 ++$++ auto-insurance ++$++ 你可以购买停车许可证的汽车保险吗？ ++$++ Can  You  Buy  Car  Insurance  With  A  Suspended  License?',\n",
       " '228 ++$++ life-insurance ++$++ 为什么人寿保险成本更高？ ++$++ Why  Does  Life  Insurance  Cost  More  For  Men?',\n",
       " '229 ++$++ life-insurance ++$++ 人寿养老计划是什么？ ++$++ What  Is  A  Endowment  Plan  In  Life  Insurance?',\n",
       " '230 ++$++ life-insurance ++$++ 老年人的人寿保险费用多少？ ++$++ How  Much  Does  Life  Insurance  Cost  For  Seniors?',\n",
       " '231 ++$++ home-insurance ++$++ 何时使用您的家庭保险？ ++$++ When  To  Use  Your  Home  Insurance?',\n",
       " '232 ++$++ home-insurance ++$++ 房主保险是否涵盖基金会问题？ ++$++ Does  Homeowners  Insurance  Cover  Foundation  Issues?',\n",
       " '233 ++$++ life-insurance ++$++ 当我取消人寿保险时会发生什么？ ++$++ What  Happens  When  I  Cancel  Life  Insurance?',\n",
       " '234 ++$++ life-insurance ++$++ 如果我取消人寿保险政策会发生什么？ ++$++ What  Happens  If  I  Cancel  A  Life  Insurance  Policy?',\n",
       " '235 ++$++ disability-insurance ++$++ 残疾人保险如何必要？ ++$++ How  Necessary  Is  Disability  Insurance?',\n",
       " '236 ++$++ life-insurance ++$++ 什么是Aetna人寿保险？ ++$++ What  Is  Aetna  Life  Insurance?',\n",
       " '237 ++$++ health-insurance ++$++ 如何支付健康保险？ ++$++ How  Can  I  Afford  Health  Insurance?',\n",
       " '238 ++$++ renters-insurance ++$++ 租金保险不包括什么？ ++$++ What  Will  Renters  Insurance  Not  Cover?',\n",
       " '239 ++$++ life-insurance ++$++ 人寿保险何时进入？ ++$++ When  Does  Life  Insurance  Kick  In?',\n",
       " '240 ++$++ auto-insurance ++$++ 什么是没有汽车保险的罚款？ ++$++ What  Is  The  Fine  For  No  Car  Insurance?',\n",
       " '241 ++$++ renters-insurance ++$++ 租客保险是否覆盖我的车库？ ++$++ Does  Renters  Insurance  Cover  My  Garage?',\n",
       " '242 ++$++ life-insurance ++$++ 寿险是否影响FAFSA？ ++$++ Does  Life  Insurance  Affect  FAFSA?',\n",
       " '243 ++$++ auto-insurance ++$++ 非法移民可以获得汽车保险吗？ ++$++ Can  An  Illegal  Immigrant  Get  Car  Insurance?',\n",
       " '244 ++$++ home-insurance ++$++ 房主保险是否覆盖水泵？ ++$++ Does  Homeowners  Insurance  Cover  Sump  Pumps?',\n",
       " '245 ++$++ health-insurance ++$++ 购买健康保险时要注意什么？ ++$++ What  To  Look  For  When  Purchasing  Health  Insurance?',\n",
       " '246 ++$++ home-insurance ++$++ 房主保险覆盖地下水？ ++$++ Does  Homeowners  Insurance  Cover  Groundwater?',\n",
       " '247 ++$++ auto-insurance ++$++ 你可以通过电话获得汽车保险吗？ ++$++ Can  You  Get  Auto  Insurance  Over  The  Phone?',\n",
       " '248 ++$++ medicare-insurance ++$++ 医疗保险是否考虑福利？ ++$++ Is  Medicare  Considered  Welfare?',\n",
       " '249 ++$++ medicare-insurance ++$++ 是否必须在65岁申请医疗保险？ ++$++ Is  It  Mandatory  To  Apply  For  Medicare  At  65?',\n",
       " '250 ++$++ retirement-plans ++$++ 什么类型的退休计划是基于公式？ ++$++ What  Type  Of  Retirement  Plan  Is  Based  On  A  Formula?',\n",
       " '251 ++$++ life-insurance ++$++ 如果我提到人寿保险申请，会发生什么？ ++$++ What  Happens  If  I  Lie  On  A  Life  Insurance  Application?',\n",
       " '252 ++$++ life-insurance ++$++ 人寿保险公司可以检查病历吗？ ++$++ Can  Life  Insurance  Companies  Check  Medical  Records?',\n",
       " '253 ++$++ life-insurance ++$++ DUI会影响人寿保险多久？ ++$++ How  Long  Does  A  DUI  Affect  Life  Insurance?',\n",
       " '254 ++$++ long-term-care-insurance ++$++ 长期护理保险是什么意思？ ++$++ What  Does  Long  Term  Care  Insurance  Mean?',\n",
       " '255 ++$++ retirement-plans ++$++ 退休计划在工作中涵盖什么？ ++$++ What  Is  Covered  By  A  Retirement  Plan  At  Work?',\n",
       " '256 ++$++ auto-insurance ++$++ 汽车保险在纽约有多少？ ++$++ How  Much  Is  Car  Insurance  In  NY?',\n",
       " '257 ++$++ retirement-plans ++$++ 你为什么要退休？ ++$++ Why  Should  You  Have  A  Retirement  Plan?',\n",
       " '258 ++$++ disability-insurance ++$++ 短期残疾保险是否涵盖孕产妇？ ++$++ Does  Short  Term  Disability  Insurance  Cover  Maternity?',\n",
       " '259 ++$++ health-insurance ++$++ 健康保险在离职时结束什么时候？ ++$++ When  Does  Health  Insurance  End  When  Leaving  A  Job?',\n",
       " '260 ++$++ life-insurance ++$++ 人寿保险在支付时纳税吗？ ++$++ Does  Life  Insurance  Get  Taxed  At  Payout?',\n",
       " '261 ++$++ auto-insurance ++$++ 谁是最便宜的汽车保险为新的司机？ ++$++ Who  Is  The  Cheapest  Car  Insurance  For  New  Drivers?',\n",
       " '262 ++$++ medicare-insurance ++$++ Medigap支付什么？ ++$++ What  Does  Medigap  Pay  For?',\n",
       " \"263 ++$++ auto-insurance ++$++ 为什么男士汽车保险更高？ ++$++ Why  Is  Men's  Car  Insurance  Higher?\",\n",
       " '264 ++$++ auto-insurance ++$++ 我可以从没有保险的企业租车吗？ ++$++ Can  I  Rent  A  Car  From  Enterprise  Without  Insurance?',\n",
       " '265 ++$++ auto-insurance ++$++ 汽车保险公司能放你吗？ ++$++ Can  Car  Insurance  Companies  Drop  You?',\n",
       " '266 ++$++ health-insurance ++$++ 什么是长期健康保险？ ++$++ What  Is  Long  Term  Health  Insurance?',\n",
       " '267 ++$++ home-insurance ++$++ 房主保险增加吗？ ++$++ Is  Homeowners  Insurance  Increasing?',\n",
       " '268 ++$++ retirement-plans ++$++ 什么是退休计划信托？ ++$++ What  Is  A  Retirement  Plan  Fiduciary?',\n",
       " '269 ++$++ life-insurance ++$++ 如何从人寿保险中提取现金价值？ ++$++ How  To  Withdraw  Cash  Value  From  Life  Insurance  Policy?',\n",
       " '270 ++$++ disability-insurance ++$++ 什么是退休幸存者和残疾保险？ ++$++ What  Is  Retirement  Survivors  And  Disability  Insurance?',\n",
       " '271 ++$++ annuities ++$++ 年金排除率是多少？ ++$++ What  Is  The  Exclusion  Ratio  In  Annuities?',\n",
       " '272 ++$++ disability-insurance ++$++ 残疾保险是什么意思？ ++$++ What  Does  Disability  Insurance  Mean?',\n",
       " '273 ++$++ annuities ++$++ 年金可以转入401K吗？ ++$++ Can  An  Annuity  Be  Rolled  Into  A  401K?',\n",
       " '274 ++$++ medicare-insurance ++$++ 你可以要求减少医疗保险吗 ++$++ Can  You  Claim  A  Breast  Reduction  On  Medicare?',\n",
       " '275 ++$++ home-insurance ++$++ 我的房主保险是否覆盖了一个漏水屋顶？ ++$++ Will  My  Homeowners  Insurance  Cover  A  Leaky  Roof?',\n",
       " '276 ++$++ medicare-insurance ++$++ 医疗保险何时覆盖血液测试？ ++$++ When  Does  Medicare  Cover  Blood  Tests?',\n",
       " '277 ++$++ life-insurance ++$++ 人寿保险公司可以访问医疗记录吗？ ++$++ Can  Life  Insurance  Companies  Access  Medical  Records?',\n",
       " '278 ++$++ life-insurance ++$++ 20年的人寿保险是多少？ ++$++ How  Much  Is  Term  Life  Insurance  For  20  Years?',\n",
       " '279 ++$++ life-insurance ++$++ 什么是人寿保险？ ++$++ What  Is  The  Term  Of  Life  Insurance?',\n",
       " '280 ++$++ home-insurance ++$++ 什么是家庭保险的年度保费？ ++$++ What  Is  An  Annual  Premium  For  Home  Insurance?',\n",
       " '281 ++$++ life-insurance ++$++ 我应该买什么样的人寿保险？ ++$++ What  Kind  Of  Life  Insurance  Should  I  Buy?',\n",
       " '282 ++$++ medicare-insurance ++$++ Xarelto是由Medicare覆盖吗？ ++$++ Is  Xarelto  Covered  By  Medicare?',\n",
       " '283 ++$++ health-insurance ++$++ 我的健康保险什么时候停了？ ++$++ I  Was  Fired  When  Does  My  Health  Insurance  Stop?',\n",
       " '284 ++$++ life-insurance ++$++ 美元人寿保险如何运作？ ++$++ How  Does  Split  Dollar  Life  Insurance  Work?',\n",
       " '285 ++$++ life-insurance ++$++ 是否可以取消人寿保险？ ++$++ Is  It  Ok  To  Cancel  Life  Insurance?',\n",
       " '286 ++$++ life-insurance ++$++ 谁应该受益于人寿保险？ ++$++ Who  Should  Be  Beneficiary  On  Life  Insurance?',\n",
       " '287 ++$++ health-insurance ++$++ 你可以从群体健康保险中掉下来吗？ ++$++ Can  You  Be  Dropped  From  Group  Health  Insurance?',\n",
       " '288 ++$++ life-insurance ++$++ 人寿保险是否覆盖癌症？ ++$++ Does  Life  Insurance  Cover  Cancer?',\n",
       " '289 ++$++ disability-insurance ++$++ 什么是补充长期残疾保险？ ++$++ What  Is  Supplemental  Long  Term  Disability  Insurance?',\n",
       " '290 ++$++ auto-insurance ++$++ 可以结婚的孩子留在父母汽车保险吗？ ++$++ Can  Married  Children  stay  On  Parents  Auto  Insurance?',\n",
       " '291 ++$++ medicare-insurance ++$++ 你可以要求医疗保险和私人健康吗？ ++$++ Can  You  Claim  Medicare  And  Private  Health?',\n",
       " '292 ++$++ life-insurance ++$++ 什么是人寿保险年金？ ++$++ What  Is  A  Life  Insurance  Annuity?',\n",
       " '293 ++$++ disability-insurance ++$++ 我可以期待赔偿残疾保险？ ++$++ What  Can  I  Expect  To  Pay  For  Disability  Insurance?',\n",
       " '294 ++$++ life-insurance ++$++ 什么是相互全人寿保险？ ++$++ What  Is  Mutual  Whole  Life  Insurance?',\n",
       " '295 ++$++ retirement-plans ++$++ 什么是养老金计划赞助？ ++$++ What  Is  A  Pension  Plan  Sponsor?',\n",
       " '296 ++$++ disability-insurance ++$++ 什么国家有国家残疾保险？ ++$++ What  States  Have  State  Disability  Insurance?',\n",
       " '297 ++$++ disability-insurance ++$++ 长期残疾保险涵盖什么？ ++$++ What  Is  Covered  By  Long  Term  Disability  Insurance?',\n",
       " '298 ++$++ home-insurance ++$++ 你可以切换家庭保险吗？ ++$++ Can  You  Switch  Home  Insurance?',\n",
       " '299 ++$++ long-term-care-insurance ++$++ 谁从谁购买长期护理保险？ ++$++ Who  To  Buy  Long  Term  Care  Insurance  From?',\n",
       " '300 ++$++ medicare-insurance ++$++ 医疗保险覆盖Zostavax？ ++$++ Does  Medicare  Cover  Zostavax?',\n",
       " '301 ++$++ critical-illness-insurance ++$++ Aflac癌症保险值得吗？ ++$++ Is  Aflac  Cancer  Insurance  Worth  It?',\n",
       " '302 ++$++ auto-insurance ++$++ 你可以切换汽车保险中期政策吗？ ++$++ Can  You  Switch  Car  Insurance  Mid  Policy?',\n",
       " '303 ++$++ home-insurance ++$++ 我的索赔被我的犯罪记录否认是对的吗？ ++$++ My  Claim  Was  Denied  Due  To  My  Criminal  Record.  Is  That  Right?',\n",
       " '304 ++$++ life-insurance ++$++ 人寿保险在你的W2？ ++$++ Does  Life  Insurance  Go  On  Your  W2?',\n",
       " '305 ++$++ life-insurance ++$++ 养老院可以拿人寿保险吗？ ++$++ Can  Nursing  Home  Take  Life  Insurance?',\n",
       " '306 ++$++ life-insurance ++$++ 人寿保险是否缴纳税款？ ++$++ When  Are  Life  Insurance  Proceeds  Taxed?',\n",
       " '307 ++$++ life-insurance ++$++ 意外人寿值得吗？ ++$++ Is  Accidental  Life  Insurance  Worth  It?',\n",
       " '308 ++$++ health-insurance ++$++ 健康保险是否覆盖了Tummy Tuck？ ++$++ Does  Health  Insurance  Cover  A  Tummy  Tuck?',\n",
       " '309 ++$++ health-insurance ++$++ 健康保险通常是否覆盖整形术？ ++$++ Does  Health  Insurance  Typically  Cover  Otoplasty?',\n",
       " '310 ++$++ life-insurance ++$++ 人寿保险是死后的一部分吗？ ++$++ Is  Life  Insurance  Part  Of  An  Estate  After  Death?',\n",
       " '311 ++$++ long-term-care-insurance ++$++ 何时获得长期护理保险？ ++$++ When  Do  You  Get  Long  Term  Care  Insurance?',\n",
       " '312 ++$++ health-insurance ++$++ 我如何知道我有什么健康保险？ ++$++ How  Do  I  Know  What  Health  Insurance  I  Have?',\n",
       " '313 ++$++ life-insurance ++$++ 人寿保险代理人的平均工资是多少？ ++$++ What  Is  The  Average  Salary  Of  A  Life  Insurance  Agent?',\n",
       " '314 ++$++ critical-illness-insurance ++$++ 谁发明了重大疾病保险？ ++$++ Who  Invented  Critical  Illness  Insurance?',\n",
       " '315 ++$++ health-insurance ++$++ 伟大的剪辑是否提供健康保险？ ++$++ Does  Great  Clips  Offer  Health  Insurance?',\n",
       " '316 ++$++ medicare-insurance ++$++ Krystexxa被Medicare覆盖吗？ ++$++ Is  Krystexxa  Covered  By  Medicare?',\n",
       " '317 ++$++ home-insurance ++$++ 什么是合适的房主保险？ ++$++ What  Is  The  Right  Amount  Of  Homeowners  Insurance?',\n",
       " '318 ++$++ auto-insurance ++$++ 汽车保险在加州有多少17岁的女性？ ++$++ How  Much  Is  Car  Insurance  For  A  17  Year  Old  Female  In  California?',\n",
       " '319 ++$++ medicare-insurance ++$++ 医疗保险盖Xanax？ ++$++ Does  Medicare  Cover  Xanax?',\n",
       " '320 ++$++ life-insurance ++$++ 人寿保险通常费用多少？ ++$++ How  Much  Does  Life  Insurance  Usually  Cost?',\n",
       " '321 ++$++ life-insurance ++$++ 我年轻时应该买人寿吗？ ++$++ Should  I  Buy  Life  Insurance  When  I  Am  Young?',\n",
       " '322 ++$++ medicare-insurance ++$++ 如何选择Medigap保险？ ++$++ How  To  Choose  Medigap  Insurance?',\n",
       " '323 ++$++ health-insurance ++$++ 什么样的健康保险是最好的？ ++$++ What  Kind  Of  Health  Insurance  Is  Best?',\n",
       " '324 ++$++ health-insurance ++$++ 健康保险是否覆盖STD测试？ ++$++ Does  Health  Insurance  Cover  STD  Testing?',\n",
       " '325 ++$++ annuities ++$++ 什么是即期年金？ ++$++ What  Are  Immediate  Annuities?',\n",
       " '326 ++$++ health-insurance ++$++ 健康保险费是什么意思？ ++$++ What  Does  A  Health  Insurance  Premium  Mean?',\n",
       " '327 ++$++ critical-illness-insurance ++$++ 对癌症患者而言，没有保险怎么办？ ++$++ What  Happens  To  People  With  Cancer  And  No  Insurance?',\n",
       " '328 ++$++ health-insurance ++$++ 什么时候要求健康保险开始？ ++$++ When  Does  Mandated  Health  Insurance  Start?',\n",
       " '329 ++$++ renters-insurance ++$++ 租赁保险是什么？ ++$++ What  Does  Renters  Insurance  Protect?',\n",
       " '330 ++$++ annuities ++$++ 为什么年金是不好的投资？ ++$++ Why  Annuities  Are  Poor  Investments?',\n",
       " '331 ++$++ medicare-insurance ++$++ 医疗保险是否限制了在任何给定时间内可以拥有的超声心动图数量？ ++$++ Does  medicare  limit  the  number  of  echocardiograms  one  can  have  in  any  given  amount  of  time?',\n",
       " '332 ++$++ life-insurance ++$++ 如何确定人寿保险金额？ ++$++ How  To  Determine  Term  Life  Insurance  Amount?',\n",
       " '333 ++$++ health-insurance ++$++ 健康保险是否涵盖青光眼？ ++$++ Does  Health  Insurance  Cover  Glaucoma?',\n",
       " '334 ++$++ disability-insurance ++$++ 什么是残疾保险？ ++$++ What  Does  Disability  Insurance  Protect?',\n",
       " '335 ++$++ auto-insurance ++$++ 汽车保险每年应该增加吗？ ++$++ Should  Car  Insurance  Increase  Every  Year?',\n",
       " '336 ++$++ medicare-insurance ++$++ 哪个是更好的医疗保险或医疗保险的优势？ ++$++ Which  Is  Better  Medicare  Or  Medicare  Advantage?',\n",
       " '337 ++$++ life-insurance ++$++ 什么会导致人寿保险？ ++$++ What  Will  Void  A  Life  Insurance  Policy?',\n",
       " '338 ++$++ life-insurance ++$++ 自由共有人寿保险？ ++$++ Does  Liberty  Mutual  Have  Life  Insurance?',\n",
       " '339 ++$++ life-insurance ++$++ 可变人寿保险是否具有现金价值？ ++$++ Does  Variable  Life  Insurance  Have  A  Cash  Value?',\n",
       " '340 ++$++ medicare-insurance ++$++ 医疗保险的年费是多少？ ++$++ What  Is  The  Yearly  Cost  Of  Medicare?',\n",
       " '341 ++$++ life-insurance ++$++ 我可以在我的父母身上购买人寿保险吗？ ++$++ Can  I  Buy  A  Life  Insurance  Policy  On  My  Parents?',\n",
       " '342 ++$++ home-insurance ++$++ 家庭保险可以覆盖水暖吗？ ++$++ Can  Home  Insurance  Cover  Plumbing?',\n",
       " '343 ++$++ health-insurance ++$++ 如何为有限责任公司获得健康保险？ ++$++ How  To  Get  Health  Insurance  For  A  LLC?',\n",
       " '344 ++$++ life-insurance ++$++ 如何建立人寿保险信托？ ++$++ How  To  Set  Up  A  Trust  For  Life  Insurance?',\n",
       " '345 ++$++ medicare-insurance ++$++ 工作时你可以获得医疗保险吗？ ++$++ Can  You  Get  Medicare  While  Working?',\n",
       " '346 ++$++ life-insurance ++$++ 我在哪里买人寿保险？ ++$++ Where  Do  I  Buy  Life  Insurance?',\n",
       " '347 ++$++ auto-insurance ++$++ 什么让汽车保险更便宜？ ++$++ What  Makes  Car  Insurance  Cheaper?',\n",
       " '348 ++$++ life-insurance ++$++ 要求人寿保险政策多长时间？ ++$++ How  Long  Does  It  Take  To  Claim  A  Life  Insurance  Policy?',\n",
       " '349 ++$++ auto-insurance ++$++ 我是一个非司机，需要一辆卡车用于我的工作，我想要保证我的帮手为我带来任何问题？ ++$++ I  am  a  non  driver  and  need  a  truck  for  my  work,  I  would  like  to  insure  my  helper  to  drive  for  me  any  problems?',\n",
       " '350 ++$++ medicare-insurance ++$++ 什么是最好的医疗保健计划？ ++$++ What  Is  The  Best  Medicare  Health  Plan?',\n",
       " '351 ++$++ disability-insurance ++$++ 什么是集体残疾保险？ ++$++ What  Is  Group  Disability  Insurance?',\n",
       " '352 ++$++ auto-insurance ++$++ 你能赔偿保险上的车钥匙吗？ ++$++ Can  You  Claim  Lost  Car  Keys  On  Insurance?',\n",
       " '353 ++$++ auto-insurance ++$++ 哪家汽车保险公司是最好的？ ++$++ Which  Car  Insurance  Company  Is  Best?',\n",
       " '354 ++$++ home-insurance ++$++ 谁写空置家庭保险？ ++$++ Who  Writes  Vacant  Home  Insurance?',\n",
       " '355 ++$++ home-insurance ++$++ 什么类型的水损害由房主保险？ ++$++ What  Type  Of  Water  Damage  Is  Covered  By  Homeowners  Insurance?',\n",
       " '356 ++$++ auto-insurance ++$++ 获得汽车保险需要什么信息？ ++$++ When  Getting  Car  Insurance  What  Information  Is  Needed?',\n",
       " '357 ++$++ home-insurance ++$++ 我需要建筑商风险保险购买我们将在搬家前进行主要装修的家园吗？ ++$++ Do  I  Need  Builders  Risk  Insurance  To  Purchase  A  Home  Where  We  will  Do  Major  Renovations  Before  Moving  In?',\n",
       " '358 ++$++ medicare-insurance ++$++ 医疗保险上睑下垂？ ++$++ Does  Medicare  Cover  Ptosis?',\n",
       " '359 ++$++ medicare-insurance ++$++ 医疗保险的优势成本多少？ ++$++ How  Much  More  Does  Medicare  Advantage  Cost?',\n",
       " '360 ++$++ medicare-insurance ++$++ 你可以从医疗保险优势转变为Medigap吗？ ++$++ Can  You  Change  From  Medicare  Advantage  To  Medigap?',\n",
       " '361 ++$++ home-insurance ++$++ 我的房主保险是否会覆盖模具损坏？ ++$++ Will  My  Homeowners  Insurance  Cover  Mold  Damage?',\n",
       " '362 ++$++ retirement-plans ++$++ 我需要什么保险退休？ ++$++ What  Insurance  Will  I  Need  In  Retirement?',\n",
       " '363 ++$++ health-insurance ++$++ 什么是自助餐计划健康保险？ ++$++ What  Is  A  Cafeteria  Plan  For  Health  Insurance?',\n",
       " '364 ++$++ auto-insurance ++$++ 法律要求什么汽车保险？ ++$++ What  Auto  Insurance  Is  Required  By  Law?',\n",
       " '365 ++$++ medicare-insurance ++$++ 我的医疗保险是否覆盖我的妻子？ ++$++ Does  My  Medicare  Cover  My  Wife?',\n",
       " '366 ++$++ home-insurance ++$++ 家庭保险的覆盖面是什么？ ++$++ What  Are  The  Coverage  Characteristics  Of  Home  Insurance?',\n",
       " '367 ++$++ life-insurance ++$++ 什么是幸存者普遍人寿保险？ ++$++ What  Is  Survivorship  Universal  Life  Insurance?',\n",
       " '368 ++$++ medicare-insurance ++$++ 医疗保险支付给沃克？ ++$++ Does  Medicare  Pay  For  A  Walker?',\n",
       " '369 ++$++ auto-insurance ++$++ 如何将汽车保险作为高风险驾驶者？ ++$++ How  Can  I  Get  Car  Insurance  As  A  High  Risk  Driver?',\n",
       " '370 ++$++ annuities ++$++ 哪些年金对我来说是对的？ ++$++ Which  Annuity  Is  Right  For  Me?',\n",
       " '371 ++$++ life-insurance ++$++ 孕妇可以得到人寿保险吗？ ++$++ Can  You  Get  Life  Insurance  While  Pregnant?',\n",
       " '372 ++$++ medicare-insurance ++$++ 医疗保险盖牙科？ ++$++ Does  Medicare  Insurance  Cover  Dental?',\n",
       " '373 ++$++ life-insurance ++$++ 如果我有糖尿病，我可以得到人寿保险吗？ ++$++ Can  I  Get  Life  Insurance  If  I  Have  Diabetes?',\n",
       " '374 ++$++ long-term-care-insurance ++$++ 什么公司有最好的长期护理保险？ ++$++ What  Company  Has  The  Best  Long  Term  Care  Insurance?',\n",
       " '375 ++$++ life-insurance ++$++ 什么是基本生活和广告D保险？ ++$++ What  Is  Basic  Life  And  Ad  D  Insurance?',\n",
       " '376 ++$++ medicare-insurance ++$++ 医疗保险覆盖复合药物吗 ++$++ Does  Medicare  Cover  Compounded  Drugs?',\n",
       " '377 ++$++ annuities ++$++ 年金参与率是多少？ ++$++ What  Is  Participation  Rate  In  Annuities?',\n",
       " '378 ++$++ life-insurance ++$++ 什么是5年期人寿保险？ ++$++ What  Is  A  5  Year  Term  Life  Insurance  Policy?',\n",
       " '379 ++$++ annuities ++$++ 你如何设立年金？ ++$++ How  Do  You  Set  Up  Annuities?',\n",
       " '380 ++$++ life-insurance ++$++ 永久性人寿保险是一个好主意吗？ ++$++ When  Is  Permanent  Life  Insurance  A  Good  Idea?',\n",
       " '381 ++$++ disability-insurance ++$++ 残疾保险支付多久？ ++$++ How  Long  Will  Disability  Insurance  Pay?',\n",
       " '382 ++$++ life-insurance ++$++ 什么是菲律宾保诚人寿保险？ ++$++ What  Is  Philippine  Prudential  Life  Insurance?',\n",
       " '383 ++$++ life-insurance ++$++ 60岁的人寿保险多少？ ++$++ How  Much  Is  Life  Insurance  For  A  60  Year  Old?',\n",
       " '384 ++$++ medicare-insurance ++$++ 你有两个医疗保健补品吗？ ++$++ Can  You  Have  Two  Medicare  Supplements?',\n",
       " '385 ++$++ renters-insurance ++$++ 什么是租赁保险的好处？ ++$++ What  Is  The  Benefit  Of  Renters  Insurance?',\n",
       " '386 ++$++ life-insurance ++$++ 人寿保险是否涵盖酒精中毒？ ++$++ Does  Life  Insurance  Cover  Alcoholism?',\n",
       " '387 ++$++ life-insurance ++$++ 好的人寿保险政策是多少？ ++$++ How  Much  Is  A  Good  Life  Insurance  Policy?',\n",
       " '388 ++$++ life-insurance ++$++ QDRO是否适用人寿保险？ ++$++ Does  QDRO  Apply  To  Life  Insurance?',\n",
       " '389 ++$++ long-term-care-insurance ++$++ 80岁可以获得长期护理保险吗？ ++$++ Can  An  80  Year  Old  Get  Long  Term  Care  Insurance?',\n",
       " '390 ++$++ retirement-plans ++$++ 你能退出退休计划吗？ ++$++ Can  You  Cash  Out  A  Retirement  Plan?',\n",
       " '391 ++$++ renters-insurance ++$++ 租客保险是否覆盖止赎？ ++$++ Does  Renters  Insurance  Cover  Foreclosure?',\n",
       " '392 ++$++ disability-insurance ++$++ 什么是私人残疾保险？ ++$++ What  Is  Private  Disability  Insurance?',\n",
       " '393 ++$++ home-insurance ++$++ 房主保险是否覆盖游泳池受损？ ++$++ Does  Homeowners  Insurance  Cover  Pool  Damage?',\n",
       " '394 ++$++ medicare-insurance ++$++ 为什么我需要Medigap政策？ ++$++ Why  Would  I  Need  A  Medigap  Policy?',\n",
       " '395 ++$++ home-insurance ++$++ 房主保险是否覆盖炉？ ++$++ Does  Homeowners  Insurance  Cover  The  Furnace?',\n",
       " '396 ++$++ medicare-insurance ++$++ 医疗保险支付LPC吗？ ++$++ Does  Medicare  Pay  For  LPC?',\n",
       " '397 ++$++ life-insurance ++$++ 如何取消Scotia人寿保险？ ++$++ How  To  Cancel  Scotia  Life  Insurance?',\n",
       " '398 ++$++ life-insurance ++$++ 如何知道有人有人寿保险？ ++$++ How  To  Know  If  Someone  Had  Life  Insurance?',\n",
       " '399 ++$++ health-insurance ++$++ 健康保险如何影响妇女的退休行为？ ++$++ How  Does  Health  Insurance  Affect  The  Retirement  Behavior  Of  Women?',\n",
       " '400 ++$++ medicare-insurance ++$++ 医疗保险覆盖的是脊医吗？ ++$++ Is  A  Chiropractor  Covered  By  Medicare?',\n",
       " '401 ++$++ long-term-care-insurance ++$++ 什么公司有最便宜的长期护理保险在科罗拉多州？ ++$++ What  Company  Has  The  Cheapest  Long  Term  Care  Insurance  In  Colorado?',\n",
       " '402 ++$++ renters-insurance ++$++ 公寓需要多少租金保险？ ++$++ How  Much  Renters  Insurance  Do  I  Need  For  An  Apartment?',\n",
       " '403 ++$++ home-insurance ++$++ 需要多少家庭保险？ ++$++ How  Much  Home  Insurance  Is  Needed?',\n",
       " '404 ++$++ auto-insurance ++$++ 谁是最好的汽车保险提供商？ ++$++ Who  Is  The  Best  Auto  Insurance  Provider?',\n",
       " '405 ++$++ home-insurance ++$++ 哪里投诉家庭保险？ ++$++ Where  To  Complain  About  Home  Insurance?',\n",
       " '406 ++$++ medicare-insurance ++$++ Medigap还是Medicare优势更好？ ++$++ Is  Medigap  Or  Medicare  Advantage  Better?',\n",
       " '407 ++$++ life-insurance ++$++ 何时投降人寿保险？ ++$++ When  To  Surrender  A  Life  Insurance  Policy?',\n",
       " '408 ++$++ life-insurance ++$++ 什么是人寿保险的优点和缺点？ ++$++ What  Is  Life  Insurance  Advantages  And  Disadvantages?',\n",
       " '409 ++$++ health-insurance ++$++ 健康保险费用多少一个人？ ++$++ Much  Does  Health  Insurance  Cost  One  Person?',\n",
       " '410 ++$++ renters-insurance ++$++ 租金保险是否覆盖了笔记本电脑？ ++$++ Does  Renters  Insurance  Cover  A  Broken  Laptop?',\n",
       " '411 ++$++ life-insurance ++$++ 在伊利诺伊州受益人的人寿保险是否应纳税？ ++$++ Is  Life  Insurance  Taxable  To  The  Beneficiary  In  Illinois?',\n",
       " '412 ++$++ health-insurance ++$++ 我可以否认健康保险吗？ ++$++ Can  I  Be  Denied  Health  Insurance?',\n",
       " '413 ++$++ life-insurance ++$++ 为什么孩子需要人寿保险？ ++$++ Why  Do  Kids  Need  Life  Insurance?',\n",
       " '414 ++$++ disability-insurance ++$++ 残疾保险是否具有现金价值？ ++$++ Does  Disability  Insurance  Have  A  Cash  Value?',\n",
       " '415 ++$++ life-insurance ++$++ 你应该多少人寿保险？ ++$++ How  Much  Life  Insurance  Should  You  Carry?',\n",
       " '416 ++$++ renters-insurance ++$++ 租客保险是否覆盖被盗的自行车？ ++$++ Does  Renters  Insurance  Cover  Stolen  Bike?',\n",
       " '417 ++$++ renters-insurance ++$++ 租赁保险的好处是什么？ ++$++ What  Are  The  Benefits  Of  Having  Renters  Insurance?',\n",
       " '418 ++$++ life-insurance ++$++ 在哪里可以获得全人寿保险？ ++$++ Where  Can  I  Get  Whole  Life  Insurance?',\n",
       " '419 ++$++ auto-insurance ++$++ 我的孩子是我的汽车保险吗？ ++$++ Is  My  Child  Covered  By  My  Auto  Insurance?',\n",
       " '420 ++$++ medicare-insurance ++$++ 什么是医疗保健部分B用于？ ++$++ What  Is  Medicare  Part  B  Used  For?',\n",
       " '421 ++$++ renters-insurance ++$++ 租金保险涵盖什么？ ++$++ What  Is  Covered  With  Renters  Insurance?',\n",
       " '422 ++$++ retirement-plans ++$++ 退休计划如何借款？ ++$++ How  To  Borrow  From  A  Retirement  Plan?',\n",
       " '423 ++$++ auto-insurance ++$++ 你能保持汽车保险索赔的钱吗？ ++$++ Can  You  Keep  Auto  Insurance  Claim  Money?',\n",
       " '424 ++$++ home-insurance ++$++ 家庭保险是否覆盖中央空气？ ++$++ Does  Home  Insurance  Cover  Central  Air?',\n",
       " '425 ++$++ health-insurance ++$++ 如果没有合格事件，我可以取消我的健康保险吗？ ++$++ Can  I  Cancel  My  Health  Insurance  Without  A  Qualifying  Event?',\n",
       " '426 ++$++ long-term-care-insurance ++$++ 我应该在这个经济中购买长期护理保险吗？ ++$++ Should  I  Buy  Long  Term  Care  Insurance  In  This  Economy?',\n",
       " '427 ++$++ life-insurance ++$++ 什么是人寿保险年限？ ++$++ What  Is  Vesting  Age  In  Life  Insurance?',\n",
       " '428 ++$++ disability-insurance ++$++ 我需要为我们的图书馆购买残疾保险吗？ ++$++ I  need  to  purchase  disability  insurance  for  our  library  can  you  help?',\n",
       " '429 ++$++ life-insurance ++$++ 单身高级人寿保险费用多少？ ++$++ How  Much  Does  Single  Premium  Life  Insurance  Cost?',\n",
       " '430 ++$++ annuities ++$++ Suze Orman认为可变年金是什么？ ++$++ What  Does  Suze  Orman  Think  Of  Variable  Annuities?',\n",
       " '431 ++$++ renters-insurance ++$++ 租客保险是否值得成本？ ++$++ Is  Renters  Insurance  Worth  The  Cost?',\n",
       " '432 ++$++ retirement-plans ++$++ 如何设定个人退休计划？ ++$++ How  To  Setup  A  Personal  Retirement  Plan?',\n",
       " '433 ++$++ annuities ++$++ 年金可以抵押吗？ ++$++ Can  Annuities  Be  Pledged  As  Collateral?',\n",
       " '434 ++$++ life-insurance ++$++ 何时购买人身保险？ ++$++ When  To  Buy  Life  Insurance  For  Child?',\n",
       " '435 ++$++ renters-insurance ++$++ 租赁保险是否涵盖公寓的洪水？ ++$++ Does  Renters  Insurance  Cover  Flood  In  Apartments?',\n",
       " '436 ++$++ life-insurance ++$++ 人寿保险政策涵盖？ ++$++ What  Do  Life  Insurance  Policies  Cover?',\n",
       " '437 ++$++ health-insurance ++$++ 为什么BCBSTX提供一个骑手，并为偏头痛率？ ++$++ Why  Would  BCBSTX  Offer  A  Rider  And  A  Rate  Up  For  Migraines?',\n",
       " '438 ++$++ home-insurance ++$++ 哪里可以获得廉价的房主保险？ ++$++ Where  Can  I  Get  Cheap  Homeowners  Insurance?',\n",
       " '439 ++$++ health-insurance ++$++ 如果你超重，如何获得健康保险？ ++$++ How  To  Get  Health  Insurance  If  You  Are  Overweight?',\n",
       " '440 ++$++ auto-insurance ++$++ 你能得到汽车保险延期吗？ ++$++ Can  You  Get  An  Extension  On  Car  Insurance?',\n",
       " '441 ++$++ life-insurance ++$++ 我如何知道我需要多少人寿保险？ ++$++ How  Do  I  Know  How  Much  Life  Insurance  I  Need?',\n",
       " '442 ++$++ life-insurance ++$++ 谁能购买人寿保险？ ++$++ Who  Can  Buy  A  Life  Insurance  Policy?',\n",
       " '443 ++$++ disability-insurance ++$++ 多少可能的残疾保险费用？ ++$++ How  Much  Could  Disability  Insurance  Cost?',\n",
       " '444 ++$++ medicare-insurance ++$++ 医疗保健处方药是否合法？ ++$++ Is  Medicare  Prescription  Drug  Coverage  Mandatory?',\n",
       " '445 ++$++ auto-insurance ++$++ 购买汽车保险时要注意什么？ ++$++ What  To  Look  For  When  Purchasing  Car  Insurance?',\n",
       " '446 ++$++ home-insurance ++$++ 房主保险是否涵盖ATV事故？ ++$++ Does  Homeowners  Insurance  Cover  ATV  Accidents?',\n",
       " '447 ++$++ home-insurance ++$++ 什么是最佳家庭保险政策？ ++$++ What  Is  The  Best  Home  Insurance  Policy?',\n",
       " '448 ++$++ auto-insurance ++$++ 在哪里可以找到廉价汽车保险在阿肯色州？ ++$++ Where  Can  I  Find  Cheap  Auto  Insurance  In  Arkansas?',\n",
       " '449 ++$++ life-insurance ++$++ 地球人寿保险多少？ ++$++ How  Much  Is  Globe  Life  Insurance?',\n",
       " '450 ++$++ life-insurance ++$++ 谁是最大的人寿保险公司？ ++$++ Who  Is  The  Biggest  Life  Insurance  Company?',\n",
       " '451 ++$++ medicare-insurance ++$++ 医疗保险支付超声心动图吗 ++$++ Does  Medicare  Pay  For  Echocardiogram?',\n",
       " '452 ++$++ life-insurance ++$++ 我可以在我的父母身上购买人寿吗？ ++$++ Can  I  Purchase  Life  Insurance  On  My  Parents?',\n",
       " '453 ++$++ disability-insurance ++$++ 谁支付社会保障残疾保险？ ++$++ Who  Pays  For  Social  Security  Disability  Insurance?',\n",
       " '454 ++$++ life-insurance ++$++ 我应该在哪里得到期限人寿保险？ ++$++ Where  Should  I  Get  Term  Life  Insurance?',\n",
       " '455 ++$++ renters-insurance ++$++ 为什么我的房东想要我有租金保险？ ++$++ Why  Does  My  Landlord  Want  Me  To  Have  Renters  Insurance?',\n",
       " '456 ++$++ home-insurance ++$++ 什么因素影响家庭保险的成本？ ++$++ What  Factors  Affect  The  Cost  Of  Home  Insurance?',\n",
       " '457 ++$++ life-insurance ++$++ 谁应该购买全期人寿保险？ ++$++ Who  Should  Buy  Whole  Term  Life  Insurance?',\n",
       " '458 ++$++ health-insurance ++$++ 健康保险是谁合约？ ++$++ Who  Is  Health  Insurance  A  Contract  Between?',\n",
       " '459 ++$++ disability-insurance ++$++ 为什么人们购买残疾保险？ ++$++ Why  Do  People  Buy  Disability  Insurance?',\n",
       " '460 ++$++ health-insurance ++$++ 如果您有两项健康保险政策，该如何运作？ ++$++ How  Does  It  Work  If  You  Have  Two  Health  Insurance  Policies?',\n",
       " '461 ++$++ renters-insurance ++$++ 你可以随时取消租金保险吗？ ++$++ Can  You  Cancel  Renters  Insurance  Any  Time?',\n",
       " '462 ++$++ medicare-insurance ++$++ 医疗保险支付肺炎疫苗吗？ ++$++ Does  Medicare  Pay  For  Pneumonia  Vaccine?',\n",
       " '463 ++$++ medicare-insurance ++$++ 如何在线注册Medicare？ ++$++ How  To  Sign  Up  For  Medicare  Online?',\n",
       " '464 ++$++ life-insurance ++$++ 债权人可以索赔人寿保险吗？ ++$++ Can  Creditors  Claim  Life  Insurance  Benefits?',\n",
       " '465 ++$++ retirement-plans ++$++ 什么时候太晚计划退休？ ++$++ When  Is  It  Too  Late  To  Plan  For  Retirement?',\n",
       " '466 ++$++ medicare-insurance ++$++ 如何将医疗保险作为二级保险？ ++$++ How  To  Bill  Medicare  As  Secondary  Insurance?',\n",
       " '467 ++$++ auto-insurance ++$++ 谁能驾驶我的汽车保险？ ++$++ Who  Can  Drive  Under  My  Car  Insurance?',\n",
       " '468 ++$++ health-insurance ++$++ 短期健康保险是否工作？ ++$++ Does  Short  Term  Health  Insurance  Work?',\n",
       " '469 ++$++ health-insurance ++$++ 我的健康保险公司可以改变我的政策吗？ ++$++ Can  My  Health  Insurance  Company  Change  My  Policy?',\n",
       " '470 ++$++ life-insurance ++$++ 代理人对人寿保险有多少？ ++$++ How  Much  Does  An  Agent  Make  On  Life  Insurance?',\n",
       " '471 ++$++ life-insurance ++$++ 我的前妻可以为我保险吗 ++$++ Can  My  Ex  Have  Life  Insurance  On  Me?',\n",
       " '472 ++$++ home-insurance ++$++ 我的房主保险是多少？ ++$++ How  Much  Should  My  Homeowners  Insurance  Be?',\n",
       " '473 ++$++ home-insurance ++$++ 房主保险是否涵盖法定费用？ ++$++ Does  Homeowners  Insurance  Cover  Legal  Fees?',\n",
       " '474 ++$++ life-insurance ++$++ 可以终止人寿保险吗？ ++$++ Can  A  Term  Life  Insurance  Policy  Be  Cashed  Out?',\n",
       " '475 ++$++ life-insurance ++$++ 什么时候可以兑现人寿保险？ ++$++ When  Can  You  Cash  Out  On  Life  Insurance?',\n",
       " '476 ++$++ health-insurance ++$++ 健康保险专员做什么？ ++$++ What  Does  A  Health  Insurance  Specialist  Do?',\n",
       " '477 ++$++ life-insurance ++$++ 我可否按附表C扣除人寿保险费？ ++$++ Can  I  Deduct  Life  Insurance  Premiums  On  Schedule  C?',\n",
       " '478 ++$++ home-insurance ++$++ 为什么房主保险重要？ ++$++ Why  Is  Homeowners  Insurance  Important?',\n",
       " '479 ++$++ life-insurance ++$++ 人寿保险成长时会发生什么？ ++$++ What  Happens  When  A  Life  Insurance  Policy  Matures?',\n",
       " '480 ++$++ life-insurance ++$++ 如何找出有多少人寿保险？ ++$++ How  To  Find  Out  How  Much  Life  Insurance  Someone  Has?',\n",
       " '481 ++$++ long-term-care-insurance ++$++ 为什么选择长期护理保险？ ++$++ Why  Buy  Long  Term  Care  Insurance?',\n",
       " '482 ++$++ health-insurance ++$++ 2014年我可以否认健康保险吗？ ++$++ Can  I  Be  Denied  Health  Insurance  In  2014?',\n",
       " '483 ++$++ life-insurance ++$++ 美国银行出售人寿保险？ ++$++ Does  Bank  Of  America  Sell  Life  Insurance?',\n",
       " '484 ++$++ health-insurance ++$++ PPO为健康保险提供什么？ ++$++ What  Does  PPO  Stand  For  With  Health  Insurance?',\n",
       " '485 ++$++ renters-insurance ++$++ 租金保险通常覆盖什么？ ++$++ What  Does  Renters  Insurance  Usually  Cover?',\n",
       " '486 ++$++ home-insurance ++$++ 家庭保险是否会覆盖气体泄漏？ ++$++ Will  Home  Insurance  Cover  Gas  Leaks?',\n",
       " '487 ++$++ medicare-insurance ++$++ Obamacare会提高我的医疗保险费吗？ ++$++ Will  Obamacare  Raise  My  Medicare  Premium?',\n",
       " '488 ++$++ life-insurance ++$++ 我们有多少人寿保险代理人？ ++$++ How  Many  Life  Insurance  Agents  Are  There  In  The  Us?',\n",
       " '489 ++$++ home-insurance ++$++ 需要多长时间才能获得家庭保险捆绑？ ++$++ How  Long  Does  It  Take  To  Get  A  Home  Insurance  Binder?',\n",
       " '490 ++$++ life-insurance ++$++ 谁有最便宜的人寿保险费率？ ++$++ Who  Has  The  Cheapest  Life  Insurance  Rates?',\n",
       " '491 ++$++ life-insurance ++$++ 什么是更好的期限或全人寿保险？ ++$++ What  Is  Better  Term  Or  Whole  Life  Insurance?',\n",
       " '492 ++$++ medicare-insurance ++$++ 医疗保险考试包括什么？ ++$++ What  Does  A  Medicare  Wellness  Exam  Include?',\n",
       " '493 ++$++ medicare-insurance ++$++ 医疗保险支付超声波？ ++$++ Does  Medicare  Pay  For  Ultrasounds?',\n",
       " '494 ++$++ retirement-plans ++$++ 401K计算为退休计划吗？ ++$++ Does  A  401K  Count  As  A  Retirement  Plan?',\n",
       " '495 ++$++ home-insurance ++$++ 家庭保险是否覆盖单位？ ++$++ Does  Home  Insurance  Cover  Ac  Unit?',\n",
       " '496 ++$++ health-insurance ++$++ 我可以在哪里兼职和获得健康保险？ ++$++ Where  Can  I  Work  Part  Time  And  Get  Health  Insurance?',\n",
       " '497 ++$++ auto-insurance ++$++ 一辆跑车有多少保险？ ++$++ How  Much  Would  Insurance  Be  For  A  Sports  Car?',\n",
       " '498 ++$++ disability-insurance ++$++ 难以获得残疾保险？ ++$++ How  Hard  Is  It  To  Get  Disability  Insurance?',\n",
       " '499 ++$++ auto-insurance ++$++ 我可以从没有保险的私人派对开车吗？ ++$++ Can  I  test  drive  a  car  from  a  private  party  without  insurance?',\n",
       " '500 ++$++ auto-insurance ++$++ 你能多快得到汽车保险？ ++$++ How  Fast  Can  You  Get  Car  Insurance?',\n",
       " '501 ++$++ auto-insurance ++$++ 十七岁的摩托车保险有多少？ ++$++ How  Much  Is  Motorcycle  Insurance  For  A  17  Year  Old?',\n",
       " '502 ++$++ life-insurance ++$++ 如果每个人都死亡，人寿如何工作？ ++$++ How  Does  Life  Insurance  Work  If  Everyone  Dies?',\n",
       " '503 ++$++ renters-insurance ++$++ 租赁者保险多长时间？ ++$++ How  Long  Does  It  Take  For  Renters  Insurance  To  Go  Into  Effect?',\n",
       " '504 ++$++ auto-insurance ++$++ 我的汽车保险可以叫我吗 ++$++ Can  My  Car  Insurance  Sue  Me?',\n",
       " '505 ++$++ health-insurance ++$++ 健康保险是否涵盖宫内节育器？ ++$++ Does  Health  Insurance  Cover  An  IUD?',\n",
       " '506 ++$++ medicare-insurance ++$++ 医疗保险覆盖家庭护理援助？ ++$++ Does  Medicare  Cover  Home  Care  Assistance?',\n",
       " '507 ++$++ home-insurance ++$++ 我可以要求房主对我的税收保险吗？ ++$++ Can  I  Claim  Homeowners  Insurance  On  My  Taxes?',\n",
       " '508 ++$++ home-insurance ++$++ 房主保险需要什么？ ++$++ What  Do  I  Need  For  Homeowners  Insurance?',\n",
       " '509 ++$++ life-insurance ++$++ 在伊斯兰教中禁止人寿保险吗？ ++$++ Is  Life  Insurance  Forbidden  In  Islam?',\n",
       " '510 ++$++ life-insurance ++$++ 什么是全人寿保险的目的？ ++$++ What  Is  The  Purpose  Of  Whole  Life  Insurance?',\n",
       " '511 ++$++ life-insurance ++$++ 如何在阿拉巴马州获得人寿保险牌照？ ++$++ How  Do  I  Get  A  Life  Insurance  License  In  Alabama?',\n",
       " '512 ++$++ renters-insurance ++$++ 租客保险是否涵盖动物？ ++$++ Does  Renters  Insurance  Cover  Animals?',\n",
       " '513 ++$++ life-insurance ++$++ 没有赡养费的单身人士需要人寿保险吗？ ++$++ Does  A  Single  Person  With  No  Dependents  Need  Life  Insurance?',\n",
       " '514 ++$++ life-insurance ++$++ 什么是最佳人寿保险公司？ ++$++ What  Are  The  Best  Term  Life  Insurance  Companies?',\n",
       " '515 ++$++ home-insurance ++$++ 什么是房主保险粘合剂？ ++$++ What  Is  Homeowners  Insurance  Binder?',\n",
       " '516 ++$++ health-insurance ++$++ 对健康保险可以扣除的是什么意思？ ++$++ What  Does  It  Mean  To  Have  A  Deductible  On  Health  Insurance?',\n",
       " '517 ++$++ disability-insurance ++$++ 联邦政府是否提供残疾保险？ ++$++ Does  Federal  Government  Offer  Disability  Insurance?',\n",
       " '518 ++$++ medicare-insurance ++$++ 医疗保险支付腹部成形术吗？ ++$++ Will  Medicare  Pay  For  Abdominoplasty?',\n",
       " '519 ++$++ auto-insurance ++$++ 汽车保险覆盖面对我来说是什么？ ++$++ What  Auto  Insurance  Coverage  Is  Right  For  Me?',\n",
       " '520 ++$++ life-insurance ++$++ 什么是人寿保险？ ++$++ What  Is  Viatical  Life  Insurance?',\n",
       " '521 ++$++ life-insurance ++$++ 你可以在普遍的人寿保险中现金吗？ ++$++ Can  You  Cash  In  A  Universal  Life  Insurance  Policy?',\n",
       " '522 ++$++ life-insurance ++$++ 全人寿保险的平均成本是多少？ ++$++ What  Is  The  Average  Cost  Of  Whole  Life  Insurance?',\n",
       " '523 ++$++ home-insurance ++$++ 家庭保险报价需要什么信息？ ++$++ What  Information  Is  Needed  For  A  Home  Insurance  Quote?',\n",
       " '524 ++$++ life-insurance ++$++ 什么是集团普遍人寿保险？ ++$++ What  Is  A  Group  Universal  Life  Insurance  Policy?',\n",
       " '525 ++$++ life-insurance ++$++ 我应该有多少人寿保险？ ++$++ Who  Much  Life  Insurance  Should  I  Have?',\n",
       " '526 ++$++ life-insurance ++$++ 购买人寿时需要什么？ ++$++ What  To  Look  For  When  Buying  Life  Insurance?',\n",
       " '527 ++$++ renters-insurance ++$++ 国家农场租赁保险是否覆盖盗窃？ ++$++ Does  State  Farm  Renters  Insurance  Cover  Theft?',\n",
       " '528 ++$++ renters-insurance ++$++ 租客保险是否盖车库物品？ ++$++ Does  Renters  Insurance  Cover  Garage  Items?',\n",
       " '529 ++$++ home-insurance ++$++ 我需要地震保险吗？ ++$++ Do  I  Need  Earthquake  Insurance  My  Home?',\n",
       " '530 ++$++ life-insurance ++$++ 谁符合人寿保险资格？ ++$++ Who  Qualifies  For  Life  Insurance?',\n",
       " '531 ++$++ renters-insurance ++$++ 租客保险在火灾中遇到什么？ ++$++ What  Does  Renters  Insurance  Cover  In  A  Fire?',\n",
       " '532 ++$++ renters-insurance ++$++ 什么是保障欠租人保险？ ++$++ What  Is  Protected  Under  Renters  Insurance?',\n",
       " '533 ++$++ auto-insurance ++$++ 汽车保险费用多少？ ++$++ How  Much  Does  It  Cost  For  Car  Insurance?',\n",
       " '534 ++$++ life-insurance ++$++ 人寿保险可以竞争吗？ ++$++ Can  Life  Insurance  Be  Contested?',\n",
       " '535 ++$++ medicare-insurance ++$++ 护理家庭护理是由医疗保险覆盖吗？ ++$++ Is  Nursing  Home  Care  Covered  By  Medicare?',\n",
       " '536 ++$++ life-insurance ++$++ 什么是人寿保险报价？ ++$++ What  Is  A  Life  Insurance  Quote?',\n",
       " '537 ++$++ medicare-insurance ++$++ 什么时候有人符合医疗保险D部分？ ++$++ When  Is  Someone  Eligible  For  Medicare  Part  D?',\n",
       " '538 ++$++ health-insurance ++$++ 我可以在另一个国家使用我的健康保险吗？ ++$++ Can  I  Use  My  Health  Insurance  In  Another  State?',\n",
       " '539 ++$++ retirement-plans ++$++ 为什么要翻转我的401K？ ++$++ Why  Should  I  Rollover  My  401K?',\n",
       " '540 ++$++ life-insurance ++$++ 您需要在缅因州出售人寿的许可证吗？ ++$++ Do  You  Need  A  License  To  Sell  Life  Insurance  In  Maine?',\n",
       " '541 ++$++ disability-insurance ++$++ 医生有多少伤残保险？ ++$++ How  Much  Is  Disability  Insurance  For  Doctors?',\n",
       " '542 ++$++ medicare-insurance ++$++ 医疗保险可以三分之一吗？ ++$++ Can  Tricare  Be  Primary  Over  Medicare?',\n",
       " '543 ++$++ health-insurance ++$++ 什么是HSA健康保险计划？ ++$++ What  Is  An  HSA  Health  Insurance  Plan?',\n",
       " '544 ++$++ health-insurance ++$++ 健康保险的年龄限制是多少？ ++$++ What  Is  The  Age  Limit  For  Health  Insurance?',\n",
       " '545 ++$++ retirement-plans ++$++ 如何找到注册投资顾问？ ++$++ How  To  Find  A  Registered  Investment  Advisor?',\n",
       " '546 ++$++ life-insurance ++$++ 谁能兑现人寿保险？ ++$++ Who  Can  Cash  Out  A  Life  Insurance  Policy?',\n",
       " '547 ++$++ life-insurance ++$++ 一个人有两个人寿保险政策吗？ ++$++ Can  One  Person  Have  Two  Life  Insurance  Policies?',\n",
       " '548 ++$++ medicare-insurance ++$++ 2014年什么是医疗保险？ ++$++ What  Will  Be  The  Medicare  Premium  In  2014?',\n",
       " '549 ++$++ long-term-care-insurance ++$++ 何时开始长期护理保险？ ++$++ When  To  Start  Long  Term  Care  Insurance?',\n",
       " '550 ++$++ medicare-insurance ++$++ 怀俄明州如何获得医疗保险资格？ ++$++ How  Do  I  Qualify  For  Medicare  In  Wyoming?',\n",
       " '551 ++$++ disability-insurance ++$++ 谁应该得到残疾保险？ ++$++ Who  Should  Get  Disability  Insurance?',\n",
       " '552 ++$++ renters-insurance ++$++ 最便宜的租客保险在哪里？ ++$++ Where  Is  The  Cheapest  Renters  Insurance?',\n",
       " '553 ++$++ life-insurance ++$++ 人寿保险可以信托吗？ ++$++ Can  Life  Insurance  Go  To  A  Trust?',\n",
       " '554 ++$++ health-insurance ++$++ 什么是没有健康保险在Obamacare下的罚款？ ++$++ What  Is  The  Penalty  For  Not  Having  Health  Insurance  Under  Obamacare?',\n",
       " '555 ++$++ home-insurance ++$++ 如何获得房主保险报价？ ++$++ How  To  Get  Quotes  For  Homeowners  Insurance?',\n",
       " '556 ++$++ life-insurance ++$++ 人寿保险是否缴纳税款？ ++$++ Is  Life  Insurance  Taxed  When  Paid  Out?',\n",
       " '557 ++$++ auto-insurance ++$++ 汽车保险在加利福尼亚有多少是全覆盖的？ ++$++ How  Much  Is  Full  Coverage  Auto  Insurance  In  California?',\n",
       " '558 ++$++ medicare-insurance ++$++ 你可以在线申请Medicare B部分吗？ ++$++ Can  You  Apply  For  Medicare  Part  B  Online?',\n",
       " '559 ++$++ annuities ++$++ 我应该有多少年金？ ++$++ How  Much  Should  I  Have  In  Annuities?',\n",
       " '560 ++$++ auto-insurance ++$++ 汽车保险可以在您的信用报告吗？ ++$++ Can  Car  Insurance  Go  On  Your  Credit  Report?',\n",
       " '561 ++$++ auto-insurance ++$++ 我正在越过国家。我在交通过程中保险我的财产是什么？ ++$++ I  am  moving  across  country.  What  are  my  options  to  insure  my  property  during  transit',\n",
       " '562 ++$++ health-insurance ++$++ PCN站在健康保险卡上什么？ ++$++ What  Does  PCN  Stand  For  On  A  Health  Insurance  Card?',\n",
       " '563 ++$++ long-term-care-insurance ++$++ 多少长期护理保险足够？ ++$++ How  Much  Long  Term  Care  Insurance  Is  Enough?',\n",
       " '564 ++$++ renters-insurance ++$++ 买房租的保险怎么办？ ++$++ What  To  Look  For  When  Buying  Renters  Insurance?',\n",
       " '565 ++$++ health-insurance ++$++ 健康保险通过工作多少钱？ ++$++ How  Much  Is  Health  Insurance  Through  A  Job?',\n",
       " '566 ++$++ health-insurance ++$++ 新泽西州个人健康保险多少？ ++$++ How  Much  Is  Individual  Health  Insurance  In  New  Jersey?',\n",
       " '567 ++$++ home-insurance ++$++ 房主保险覆盖失去的结婚戒指？ ++$++ Does  Homeowners  Insurance  Cover  A  Lost  Wedding  Ring?',\n",
       " '568 ++$++ life-insurance ++$++ 人寿保险需要血液检查吗？ ++$++ Does  Life  Insurance  Require  A  Blood  Test?',\n",
       " '569 ++$++ auto-insurance ++$++ 汽车保险是否覆盖司机或汽车？ ++$++ Does  The  Car  Insurance  Cover  The  Driver  Or  The  Car?',\n",
       " '570 ++$++ medicare-insurance ++$++ 如何购买医疗保险？ ++$++ How  To  Purchase  Medicare  Insurance?',\n",
       " '571 ++$++ health-insurance ++$++ 孩子可以多长时间养父母健康保险？ ++$++ How  Long  Can  Children  Be  On  Parents  Health  Insurance?',\n",
       " '572 ++$++ medicare-insurance ++$++ 安全视野医疗保险补充？ ++$++ Is  Secure  Horizons  A  Medicare  Supplement?',\n",
       " '573 ++$++ renters-insurance ++$++ 租金保险费用一个月多少？ ++$++ How  Much  Does  Renters  Insurance  Cost  A  Month?',\n",
       " '574 ++$++ medicare-insurance ++$++ 哪个医疗保险B部分计划是最好的？ ++$++ Which  Medicare  Part  B  Plan  Is  Best?',\n",
       " '575 ++$++ disability-insurance ++$++ 有多少雇主提供残疾保险？ ++$++ How  Many  Employers  Offer  Disability  Insurance?',\n",
       " '576 ++$++ health-insurance ++$++ 什么类型的工作提供最佳健康保险？ ++$++ What  Types  Of  Jobs  Offer  The  Best  Health  Insurance  Coverage?',\n",
       " '577 ++$++ renters-insurance ++$++ 什么是良好的租赁保险政策？ ++$++ What  Is  A  Good  Renters  Insurance  Policy?',\n",
       " '578 ++$++ life-insurance ++$++ 你应该有多长时间的人寿保险？ ++$++ How  Long  Should  You  Have  Term  Life  Insurance?',\n",
       " '579 ++$++ medicare-insurance ++$++ 医疗保险补贴F是什么？ ++$++ What  Does  Medicare  Supplement  F  Cover?',\n",
       " '580 ++$++ life-insurance ++$++ 人寿保险是否进入房地产？ ++$++ Does  Life  Insurance  Money  Go  Into  Estate?',\n",
       " '581 ++$++ life-insurance ++$++ 什么是军人集团人寿保险？ ++$++ What  Is  Servicemen  Group  Life  Insurance  Coverage?',\n",
       " '582 ++$++ disability-insurance ++$++ 为什么要购买补充残疾保险？ ++$++ Why  Buy  Supplemental  Disability  Insurance?',\n",
       " '583 ++$++ health-insurance ++$++ 没有身体健康吗？ ++$++ Can  I  Get  Health  Insurance  Without  A  Physical?',\n",
       " '584 ++$++ renters-insurance ++$++ 我的租客保险是否覆盖我的手机？ ++$++ Does  My  Renters  Insurance  Cover  My  Cell  Phone?',\n",
       " '585 ++$++ home-insurance ++$++ 家庭危害保险是什么？ ++$++ What  Does  Home  Hazard  Insurance  Cover?',\n",
       " '586 ++$++ medicare-insurance ++$++ 你能否在医疗保险方面声称成形术？ ++$++ Can  You  Claim  Rhinoplasty  On  Medicare?',\n",
       " '587 ++$++ life-insurance ++$++ 全人寿保险是否真的有意义？ ++$++ Does  Whole  Life  Insurance  Ever  Really  Make  Sense?',\n",
       " '588 ++$++ life-insurance ++$++ 为什么人寿保险这么便宜？ ++$++ Why  Is  Life  Insurance  So  Cheap?',\n",
       " '589 ++$++ renters-insurance ++$++ 弗吉尼亚州需要租赁保险吗？ ++$++ Does  Virginia  Require  Renters  Insurance?',\n",
       " '590 ++$++ medicare-insurance ++$++ 医疗保险覆盖眼镜多少钱？ ++$++ How  Much  Does  Medicare  Cover  For  Glasses?',\n",
       " '591 ++$++ life-insurance ++$++ 你如何确定你需要多长时间的人寿保险？ ++$++ How  Do  You  Determine  How  Much  Term  Life  Insurance  You  Need?',\n",
       " '592 ++$++ life-insurance ++$++ 你可以取消人寿保险吗？ ++$++ Can  You  Cancel  Life  Insurance?',\n",
       " \"593 ++$++ health-insurance ++$++ 如果我没有健康保险，我会被征税吗？ ++$++ Will  I  Be  Taxed  If  I  Don't  Have  Health  Insurance?\",\n",
       " '594 ++$++ medicare-insurance ++$++ 什么是服务承包商的医疗费用？ ++$++ What  Is  Medicare  Fee  For  Service  Contractor?',\n",
       " '595 ++$++ renters-insurance ++$++ 租客保险是否盖枪盗窃？ ++$++ Does  Renters  Insurance  Cover  Gun  Theft?',\n",
       " '596 ++$++ life-insurance ++$++ 什么是儿童最佳人寿保险？ ++$++ What  Is  The  Best  Life  Insurance  Policy  For  Children?',\n",
       " '597 ++$++ life-insurance ++$++ Allstate做人寿保险？ ++$++ Does  Allstate  Do  Life  Insurance?',\n",
       " '598 ++$++ auto-insurance ++$++ 宾夕法尼亚州的汽车保险最低费用是多少？ ++$++ What  Are  The  Car  Insurance  Minimums  In  Pennsylvania?',\n",
       " '599 ++$++ medicare-insurance ++$++ 我可以有私人保险和医疗保险吗？ ++$++ Can  I  Have  Private  Insurance  And  Medicare?',\n",
       " '600 ++$++ disability-insurance ++$++ 为什么要买残疾保险？ ++$++ Why  You  Should  Buy  Disability  Insurance?',\n",
       " '601 ++$++ auto-insurance ++$++ 谁能添加到我的汽车保险？ ++$++ Who  Can  I  Add  To  My  Auto  Insurance?',\n",
       " '602 ++$++ life-insurance ++$++ 你可以取消全人寿保险吗？ ++$++ Can  You  Cancel  A  Whole  Life  Insurance  Policy?',\n",
       " '603 ++$++ auto-insurance ++$++ 汽车保险在加价车票之后增加多少？ ++$++ How  Much  Does  Auto  Insurance  Increase  After  Speeding  Ticket?',\n",
       " '604 ++$++ auto-insurance ++$++ 汽车保险何时下跌？ ++$++ When  Is  Car  Insurance  Going  Down?',\n",
       " '605 ++$++ disability-insurance ++$++ 残疾保险是否推荐？ ++$++ Is  Disability  Insurance  Recommended?',\n",
       " '606 ++$++ life-insurance ++$++ 为什么全民保险这么昂贵？ ++$++ Why  Is  Whole  Life  Insurance  So  Expensive?',\n",
       " '607 ++$++ life-insurance ++$++ 谁应该拥有你的人寿保险？ ++$++ Who  Should  Own  Your  Life  Insurance  Policy?',\n",
       " '608 ++$++ medicare-insurance ++$++ 什么是替代医疗保险？ ++$++ What  Is  A  Medicare  Replacement?',\n",
       " '609 ++$++ life-insurance ++$++ 我父母的人寿保险是多少？ ++$++ How  Much  Is  Life  Insurance  For  My  Parents?',\n",
       " '610 ++$++ life-insurance ++$++ 谁出售定期人寿保险？ ++$++ Who  Sells  Term  Life  Insurance?',\n",
       " '611 ++$++ life-insurance ++$++ 谁能购买人寿保险？ ++$++ Who  Can  Purchase  Life  Insurance?',\n",
       " \"612 ++$++ health-insurance ++$++ 我的代理人告诉我我已经涵盖了产前保健，但是现在我怀孕了，发现我没有涵盖任何产妇相关的东西。我该怎么办？ ++$++ My  Agent  Told  Me  I  Was  Covered  For  Prenatal  Care,  But  Now  I'M  Pregnant  And  Found  Out  I'm  Not  Covered  For  Anything  Maternity  Related.  What  Do  I  Do?\",\n",
       " '613 ++$++ auto-insurance ++$++ 谁卖最便宜的汽车保险？ ++$++ Who  Sells  The  Cheapest  Auto  Insurance?',\n",
       " '614 ++$++ disability-insurance ++$++ 我需要什么牌子卖残疾保险？ ++$++ What  License  Do  I  Need  To  Sell  Disability  Insurance?',\n",
       " '615 ++$++ health-insurance ++$++ 如果失业，我可以得到健康保险吗？ ++$++ Can  I  Get  Health  Insurance  If  Unemployed?',\n",
       " '616 ++$++ health-insurance ++$++ 我可以把我的老人家长给我的健康保险吗？ ++$++ Can  I  Add  My  Elderly  Parent  To  My  Health  Insurance?',\n",
       " '617 ++$++ life-insurance ++$++ 什么是全人寿保险？ ++$++ What  Is  Wrong  With  Whole  Life  Insurance?',\n",
       " '618 ++$++ life-insurance ++$++ 你可以在人寿保险中现金吗？ ++$++ Can  You  Cash  In  Your  Life  Insurance?',\n",
       " '619 ++$++ life-insurance ++$++ 什么是人寿保险证书？ ++$++ What  Is  A  Life  Insurance  Certificate?',\n",
       " '620 ++$++ renters-insurance ++$++ 什么是租赁保险的使用？ ++$++ What  Is  Renters  Insurance  Loss  Of  Use?',\n",
       " '621 ++$++ auto-insurance ++$++ 汽车保险是否覆盖鹿？ ++$++ Does  Auto  Insurance  Cover  Hitting  Deer?',\n",
       " '622 ++$++ medicare-insurance ++$++ 医疗保险是否可以用尽？ ++$++ Is  Medicare  Likely  To  Run  Out  Of  Money?',\n",
       " '623 ++$++ disability-insurance ++$++ 什么是两种类型的残疾保险？ ++$++ What  Are  Two  Types  Of  Disability  Insurance?',\n",
       " '624 ++$++ retirement-plans ++$++ 什么是不合格退休计划？ ++$++ What  Is  A  Non-Qualified  Retirement  Plan?',\n",
       " '625 ++$++ annuities ++$++ 什么是即时年金的排除比例？ ++$++ What  Is  The  Exclusion  Ratio  Of  Immediate  Annuities?',\n",
       " '626 ++$++ health-insurance ++$++ 多少是健康保险的保险费？ ++$++ How  Much  Is  A  Premium  For  Health  Insurance?',\n",
       " '627 ++$++ health-insurance ++$++ 眼镜蛇健康保险好吗？ ++$++ Is  Cobra  Health  Insurance  Good?',\n",
       " '628 ++$++ life-insurance ++$++ 需要信用检查才能获得人寿保险？ ++$++ Is  A  Credit  Check  Required  To  Get  Life  Insurance?',\n",
       " '629 ++$++ disability-insurance ++$++ 为什么人们得到残疾保险？ ++$++ Why  Do  People  Get  Disability  Insurance?',\n",
       " '630 ++$++ health-insurance ++$++ 健康保险公司可以告诉你吸烟吗？ ++$++ Can  Health  Insurance  Companies  Tell  If  You  Smoke?',\n",
       " '631 ++$++ medicare-insurance ++$++ 如果你在医疗保险中，你可以在YMCA获得Silvers Sneakers会员资格吗？ ++$++ Can  you  get  a  Silvers  Sneakers  membership  at  the  YMCA  if  you  are  on  Medicare?',\n",
       " '632 ++$++ life-insurance ++$++ 任何人都可以拿出人寿保险吗？ ++$++ Can  Anyone  Take  Out  A  Life  Insurance  Policy  On  Anyone?',\n",
       " '633 ++$++ auto-insurance ++$++ 什么时候需要商业汽车保险？ ++$++ When  Do  I  Need  Commercial  Auto  Insurance?',\n",
       " '634 ++$++ long-term-care-insurance ++$++ 为什么长期护理保险市场这么小？ ++$++ Why  Is  The  Market  For  Long  Term  Care  Insurance  So  Small?',\n",
       " '635 ++$++ life-insurance ++$++ 何时开始全员保险？ ++$++ When  Did  Whole  Life  Insurance  Start?',\n",
       " '636 ++$++ auto-insurance ++$++ 如何将我的保险转让给另一辆车？ ++$++ How  Do  I  Transfer  My  Insurance  To  Another  Car?',\n",
       " '637 ++$++ life-insurance ++$++ ROP在人寿保险中意味着什么？ ++$++ What  Does  ROP  Mean  In  Life  Insurance?',\n",
       " '638 ++$++ disability-insurance ++$++ 什么是长期残疾保险？ ++$++ What  Qualifies  For  Long  Term  Disability  Insurance?',\n",
       " '639 ++$++ life-insurance ++$++ 你有不止一个人寿保险吗？ ++$++ Can  You  Have  More  Than  One  Life  Insurance  Policies?',\n",
       " '640 ++$++ home-insurance ++$++ 如何购买新房子的房主保险？ ++$++ How  To  Buy  Homeowners  Insurance  For  A  New  Home?',\n",
       " '641 ++$++ health-insurance ++$++ 如何获得我自己的健康保险？ ++$++ How  Do  I  Get  My  Own  Health  Insurance?',\n",
       " '642 ++$++ long-term-care-insurance ++$++ 长期护理保险费可以扣除吗？ ++$++ Can  Long  Term  Care  Insurance  Premiums  Be  Deducted?',\n",
       " '643 ++$++ life-insurance ++$++ 债务人可以承担人寿保险吗？ ++$++ Can  Debtors  Take  Life  Insurance?',\n",
       " '644 ++$++ renters-insurance ++$++ 在哪里获得租赁保险？ ++$++ Where  To  Get  Renters  Insurance?',\n",
       " '645 ++$++ medicare-insurance ++$++ 医疗保险批准金额多少是眼镜？ ++$++ How  Much  Is  The  Medicare  Approved  Amount  For  Eyeglasses?',\n",
       " '646 ++$++ life-insurance ++$++ 人寿保险血液检查寻找什么？ ++$++ What  Does  A  Life  Insurance  Blood  Test  Look  For?',\n",
       " '647 ++$++ medicare-insurance ++$++ 什么时候可以获得医疗福利？ ++$++ When  Can  I  Receive  Medicare  Benefits?',\n",
       " '648 ++$++ annuities ++$++ 年金可以用于抵押品吗？ ++$++ Can  Annuities  Be  Used  For  Collateral?',\n",
       " '649 ++$++ medicare-insurance ++$++ 什么是医疗保健中的MOOP？ ++$++ What  Is  MOOP  In  Medicare?',\n",
       " '650 ++$++ disability-insurance ++$++ 如何购买短期残疾保险？ ++$++ How  To  Purchase  Short  Term  Disability  Insurance?',\n",
       " '651 ++$++ home-insurance ++$++ 屋主保险盖屋顶塌方？ ++$++ Does  Homeowners  Insurance  Cover  Roof  Collapse  Due  To  Snow?',\n",
       " '652 ++$++ retirement-plans ++$++ 为什么Roth IRA免税？ ++$++ Why  Is  A  Roth  IRA  Tax  Free?',\n",
       " '653 ++$++ critical-illness-insurance ++$++ 谁需要严重疾病保险？ ++$++ Who  Needs  Critical  Illness  Insurance?',\n",
       " '654 ++$++ life-insurance ++$++ 人寿保险公司如何知道你死了？ ++$++ How  Does  A  Life  Insurance  Company  Know  You  Died?',\n",
       " '655 ++$++ health-insurance ++$++ 哪里获得最佳健康保险？ ++$++ Where  To  Get  The  Best  Health  Insurance?',\n",
       " '656 ++$++ life-insurance ++$++ 人寿保险如何便宜？ ++$++ How  Can  Life  Insurance  Be  So  Cheap?',\n",
       " '657 ++$++ auto-insurance ++$++ 汽车保险可以扣除多少？ ++$++ How  Much  Is  A  Car  Insurance  Deductible?',\n",
       " '658 ++$++ home-insurance ++$++ 家庭保险在火灾中遇到什么？ ++$++ What  Does  Home  Insurance  Cover  In  A  Fire?',\n",
       " '659 ++$++ home-insurance ++$++ 失业是否影响家庭保险？ ++$++ Does  Being  Unemployed  Affect  Home  Insurance?',\n",
       " '660 ++$++ medicare-insurance ++$++ 为什么要获得Medigap？ ++$++ Why  Get  Medigap?',\n",
       " '661 ++$++ life-insurance ++$++ 住房保险费用是什么？ ++$++ What  Are  M&E  Charges  On  Life  Insurance?',\n",
       " '662 ++$++ life-insurance ++$++ 花费多少钱来偿付全人寿保险？ ++$++ How  Long  Does  It  Take  To  Pay  Off  Whole  Life  Insurance?',\n",
       " '663 ++$++ retirement-plans ++$++ 什么是顶帽退休计划？ ++$++ What  Is  A  Top  Hat  Retirement  Plan?',\n",
       " '664 ++$++ life-insurance ++$++ 78岁可以获得人寿保险吗？ ++$++ Can  A  78  Year  Old  Get  Life  Insurance?',\n",
       " '665 ++$++ home-insurance ++$++ 家庭保险公司可以放弃你吗？ ++$++ Can  A  Home  Insurance  Company  Drop  You?',\n",
       " '666 ++$++ health-insurance ++$++ 健康保险是否覆盖牙种植体？ ++$++ Does  Health  Insurance  Cover  Dental  Implants?',\n",
       " \"667 ++$++ home-insurance ++$++ 如果我不能获得房主保险，会发生什么？ ++$++ What  Happens  If  I  Can't  Get  Homeowners  Insurance?\",\n",
       " '668 ++$++ life-insurance ++$++ 宝力人寿保险是什么？ ++$++ What  Is  Boli  Life  Insurance?',\n",
       " '669 ++$++ life-insurance ++$++ 人寿保险检查要多久清除？ ++$++ How  Long  Does  A  Life  Insurance  Check  Take  To  Clear?',\n",
       " '670 ++$++ health-insurance ++$++ 新墨西哥应该在哪里购买健康保险？ ++$++ Where  Should  I  Buy  Health  Insurance  In  New  Mexico?',\n",
       " '671 ++$++ renters-insurance ++$++ 什么是租赁保险？ ++$++ What  Is  Renters  Insurance  Coverage?',\n",
       " '672 ++$++ long-term-care-insurance ++$++ Suze Orman对长期护理保险有什么看法？ ++$++ What  Does  Suze  Orman  Say  About  Long  Term  Care  Insurance?',\n",
       " '673 ++$++ health-insurance ++$++ 得克萨斯州一个人的健康保险多少？ ++$++ How  Much  Is  Health  Insurance  For  One  Person  In  Texas?',\n",
       " '674 ++$++ auto-insurance ++$++ 我可以用我的汽车保险租车吗？ ++$++ Can  I  Use  My  Car  Insurance  To  Rent  A  Car?',\n",
       " '675 ++$++ medicare-insurance ++$++ 如何申请医疗保险B部分？ ++$++ How  To  Apply  For  Medicare  Part  B?',\n",
       " '676 ++$++ auto-insurance ++$++ 我可以为我的孩子买车吗？ ++$++ Can  I  Get  Car  Insurance  For  My  Kids?',\n",
       " '677 ++$++ medicare-insurance ++$++ 医疗保险何时覆盖家庭保健？ ++$++ When  Does  Medicare  Cover  Home  Health  Care?',\n",
       " '678 ++$++ home-insurance ++$++ 房主保险是否覆盖暖通空调？ ++$++ Does  Homeowners  Insurance  Cover  HVAC?',\n",
       " '679 ++$++ retirement-plans ++$++ 什么是401C的早期罚款？ ++$++ What  Is  The  Penalty  For  Cashing  Out  A  401K  Early?',\n",
       " '680 ++$++ health-insurance ++$++ 健康保险是否适用？ ++$++ Is  Health  Insurance  Mandatory?',\n",
       " '681 ++$++ renters-insurance ++$++ 平均租金保险费用多少？ ++$++ How  Much  Does  The  Average  Renters  Insurance  Cost?',\n",
       " '682 ++$++ life-insurance ++$++ 债务追回者可以追求人寿保险吗？ ++$++ Can  Debt  Collectors  Go  After  Life  Insurance?',\n",
       " '683 ++$++ health-insurance ++$++ 个人健康保险费用多少？ ++$++ How  Much  Does  Health  Insurance  For  Individuals  Cost?',\n",
       " '684 ++$++ health-insurance ++$++ 健康保险是否补贴？ ++$++ Is  Health  Insurance  Subsidized?',\n",
       " '685 ++$++ life-insurance ++$++ 全人寿保险贷款如何运作？ ++$++ How  Does  A  Whole  Life  Insurance  Loan  Work?',\n",
       " '686 ++$++ auto-insurance ++$++ 什么是汽车身体伤害保险？ ++$++ What  Is  Auto  Physical  Damage  Insurance?',\n",
       " '687 ++$++ renters-insurance ++$++ 我需要多少保险？ ++$++ How  Much  Coverage  Do  I  Need  For  Renters  Insurance?',\n",
       " '688 ++$++ disability-insurance ++$++ 如何在线购买残疾保险？ ++$++ How  To  Buy  Disability  Insurance  Online?',\n",
       " '689 ++$++ health-insurance ++$++ 整形术是健康保险涵盖的吗？ ++$++ Is  Rhinoplasty  Covered  By  Health  Insurance?',\n",
       " '690 ++$++ renters-insurance ++$++ 房东要求租客保险是否合法？ ++$++ Is  It  Legal  For  Landlord  To  Require  Renters  Insurance?',\n",
       " '691 ++$++ medicare-insurance ++$++ 医疗保险盖STD测试？ ++$++ Does  Medicare  Cover  STD  Testing?',\n",
       " '692 ++$++ auto-insurance ++$++ 我怎么知道我的车祸是否完成？ ++$++ How  do  I  know  when  my  car  accident  claim  is  complete?',\n",
       " '693 ++$++ home-insurance ++$++ 房屋医疗保险涵盖什么？ ++$++ What  Does  Homeowners  Medical  Insurance  Cover?',\n",
       " '694 ++$++ health-insurance ++$++ 健康保险是否影响老年工人的就业？ ++$++ Does  Health  Insurance  Affect  The  Employment  Of  Older  Workers?',\n",
       " '695 ++$++ life-insurance ++$++ 人寿保险通过遗嘱？ ++$++ Does  Life  Insurance  Go  Through  Probate?',\n",
       " '696 ++$++ life-insurance ++$++ 谁能为不可撤销的人寿保险信托做出贡献？ ++$++ Who  Can  Contribute  To  An  Irrevocable  Life  Insurance  Trust?',\n",
       " '697 ++$++ home-insurance ++$++ 家庭日托需要什么样的保险？ ++$++ What  Kind  Of  Insurance  Is  Needed  For  A  Home  Daycare?',\n",
       " '698 ++$++ life-insurance ++$++ 药物过量被人寿保险覆盖吗？ ++$++ Is  A  Drug  Overdose  Covered  By  Life  Insurance?',\n",
       " '699 ++$++ disability-insurance ++$++ 谁是符合残疾保险条件？ ++$++ Who  Is  Eligible  For  Disability  Insurance?',\n",
       " '700 ++$++ life-insurance ++$++ 谁需要全人寿保险？ ++$++ Who  Needs  Whole  Life  Insurance?',\n",
       " '701 ++$++ medicare-insurance ++$++ D部分医疗保险是否免费？ ++$++ Is  Part  D  Medicare  Free?',\n",
       " '702 ++$++ medicare-insurance ++$++ 你有两个医疗保险和VA的好处？ ++$++ Can  You  Have  Both  Medicare  And  VA  Benefits?',\n",
       " '703 ++$++ auto-insurance ++$++ 搬家时需要改车保险吗？ ++$++ Do  I  Need  To  Change  Car  Insurance  When  I  Move?',\n",
       " '704 ++$++ retirement-plans ++$++ 如何选择合适的退休计划？ ++$++ How  To  Choose  The  Right  Retirement  Plan?',\n",
       " '705 ++$++ home-insurance ++$++ 家庭保险是否包含被盗现金？ ++$++ Does  Home  Insurance  Cover  Stolen  Cash?',\n",
       " '706 ++$++ life-insurance ++$++ 人寿保险的面值是多少？ ++$++ What  Is  Face  Value  Of  Life  Insurance?',\n",
       " '707 ++$++ medicare-insurance ++$++ 谁有最佳的Medigap计划？ ++$++ Who  Has  The  Best  Medigap  Plan?',\n",
       " '708 ++$++ life-insurance ++$++ 未成年人能否成为人寿保险受益人？ ++$++ Can  A  Minor  Be  A  Beneficiary  On  Life  Insurance?',\n",
       " '709 ++$++ auto-insurance ++$++ 密歇根州需要汽车保险吗？ ++$++ Does  Michigan  Require  Auto  Insurance?',\n",
       " '710 ++$++ health-insurance ++$++ 如何注册眼镜蛇健康保险？ ++$++ How  Do  I  Sign  Up  For  Cobra  Health  Insurance?',\n",
       " '711 ++$++ retirement-plans ++$++ 401（K）计划能否提供足够的退休资源？ ++$++ Can  401(K)  Plans  Provide  Adequate  Retirement  Resources?',\n",
       " '712 ++$++ retirement-plans ++$++ 军人退休金是否合格退休计划？ ++$++ Is  A  Military  Pension  A  Qualified  Retirement  Plan?',\n",
       " '713 ++$++ annuities ++$++ 卖年金怎么办？ ++$++ What  Does  It  Take  To  Sell  Annuities?',\n",
       " '714 ++$++ medicare-insurance ++$++ 每个人65岁以上是否符合医疗保险？ ++$++ Does  Everyone  65  And  Older  Qualify  For  Medicare?',\n",
       " '715 ++$++ long-term-care-insurance ++$++ 如果您超过80岁，您可以获得长期护理保险吗？ ++$++ Can  You  Get  Long  Term  Care  Insurance  If  You  Are  Over  80?',\n",
       " '716 ++$++ life-insurance ++$++ 纽约人寿保险代理人有多少？ ++$++ How  Much  Does  A  New  York  Life  Insurance  Agent  Make?',\n",
       " '717 ++$++ disability-insurance ++$++ 独资经营者可以扣除残疾保险费吗？ ++$++ Can  A  Sole  Proprietor  Deduct  Disability  Insurance  Premiums?',\n",
       " '718 ++$++ health-insurance ++$++ 雇主可以向老年雇主收取更高的费用吗？ ++$++ Can  an  employer  charge  higher  rates  to  older  employee?',\n",
       " '719 ++$++ home-insurance ++$++ 房主的保险是否覆盖了地下室？ ++$++ Will  Homeowners  Insurance  Cover  A  Leaking  Basement?',\n",
       " '720 ++$++ medicare-insurance ++$++ 如何通知医疗保险？ ++$++ How  Do  I  Notify  Medicare  Of  A  Death?',\n",
       " '721 ++$++ medicare-insurance ++$++ 医疗保险优势与医疗保险保险的区别是什么？ ++$++ What  Is  The  Difference  Between  Medicare  Advantage  And  Medigap  Insurance?',\n",
       " '722 ++$++ health-insurance ++$++ 健康保险为新生儿费用多少？ ++$++ How  Much  Does  Health  Insurance  For  A  Newborn  Cost?',\n",
       " '723 ++$++ auto-insurance ++$++ 汽车保险结算是否应纳税？ ++$++ Is  An  Auto  Insurance  Settlement  Taxable?',\n",
       " '724 ++$++ renters-insurance ++$++ 租金保险是否包括被盗现金？ ++$++ Will  Renters  Insurance  Cover  Stolen  Cash?',\n",
       " '725 ++$++ health-insurance ++$++ 为什么我们需要健康保险公司？ ++$++ Why  Do  We  Need  Health  Insurance  Companies?',\n",
       " '726 ++$++ auto-insurance ++$++ 我应该在俄亥俄州多少辆汽车保险？ ++$++ How  Much  Car  Insurance  Should  I  Carry  In  Ohio?',\n",
       " '727 ++$++ disability-insurance ++$++ 短期残疾保险多久？ ++$++ How  Long  Does  Short  Term  Disability  Insurance  Last?',\n",
       " '728 ++$++ medicare-insurance ++$++ 我退休时会有医疗保险吗？ ++$++ Will  Medicare  Be  There  When  I  Retire?',\n",
       " '729 ++$++ auto-insurance ++$++ 我的兄弟可以驾驶我的汽车没有保险吗？ ++$++ Can  My  Brother  Drive  My  Car  Without  Insurance?',\n",
       " '730 ++$++ medicare-insurance ++$++ 65岁之前可以享受医疗保险吗？ ++$++ Can  I  Get  On  Medicare  Before  The  Age  Of  65?',\n",
       " '731 ++$++ health-insurance ++$++ 为什么健康保险存在？ ++$++ Why  Does  Health  Insurance  Exist?',\n",
       " '732 ++$++ medicare-insurance ++$++ 医疗保险A和医疗保险B之间有什么区别？ ++$++ What  Are  The  Differences  Between  Medicare  A  And  Medicare  B?',\n",
       " '733 ++$++ annuities ++$++ 什么时候最好的时候买年金？ ++$++ When  Is  The  Best  Time  To  Buy  Annuities?',\n",
       " '734 ++$++ life-insurance ++$++ 人寿保险血液和尿液测试是什么？ ++$++ What  Does  Life  Insurance  Blood  And  Urine  Test  For?',\n",
       " '735 ++$++ life-insurance ++$++ 离婚期间人寿保险怎么办？ ++$++ What  Happens  To  Life  Insurance  During  Divorce?',\n",
       " '736 ++$++ life-insurance ++$++ 哪里购买好人寿保险？ ++$++ Where  To  Buy  Good  Life  Insurance?',\n",
       " '737 ++$++ renters-insurance ++$++ 基本租金保险费用多少？ ++$++ How  Much  Does  Basic  Renters  Insurance  Cost?',\n",
       " '738 ++$++ life-insurance ++$++ 西北共同人寿保险投资良好？ ++$++ Is  Northwestern  Mutual  Whole  Life  Insurance  A  Good  Investment?',\n",
       " '739 ++$++ life-insurance ++$++ 可以从终身人寿保险中获得现金吗？ ++$++ Can  You  Get  Cash  From  A  Term  Life  Insurance  Policy?',\n",
       " '740 ++$++ renters-insurance ++$++ 哪里可以获得低廉的租金保险？ ++$++ Where  To  Get  Cheap  Renters  Insurance?',\n",
       " '741 ++$++ health-insurance ++$++ 60岁的健康保险多少钱？ ++$++ How  Much  Is  Health  Insurance  For  A  60  Year  Old?',\n",
       " '742 ++$++ annuities ++$++ 您的投资组合应该在年金中多少？ ++$++ How  Much  Of  Your  Portfolio  Should  Be  In  Annuities?',\n",
       " '743 ++$++ auto-insurance ++$++ 哪里可以得到没有车的保险？ ++$++ Where  Can  I  Get  Insurance  Without  A  Car?',\n",
       " '744 ++$++ renters-insurance ++$++ 是否需要租赁保险？ ++$++ Should  Renters  Insurance  Be  Required?',\n",
       " '745 ++$++ home-insurance ++$++ 如何在房主保险上节省资金？ ++$++ How  Can  I  Save  Money  On  Homeowners  Insurance?',\n",
       " '746 ++$++ life-insurance ++$++ 什么是生命和TPD保险？ ++$++ What  Is  Life  And  TPD  Insurance?',\n",
       " '747 ++$++ life-insurance ++$++ 你可以在其他人身上购买人寿吗？ ++$++ Can  You  Buy  Life  Insurance  On  Other  People?',\n",
       " '748 ++$++ other-insurance ++$++ 要成为保险代理人的学院专业学习是什么？ ++$++ What  Is  The  College  Major  To  Study  In  Order  To  Be  An  Insurance  Agent?',\n",
       " '749 ++$++ medicare-insurance ++$++ 医疗保险覆盖DME用品？ ++$++ Does  Medicare  Cover  DME  Supplies?',\n",
       " '750 ++$++ retirement-plans ++$++ 你能否在宾夕法尼亚州借贷退休计划？ ++$++ Can  You  Borrow  Against  Your  Retirement  Plan  In  Pennsylvania?',\n",
       " '751 ++$++ long-term-care-insurance ++$++ 长期护理保险费用是多少？ ++$++ What  The  Cost  Of  Long  Term  Care  Insurance?',\n",
       " '752 ++$++ home-insurance ++$++ 康涅狄格州需要多少房主保险？ ++$++ How  Much  Homeowners  Insurance  Do  I  Need  In  Connecticut?',\n",
       " '753 ++$++ medicare-insurance ++$++ 医疗保险是否有房屋恢复？ ++$++ Does  Medicare  Have  Estate  Recovery?',\n",
       " '754 ++$++ renters-insurance ++$++ 什么公司有最便宜的租客保险在宾夕法尼亚州？ ++$++ What  Company  Has  The  Cheapest  Renters  Insurance  In  Pennsylvania?',\n",
       " '755 ++$++ life-insurance ++$++ 为什么有人被剥夺人寿保险？ ++$++ Why  Would  Someone  Be  Denied  Life  Insurance?',\n",
       " '756 ++$++ annuities ++$++ FAFSA计算年金吗？ ++$++ Does  FAFSA  Count  Annuities?',\n",
       " '757 ++$++ health-insurance ++$++ 如何购买我自己的健康保险？ ++$++ How  To  Buy  My  Own  Health  Insurance?',\n",
       " '758 ++$++ auto-insurance ++$++ 我可以扣除汽车保险费吗？ ++$++ Can  I  Deduct  Auto  Insurance  Premiums?',\n",
       " '759 ++$++ retirement-plans ++$++ 401K中的关键员工是谁？ ++$++ Who  Is  A  Key  Employee  In  401K?',\n",
       " '760 ++$++ retirement-plans ++$++ 你可以从罗斯401K撤出吗？ ++$++ Can  You  Withdraw  From  A  Roth  401K  Without  Penalty?',\n",
       " '761 ++$++ auto-insurance ++$++ 为什么进口汽车保险更昂贵？ ++$++ Why  Is  Import  Car  Insurance  More  Expensive?',\n",
       " '762 ++$++ life-insurance ++$++ 如果你生病，你能得到人寿保险吗？ ++$++ Can  You  Get  Life  Insurance  If  You  Are  Ill?',\n",
       " '763 ++$++ life-insurance ++$++ 如果我吸烟，人寿保险是否知道？ ++$++ Will  Life  Insurance  Know  If  I  Smoke?',\n",
       " '764 ++$++ life-insurance ++$++ 谁的人寿保险是不可靠的？ ++$++ Who  Is  Uninsurable  For  Life  Insurance?',\n",
       " '765 ++$++ annuities ++$++ 现在是一个好时机去买年金吗？ ++$++ Is  Now  A  Good  Time  To  Buy  Annuities?',\n",
       " '766 ++$++ home-insurance ++$++ 家庭住宅的住房金额是多少？ ++$++ What  Is  The  Dwelling  Amount  On  Home  Insurance?',\n",
       " '767 ++$++ renters-insurance ++$++ 我应该得到什么租赁保险？ ++$++ What  Renters  Insurance  Should  I  Get?',\n",
       " '768 ++$++ life-insurance ++$++ 人寿是抵押的法定要求吗？ ++$++ Is  Life  Insurance  A  Legal  Requirement  For  A  Mortgage?',\n",
       " '769 ++$++ medicare-insurance ++$++ 字母T在医疗保险号码中是什么意思？ ++$++ What  Does  The  Letter  T  Mean  In  A  Medicare  Number?',\n",
       " '770 ++$++ life-insurance ++$++ 人寿保险销售是个好职业吗？ ++$++ Is  Life  Insurance  Sales  A  Good  Career?',\n",
       " '771 ++$++ auto-insurance ++$++ 你住哪里影响你的汽车保险费率？ ++$++ Does  Where  You  Live  Affect  Your  Car  Insurance  Rates?',\n",
       " '772 ++$++ retirement-plans ++$++ 丈夫和妻子都有Roth IRA？ ++$++ Can  Both  Husband  And  Wife  Have  Roth  IRA?',\n",
       " '773 ++$++ health-insurance ++$++ 健康保险在加拿大免费吗？ ++$++ Is  Health  Insurance  Free  In  Canada?',\n",
       " '774 ++$++ auto-insurance ++$++ 我的配偶是否必须在我的汽车保险上？ ++$++ Does  My  Spouse  Have  To  Be  On  My  Auto  Insurance?',\n",
       " '775 ++$++ retirement-plans ++$++ 谁应该设立一个Roth IRA？ ++$++ Who  Should  I  Set  Up  A  Roth  IRA  With?',\n",
       " '776 ++$++ life-insurance ++$++ Geico是否提供定期人寿保险？ ++$++ Does  Geico  Offer  Term  Life  Insurance?',\n",
       " '777 ++$++ life-insurance ++$++ 什么是人寿保险创造一个即时财产？ ++$++ What  Is  Meant  By  Life  Insurance  Creates  An  Immediate  Estate?',\n",
       " '778 ++$++ health-insurance ++$++ 什么是自雇健康保险？ ++$++ What  Qualifies  As  Self  Employed  Health  Insurance?',\n",
       " '779 ++$++ health-insurance ++$++ 没有健康保险多少罚款？ ++$++ How  Much  Will  I  Be  Fined  For  Not  Having  Health  Insurance?',\n",
       " '780 ++$++ home-insurance ++$++ 什么是家庭保险？ ++$++ What  Is  Good  Home  Insurance?',\n",
       " '781 ++$++ life-insurance ++$++ 人寿保险费用是多少？ ++$++ What  Should  Term  Life  Insurance  Cost?',\n",
       " '782 ++$++ medicare-insurance ++$++ 我可以随时注册医疗保险D部分吗？ ++$++ Can  I  Enroll  In  Medicare  Part  D  Anytime?',\n",
       " '783 ++$++ life-insurance ++$++ 谁应该是我人寿保险的受益人？ ++$++ Who  Should  Be  The  Beneficiary  Of  My  Life  Insurance?',\n",
       " '784 ++$++ medicare-insurance ++$++ 什么是医疗保险区域C？ ++$++ What  Is  Medicare  Region  C?',\n",
       " '785 ++$++ renters-insurance ++$++ 租客保险是否包括盗窃自行车？ ++$++ Does  Renters  Insurance  Cover  Theft  Of  A  Bike?',\n",
       " '786 ++$++ life-insurance ++$++ 什么是选择定期人寿保险？ ++$++ What  Is  Select  Term  Life  Insurance?',\n",
       " '787 ++$++ health-insurance ++$++ 人人有健康保险吗？ ++$++ Does  Everyone  Have  Health  Insurance  Now?',\n",
       " '788 ++$++ health-insurance ++$++ 我可以在我的男朋友健康保险吗？ ++$++ Can  I  Be  On  My  Boyfriends  Health  Insurance?',\n",
       " '789 ++$++ health-insurance ++$++ 全面覆盖健康保险？ ++$++ Does  Full  Coverage  Health  Insurance  Cover?',\n",
       " '790 ++$++ health-insurance ++$++ 如何获得Obamacare？ ++$++ How  Do  I  Get  Obamacare?',\n",
       " '791 ++$++ life-insurance ++$++ 您需要在伊利诺斯出售人寿的许可证吗？ ++$++ Do  You  Need  A  License  To  Sell  Life  Insurance  In  Illinois?',\n",
       " '792 ++$++ disability-insurance ++$++ 为什么长期残疾保险重要？ ++$++ Why  Is  Long-Term  Disability  Insurance  Important?',\n",
       " '793 ++$++ home-insurance ++$++ 地下池增加房主保险吗？ ++$++ Does  An  Inground  Pool  Increase  Homeowners  Insurance?',\n",
       " \"794 ++$++ home-insurance ++$++ 我们如何找出什么保险公司保险我的邻居的房子？ ++$++ How  Can  We  Find  Out  What  Insurance  Company  Insurances  My  Neighbor's  House?\",\n",
       " '795 ++$++ life-insurance ++$++ 你可以1035从人寿到年金？ ++$++ Can  You  1035  From  Life  Insurance  To  Annuity?',\n",
       " '796 ++$++ long-term-care-insurance ++$++ 我应该在密歇根州购买长期护理保险？ ++$++ Where  Should  I  Buy  Long  Term  Care  Insurance  In  Michigan?',\n",
       " '797 ++$++ medicare-insurance ++$++ 2014年医疗保险费将上涨吗？ ++$++ Will  Medicare  Premiums  Go  Up  In  2014?',\n",
       " '798 ++$++ auto-insurance ++$++ 我可以在另一个州有汽车保险吗？ ++$++ Can  I  Have  Auto  Insurance  In  Another  state?',\n",
       " '799 ++$++ life-insurance ++$++ 人寿应该多少钱？ ++$++ How  Much  Should  You  Spend  On  Life  Insurance?',\n",
       " '800 ++$++ medicare-insurance ++$++ 医疗保险D部封盖Cymbalta？ ++$++ Does  Medicare  Part  D  Cover  Cymbalta?',\n",
       " '801 ++$++ disability-insurance ++$++ 如何获得短期残疾保险？ ++$++ How  Do  I  Get  Short  Term  Disability  Insurance?',\n",
       " '802 ++$++ life-insurance ++$++ 人寿保险代理人在伊利诺伊州做了多少工作？ ++$++ How  Much  Do  Life  Insurance  Agents  Make  In  Illinois?',\n",
       " '803 ++$++ medicare-insurance ++$++ 医疗保险覆盖丙型肝炎筛查？ ++$++ Does  Medicare  Cover  Hepatitis  C  Screening?',\n",
       " '804 ++$++ annuities ++$++ 谁调整可变年金？ ++$++ Who  Regulates  Variable  Annuities?',\n",
       " '805 ++$++ annuities ++$++ 谁提供购买寿命年金？ ++$++ Who  Offers  Purchased  Life  Annuities?',\n",
       " '806 ++$++ critical-illness-insurance ++$++ 为什么我需要严重的疾病保险？ ++$++ Why  Do  I  Need  Critical  Illness  Insurance?',\n",
       " '807 ++$++ auto-insurance ++$++ AARP有汽车保险吗？ ++$++ Does  AARP  Have  Auto  Insurance?',\n",
       " '808 ++$++ auto-insurance ++$++ 汽车保险报价是否会影响您的信用评分？ ++$++ Does  Getting  Auto  Insurance  Quotes  Affect  Your  Credit  Score?',\n",
       " '809 ++$++ medicare-insurance ++$++ 医疗保险覆盖在老人家庭护理中吗？ ++$++ Does  Medicare  Cover  In  Home  Care  For  The  Elderly?',\n",
       " '810 ++$++ life-insurance ++$++ 人寿保险的两大基本类型是什么？ ++$++ What  Are  The  Two  Basic  Types  Of  Life  Insurance  Policies?',\n",
       " '811 ++$++ life-insurance ++$++ 哪一类人寿保险派息？ ++$++ Which  Type  Of  Life  Insurance  Pays  A  Dividend?',\n",
       " '812 ++$++ renters-insurance ++$++ 农场局提供租赁保险吗？ ++$++ Does  Farm  Bureau  Offer  Renters  Insurance?',\n",
       " '813 ++$++ auto-insurance ++$++ 为什么我的汽车保险上涨？ ++$++ Why  Would  My  Auto  Insurance  Go  Up?',\n",
       " '814 ++$++ health-insurance ++$++ 雇主可以取消健康保险吗？ ++$++ Can  An  Employer  Cancel  Health  Insurance?',\n",
       " '815 ++$++ health-insurance ++$++ 你不会因没有健康保险而被罚款多少？ ++$++ How  Much  Will  You  Be  Fined  For  Not  Having  Health  Insurance?',\n",
       " '816 ++$++ auto-insurance ++$++ 哪个是最好的经典汽车保险？ ++$++ Which  Is  The  Best  Classic  Car  Insurance?',\n",
       " '817 ++$++ medicare-insurance ++$++ Medigap的好处是什么？ ++$++ What  Are  The  Benefits  Of  Medigap?',\n",
       " '818 ++$++ auto-insurance ++$++ 网上汽车保险报价准确度如何？ ++$++ How  Accurate  Are  Online  Auto  Insurance  Quotes?',\n",
       " '819 ++$++ life-insurance ++$++ 丈夫有多少人寿保险？ ++$++ How  Much  Life  Insurance  Should  A  Husband  Have?',\n",
       " '820 ++$++ disability-insurance ++$++ 残疾保险是否涵盖酒精中毒？ ++$++ Does  Disability  Insurance  Cover  Alcoholism?',\n",
       " '821 ++$++ annuities ++$++ 谁能在田纳西州卖年金？ ++$++ Who  Can  Sell  Annuities  In  Tennessee?',\n",
       " '822 ++$++ health-insurance ++$++ 什么资格作为健康保险的资格赛？ ++$++ What  Qualifies  As  A  Qualifying  Events  For  Health  Insurance?',\n",
       " '823 ++$++ life-insurance ++$++ Esurance是否提供人寿保险？ ++$++ Does  Esurance  Offer  Life  Insurance?',\n",
       " '824 ++$++ health-insurance ++$++ 健康保险对家庭3成本有多大？ ++$++ How  Much  Does  Health  Insurance  For  A  Family  Of  3  Cost?',\n",
       " '825 ++$++ disability-insurance ++$++ 何时购买长期残疾保险？ ++$++ When  To  Buy  Long  Term  Disability  Insurance?',\n",
       " '826 ++$++ health-insurance ++$++ 哪些私人健康保险涵盖整容手术？ ++$++ Which  Private  Health  Insurance  Covers  Cosmetic  Surgery?',\n",
       " '827 ++$++ home-insurance ++$++ 房主保险盖屋顶损坏？ ++$++ Will  Homeowners  Insurance  Cover  Roof  Damage?',\n",
       " '828 ++$++ disability-insurance ++$++ 哪里买个人残疾保险？ ++$++ Where  To  Buy  Individual  Disability  Insurance?',\n",
       " '829 ++$++ retirement-plans ++$++ 如果我参加工作中的退休计划，我可以参加IRA吗？ ++$++ Can  I  Contribute  To  An  IRA  If  I  Participate  In  A  Retirement  Plan  At  Work?',\n",
       " '830 ++$++ life-insurance ++$++ 国税局能否挽救人寿保险？ ++$++ Can  The  IRS  Seize  Life  Insurance  Benefits?',\n",
       " '831 ++$++ life-insurance ++$++ 你可以从人寿保险贷款吗？ ++$++ Can  You  Take  A  Loan  From  Life  Insurance?',\n",
       " '832 ++$++ renters-insurance ++$++ 为什么我的房东想要我租赁保险？ ++$++ Why  Does  My  Landlord  Want  Me  To  Get  Renters  Insurance?',\n",
       " '833 ++$++ medicare-insurance ++$++ 医疗保险支付任何牙科工作？ ++$++ Will  Medicare  Pay  For  Any  Dental  Work?',\n",
       " '834 ++$++ home-insurance ++$++ 什么是保险替代成本在房主保险？ ++$++ What  Is  Guaranteed  Replacement  Cost  In  Homeowners  Insurance?',\n",
       " '835 ++$++ auto-insurance ++$++ 汽车保险怎么开始？ ++$++ How  Soon  Does  Car  Insurance  Start?',\n",
       " '836 ++$++ auto-insurance ++$++ 如何选择最佳汽车保险？ ++$++ How  To  Choose  The  Best  Auto  Insurance?',\n",
       " '837 ++$++ long-term-care-insurance ++$++ 谁出售长期护理保险？ ++$++ Who  Sells  Long  Term  Care  Insurance?',\n",
       " '838 ++$++ medicare-insurance ++$++ 医疗保险是否覆盖艾滋病毒药物？ ++$++ Does  Medicare  Cover  HIV  Drugs?',\n",
       " '839 ++$++ health-insurance ++$++ 什么被认为健康保险失效？ ++$++ What  Is  Considered  A  Lapse  In  Health  Insurance?',\n",
       " '840 ++$++ auto-insurance ++$++ 我需要什么信息获得汽车保险？ ++$++ What  Information  Do  I  Need  To  Get  Car  Insurance?',\n",
       " '841 ++$++ medicare-insurance ++$++ 什么是最佳Medigap或Medicare优势？ ++$++ What  Is  Best  Medigap  Or  Medicare  Advantage?',\n",
       " '842 ++$++ health-insurance ++$++ 购买我自己的健康保险是否便宜？ ++$++ Is  It  Cheaper  To  Buy  My  Own  Health  Insurance?',\n",
       " '843 ++$++ medicare-insurance ++$++ 医疗保险覆盖的折射？ ++$++ Is  Refraction  Covered  By  Medicare?',\n",
       " '844 ++$++ life-insurance ++$++ 全球人寿保险有多好？ ++$++ How  Good  Is  Global  Life  Insurance?',\n",
       " '845 ++$++ health-insurance ++$++ 我可以用现有条件购买健康保险吗？ ++$++ Can  I  Buy  Health  Insurance  With  A  Pre-Existing  Condition?',\n",
       " '846 ++$++ renters-insurance ++$++ 租金在马萨诸塞州的保险费用多少？ ++$++ How  Much  Does  Renters  Insurance  Cost  In  Massachusetts?',\n",
       " '847 ++$++ health-insurance ++$++ 健康保险是否覆盖流感疫苗？ ++$++ Does  Health  Insurance  Cover  The  Flu  Vaccine?',\n",
       " '848 ++$++ life-insurance ++$++ 我能救我的人寿保险公司吗？ ++$++ Can  I  Sue  My  Life  Insurance  Company?',\n",
       " '849 ++$++ home-insurance ++$++ 房主保险在浴室里是否覆盖水损害？ ++$++ Does  Homeowners  Insurance  Cover  Water  Damage  In  Bathroom?',\n",
       " '850 ++$++ annuities ++$++ 固定年金有多好？ ++$++ How  Good  Are  Fixed  Annuities?',\n",
       " '851 ++$++ life-insurance ++$++ 人寿保险是否可以由债权人承担？ ++$++ Can  Life  Insurance  Be  Taken  By  Creditors?',\n",
       " '852 ++$++ medicare-insurance ++$++ 如何注册Medicare A？ ++$++ How  To  Sign  Up  For  Medicare  A?',\n",
       " '853 ++$++ medicare-insurance ++$++ 罗德岛的医疗保险资格是多少？ ++$++ What  Are  The  Qualifications  For  Medicare  In  Rhode  Island?',\n",
       " '854 ++$++ retirement-plans ++$++ 退休计划多少钱？ ++$++ How  Much  Can  I  Put  In  A  Retirement  Plan?',\n",
       " '855 ++$++ annuities ++$++ 什么是年金错误？ ++$++ What  Is  Wrong  With  Annuities?',\n",
       " '856 ++$++ renters-insurance ++$++ 租赁保险在爱荷华州覆盖什么？ ++$++ What  Does  Renters  Insurance  Cover  In  Iowa?',\n",
       " '857 ++$++ auto-insurance ++$++ 我可以驾驶我父母的汽车保险吗？ ++$++ Can  I  Drive  My  Parents  Car  With  Their  Insurance?',\n",
       " '858 ++$++ annuities ++$++ 你如何购买年金？ ++$++ How  Do  You  Buy  Annuities?',\n",
       " '859 ++$++ long-term-care-insurance ++$++ 我可以获得长期护理保险的资格吗？ ++$++ Can  I  Qualify  For  Long  Term  Care  Insurance?',\n",
       " '860 ++$++ home-insurance ++$++ 房主保险是否覆盖爆管？ ++$++ Does  Homeowners  Insurance  Cover  A  Burst  Pipe?',\n",
       " '861 ++$++ retirement-plans ++$++ 401K如果退出工作怎么办？ ++$++ How  Does  A  401K  Work  If  You  Quit?',\n",
       " '862 ++$++ life-insurance ++$++ 如果我有狼疮，我可以得到人寿保险吗？ ++$++ Can  I  Get  Life  Insurance  If  I  Have  Lupus?',\n",
       " '863 ++$++ annuities ++$++ 年金可以丢钱吗？ ++$++ Can  Annuities  Lose  Money?',\n",
       " '864 ++$++ life-insurance ++$++ 人寿如何保险资产？ ++$++ How  Is  Life  Insurance  An  Asset?',\n",
       " '865 ++$++ home-insurance ++$++ 房主保险是否会从屋顶泄漏中覆盖水面？ ++$++ Will  Homeowners  Insurance  Cover  Water  Damage  From  A  Roof  Leak?',\n",
       " '866 ++$++ medicare-insurance ++$++ 什么时候可以从医疗保险优势切换到Medigap？ ++$++ When  Can  I  Switch  From  Medicare  Advantage  To  Medigap?',\n",
       " '867 ++$++ life-insurance ++$++ 什么是实行人寿保险的罚则？ ++$++ What  Is  The  Penalty  For  Cashing  Out  A  Life  Insurance  Policy?',\n",
       " '868 ++$++ health-insurance ++$++ 高免赔额健康保险费用多少？ ++$++ How  Much  Does  High  Deductible  Health  Insurance  Cost?',\n",
       " '869 ++$++ long-term-care-insurance ++$++ 我可以扣除长期护理保险费吗？ ++$++ Can  I  Deduct  Premiums  For  Long  Term  Care  Insurance?',\n",
       " '870 ++$++ disability-insurance ++$++ 我应该做长期残疾保险吗？ ++$++ Should  I  Do  Long  Term  Disability  Insurance?',\n",
       " '871 ++$++ home-insurance ++$++ 什么影响到房主的保险费率？ ++$++ What  Affects  Homeowners  Insurance  Rates?',\n",
       " '872 ++$++ home-insurance ++$++ 家庭保险是否覆盖了泄漏屋顶？ ++$++ Does  Home  Insurance  Cover  A  Leaking  Roof?',\n",
       " '873 ++$++ long-term-care-insurance ++$++ 我需要多少年的长期护理保险？ ++$++ How  Many  Years  Of  Long  Term  Care  Insurance  Do  I  Need?',\n",
       " '874 ++$++ home-insurance ++$++ 房主保险托管如何工作？ ++$++ How  Does  Homeowners  Insurance  Escrow  Work?',\n",
       " '875 ++$++ life-insurance ++$++ 人寿保险是如何在死亡时征收的？ ++$++ How  Are  Life  Insurance  Proceeds  Taxed  At  Death?',\n",
       " '876 ++$++ disability-insurance ++$++ 私人残疾保险如何影响社会保障残疾？ ++$++ How  Does  Private  Disability  Insurance  Affect  Social  Security  Disability?',\n",
       " '877 ++$++ disability-insurance ++$++ 谁提供残疾保险？ ++$++ Who  Provides  Disability  Insurance?',\n",
       " '878 ++$++ medicare-insurance ++$++ 医疗保险B部分盖实验室工作吗？ ++$++ Does  Medicare  Part  B  Cover  Lab  Work?',\n",
       " '879 ++$++ long-term-care-insurance ++$++ 什么是最佳长期护理保险公司？ ++$++ What  Are  The  Best  Long  Term  Care  Insurance  Companies?',\n",
       " '880 ++$++ retirement-plans ++$++ 利润分享退休计划？ ++$++ Is  Profit  Sharing  A  Retirement  Plan?',\n",
       " '881 ++$++ medicare-insurance ++$++ 医疗费用一年多少钱？ ++$++ How  Much  Does  Medicare  Cost  A  Year?',\n",
       " '882 ++$++ renters-insurance ++$++ 租客保险是否覆盖手机损坏？ ++$++ Does  Renters  Insurance  Cover  Cell  Phone  Damage?',\n",
       " '883 ++$++ medicare-insurance ++$++ 华盛顿医疗保险的资格是多少？ ++$++ What  Are  The  Qualifications  For  Medicare  In  Washington?',\n",
       " '884 ++$++ auto-insurance ++$++ 19岁以上汽车保险费用多少？ ++$++ How  Much  Will  Car  Insurance  Cost  For  A  19  Year  Old?',\n",
       " '885 ++$++ long-term-care-insurance ++$++ 长期护理保险可以固定吗？ ++$++ Can  Long-Term  Care  Insurance  Be  Fixed?',\n",
       " '886 ++$++ health-insurance ++$++ 什么是健康保险的免赔额？ ++$++ What  Is  A  Deductible  For  Health  Insurance?',\n",
       " '887 ++$++ auto-insurance ++$++ 什么是汽车保险堆？ ++$++ What  Is  Auto  Insurance  Stacking?',\n",
       " '888 ++$++ renters-insurance ++$++ 租客保险是否覆盖子列表？ ++$++ Does  Renters  Insurance  Cover  Subletters?',\n",
       " '889 ++$++ other-insurance ++$++ 旅行保险是否值钱？ ++$++ Is  travel  insurance  worth  the  money?',\n",
       " '890 ++$++ home-insurance ++$++ 受家庭保险覆盖的湿腐蚀？ ++$++ Is  Wet  Rot  Covered  By  Home  Insurance?',\n",
       " '891 ++$++ auto-insurance ++$++ 汽车保险在MA中多少钱？ ++$++ How  Much  Is  Car  Insurance  In  MA?',\n",
       " \"892 ++$++ auto-insurance ++$++ 汽车保险可以在您父母的姓名吗？ ++$++ Can  Car  Insurance  Be  In  Your  Parent's  Name?\",\n",
       " '893 ++$++ renters-insurance ++$++ 租金保险是否涵盖洪灾？ ++$++ Will  Renters  Insurance  Cover  Flood  Damage?',\n",
       " '894 ++$++ long-term-care-insurance ++$++ 长期护理保险费可以增加吗？ ++$++ Can  Long  Term  Care  Insurance  Premiums  Increase?',\n",
       " '895 ++$++ home-insurance ++$++ 房屋保险何时开始？ ++$++ When  Should  Homeowners  Insurance  Start?',\n",
       " '896 ++$++ medicare-insurance ++$++ 何时可以购买Medigap政策？ ++$++ When  Can  I  Buy  A  Medigap  Policy?',\n",
       " '897 ++$++ health-insurance ++$++ 健康保险什么时候覆盖一个馅饼馅饼？ ++$++ When  Does  Health  Insurance  Cover  A  Tummy  Tuck?',\n",
       " '898 ++$++ critical-illness-insurance ++$++ Aflac癌症保险支付什么？ ++$++ What  Does  Aflac  Cancer  Insurance  Pay?',\n",
       " '899 ++$++ medicare-insurance ++$++ 如何检查供应商的医疗保险资格？ ++$++ How  To  Check  Medicare  Eligibility  For  Providers?',\n",
       " '900 ++$++ auto-insurance ++$++ UMPD是否对被盗车辆造成损害？ ++$++ Does  UMPD  Cover  Damage  To  A  Stolen  Auto  With  Liability  Only  Coverage?',\n",
       " '901 ++$++ long-term-care-insurance ++$++ Genworth长期护理保险涵盖什么？ ++$++ What  Does  Genworth  Long  Term  Care  Insurance  Cover?',\n",
       " '902 ++$++ disability-insurance ++$++ 残疾保险的定义是什么？ ++$++ What  Is  The  Definition  Of  Disability  Insurance?',\n",
       " '903 ++$++ home-insurance ++$++ 房主保险是否覆盖电涌？ ++$++ Does  Homeowners  Insurance  Cover  Electrical  Surges?',\n",
       " '904 ++$++ critical-illness-insurance ++$++ 严重疾病保险是否覆盖关节炎？ ++$++ Does  Critical  Illness  Insurance  Cover  Arthritis?',\n",
       " '905 ++$++ health-insurance ++$++ 企业家如何获得健康保险？ ++$++ How  Do  Entrepreneurs  Get  Health  Insurance?',\n",
       " '906 ++$++ disability-insurance ++$++ 哪种残疾保险是最好的？ ++$++ Which  Disability  Insurance  Is  Best?',\n",
       " '907 ++$++ medicare-insurance ++$++ 医疗保健有效地用于帮助美国人吗？ ++$++ Is  Medicare  Used  Effectively  To  Assist  Americans?',\n",
       " '908 ++$++ life-insurance ++$++ 什么是儿童骑手人寿保险？ ++$++ What  Is  A  Child  Rider  On  Term  Life  Insurance?',\n",
       " '909 ++$++ life-insurance ++$++ 什么是第一人寿保险公司？ ++$++ What  Is  The  Number  One  Life  Insurance  Company?',\n",
       " '910 ++$++ retirement-plans ++$++ 退休计划做什么？ ++$++ What  Does  A  Retirement  Plan  Do?',\n",
       " '911 ++$++ auto-insurance ++$++ Grange汽车保险是否租用汽车？ ++$++ Does  Grange  Auto  Insurance  Cover  Rental  Cars?',\n",
       " '912 ++$++ life-insurance ++$++ 你可以在线购买人寿保险吗？ ++$++ Can  You  Buy  Life  Insurance  Online  With  No  Exam?',\n",
       " '913 ++$++ home-insurance ++$++ 家庭保险怎么办？ ++$++ What  To  Do  When  Home  Insurance  Drops  You?',\n",
       " '914 ++$++ medicare-insurance ++$++ 医疗保险支付输血费用吗？ ++$++ Will  Medicare  Pay  For  Blood  Transfusions?',\n",
       " '915 ++$++ health-insurance ++$++ 谁免于购买健康保险？ ++$++ Who  Is  Exempt  From  Buying  Health  Insurance?',\n",
       " '916 ++$++ medicare-insurance ++$++ 医疗保险是多少B部分？ ++$++ How  Much  Is  Medicare  Part  B  Copay?',\n",
       " '917 ++$++ critical-illness-insurance ++$++ 关键疾病保险的好处是什么？ ++$++ What  Are  The  Benefits  Of  Critical  Illness  Insurance?',\n",
       " '918 ++$++ auto-insurance ++$++ 我可以开一家汽车保险公司吗？ ++$++ Can  I  Open  A  Car  Insurance  Company?',\n",
       " '919 ++$++ life-insurance ++$++ 人寿保险是否必要？ ++$++ Is  Life  Insurance  Essential?',\n",
       " '920 ++$++ life-insurance ++$++ 为什么人寿是单方面合同？ ++$++ Why  Is  Life  Insurance  A  Unilateral  Contract?',\n",
       " '921 ++$++ medicare-insurance ++$++ 什么是医疗保险终身储备天？ ++$++ What  Are  Medicare  Lifetime  Reserve  Days?',\n",
       " '922 ++$++ renters-insurance ++$++ 租客保险是否涵盖车辆损坏？ ++$++ Does  Renters  Insurance  Cover  Vehicle  Damage?',\n",
       " '923 ++$++ medicare-insurance ++$++ 什么是最佳的Medigap保险？ ++$++ What  Is  The  Best  Medigap  Insurance?',\n",
       " '924 ++$++ health-insurance ++$++ 什么是健康保险的裁决？ ++$++ What  Is  Adjudication  In  Health  Insurance?',\n",
       " '925 ++$++ life-insurance ++$++ 人寿保险被认为是医疗补助的资产？ ++$++ Is  Life  Insurance  Considered  An  Asset  For  Medicaid?',\n",
       " '926 ++$++ disability-insurance ++$++ 你需要多少残疾保险？ ++$++ How  Much  Disability  Insurance  Do  You  Need?',\n",
       " '927 ++$++ auto-insurance ++$++ 一辆新车全面覆盖汽车保险多少？ ++$++ How  Much  Is  Full  Coverage  Car  Insurance  For  A  New  Car?',\n",
       " '928 ++$++ life-insurance ++$++ 特拉华州最好的人寿保险是什么？ ++$++ What  Is  The  Best  Life  Insurance  In  Delaware?',\n",
       " '929 ++$++ auto-insurance ++$++ 汽车保险公司可以放弃你吗？ ++$++ Can  Auto  Insurance  Companies  Drop  You?',\n",
       " '930 ++$++ medicare-insurance ++$++ 什么是Medigap？ ++$++ What  Is  Covered  Under  Medigap?',\n",
       " '931 ++$++ auto-insurance ++$++ 自由相关租车保险？ ++$++ Does  Liberty  Mutual  Cover  Car  Rental  Insurance?',\n",
       " '932 ++$++ life-insurance ++$++ 要花多长时间才能收到人寿保险？ ++$++ How  Long  Does  It  Take  To  Receive  A  Check  From  Life  Insurance?',\n",
       " '933 ++$++ disability-insurance ++$++ VA提供残疾保险吗？ ++$++ Does  The  VA  Offer  Disability  Insurance?',\n",
       " '934 ++$++ renters-insurance ++$++ 基本租金保险多少？ ++$++ How  Much  Is  Basic  Renters  Insurance?',\n",
       " '935 ++$++ health-insurance ++$++ Aetna学生健康保险是什么？ ++$++ What  Does  Aetna  Student  Health  Insurance  Cover?',\n",
       " '936 ++$++ life-insurance ++$++ 寿险如何快速发放？ ++$++ How  Quickly  Is  Life  Insurance  Paid  Out?',\n",
       " '937 ++$++ health-insurance ++$++ 谁必须购买健康保险？ ++$++ Who  Must  Purchase  Health  Insurance?',\n",
       " '938 ++$++ disability-insurance ++$++ 残疾保险是一个好主意吗？ ++$++ Is  Disability  Insurance  A  Good  Idea?',\n",
       " '939 ++$++ home-insurance ++$++ 家庭保险会增加一个池吗？ ++$++ Does  Home  Insurance  Increase  With  A  Pool?',\n",
       " '940 ++$++ life-insurance ++$++ 什么是不可撤销的人寿保险信托的主要目的？ ++$++ What  Is  The  Primary  Purpose  Of  An  Irrevocable  Life  Insurance  Trust?',\n",
       " '941 ++$++ health-insurance ++$++ 没有健康保险的尿分析费用多少？ ++$++ How  Much  Does  A  Urinalysis  Cost  Without  Health  Insurance?',\n",
       " '942 ++$++ auto-insurance ++$++ 我可以在不属于我的汽车上获得保险吗？ ++$++ Can  I  Get  Insurance  On  A  Car  That  Does  Not  Belong  To  Me?',\n",
       " '943 ++$++ life-insurance ++$++ 富国银行是否提供人寿保险？ ++$++ Does  Wells  Fargo  Offer  Life  Insurance?',\n",
       " '944 ++$++ retirement-plans ++$++ 退休储蓄计划可以有多少选择？ ++$++ Can  There  Be  Too  Much  Choice  In  A  Retirement  Savings  Plan?',\n",
       " '945 ++$++ medicare-insurance ++$++ 为什么我需要Medigap？ ++$++ Why  Do  I  Need  Medigap?',\n",
       " '946 ++$++ life-insurance ++$++ 人寿保险是否真的有效？ ++$++ Does  Life  Insurance  Really  Work?',\n",
       " '947 ++$++ life-insurance ++$++ 整个生命在保险中意味着什么？ ++$++ What  Does  Whole  Life  Mean  In  Insurance?',\n",
       " '948 ++$++ annuities ++$++ 年金公司如何赚钱？ ++$++ How  Do  Annuity  Companies  Make  Money?',\n",
       " \"949 ++$++ auto-insurance ++$++ 什么是最便宜的汽车保险？ ++$++ What's  The  Cheapest  Car  Insurance?\",\n",
       " '950 ++$++ auto-insurance ++$++ 汽车保险联邦法律 ++$++ Is  Car  Insurance  Federal  Law?',\n",
       " '951 ++$++ life-insurance ++$++ 人寿保险需要多长时间？ ++$++ How  Long  Does  It  Take  For  Life  Insurance  To  Pay?',\n",
       " '952 ++$++ home-insurance ++$++ 房主保险是否覆盖了使用？ ++$++ Does  Homeowners  Insurance  Cover  Loss  Of  Use?',\n",
       " '953 ++$++ medicare-insurance ++$++ 医疗保健HIC代表什么？ ++$++ What  Does  Medicare  HIC  Stand  For?',\n",
       " '954 ++$++ life-insurance ++$++ 为什么全人寿保险好投资？ ++$++ Why  Is  Whole  Life  Insurance  A  Good  Investment?',\n",
       " '955 ++$++ home-insurance ++$++ 房主保险覆盖电力浪潮？ ++$++ Does  Homeowners  Insurance  Cover  Power  Surges?',\n",
       " '956 ++$++ health-insurance ++$++ 什么是集体健康保险？ ++$++ What  Is  Group  Health  Insurance?',\n",
       " '957 ++$++ annuities ++$++ 年金利率上涨吗 ++$++ Will  Annuity  Rates  Go  Up?',\n",
       " '958 ++$++ health-insurance ++$++ 什么时候可以注册健康保险？ ++$++ When  Can  You  Enroll  In  Health  Insurance?',\n",
       " '959 ++$++ renters-insurance ++$++ 租人保险是否需要？ ++$++ Renters  Insurance  Is  It  Required?',\n",
       " '960 ++$++ annuities ++$++ 什么是递延年金？ ++$++ What  Is  Deferred  Annuities?',\n",
       " '961 ++$++ annuities ++$++ 如何计算合格的年金？ ++$++ How  Are  Qualified  Annuities  Taxed?',\n",
       " '962 ++$++ life-insurance ++$++ 人寿可以得到什么？ ++$++ Who  Can  Be  Covered  By  Life  Insurance?',\n",
       " '963 ++$++ auto-insurance ++$++ 我可以保险，不修车吗？ ++$++ Can  I  Keep  Insurance  Money  And  Not  Fix  My  Car?',\n",
       " '964 ++$++ auto-insurance ++$++ 如果我的车被盗，保险将支付什么？ ++$++ What  Will  Insurance  Pay  If  My  Car  Is  Stolen?',\n",
       " '965 ++$++ critical-illness-insurance ++$++ 为什么我们需要严重的疾病保险？ ++$++ Why  Do  We  Need  Critical  Illness  Insurance?',\n",
       " '966 ++$++ auto-insurance ++$++ 何时开启强制性汽车保险？ ++$++ When  Did  Mandatory  Auto  Insurance  Start?',\n",
       " '967 ++$++ life-insurance ++$++ 国营农场有定期人寿保险吗？ ++$++ Does  State  Farm  Have  Term  Life  Insurance?',\n",
       " '968 ++$++ home-insurance ++$++ 典型的房主保险多少？ ++$++ How  Much  Is  A  Typical  Homeowners  Insurance?',\n",
       " '969 ++$++ health-insurance ++$++ 美国健康保险在海外工作吗？ ++$++ Does  US  Health  Insurance  Work  Overseas?',\n",
       " '970 ++$++ home-insurance ++$++ 什么是最好的房主保险？ ++$++ What  Is  The  Best  Rated  Homeowners  Insurance?',\n",
       " '971 ++$++ life-insurance ++$++ 什么是少年全人寿保险？ ++$++ What  Is  Juvenile  Whole  Life  Insurance?',\n",
       " '972 ++$++ home-insurance ++$++ 在房主保险中要寻找什么？ ++$++ What  To  Look  For  In  Homeowners  Insurance?',\n",
       " '973 ++$++ auto-insurance ++$++ 不能拥有汽车可以获得Sr22保险吗？ ++$++ Can  I  Get  Sr22  Insurance  Without  Owning  A  Car?',\n",
       " '974 ++$++ life-insurance ++$++ 人寿保险社区财产？ ++$++ Is  Life  Insurance  Community  Property?',\n",
       " '975 ++$++ life-insurance ++$++ 谁拥有西南生活？ ++$++ Who  Owns  Southwestern  Life?',\n",
       " '976 ++$++ auto-insurance ++$++ 汽车保险金多少钱？ ++$++ How  Much  Are  Car  Insurance  Payments?',\n",
       " '977 ++$++ home-insurance ++$++ 我需要知道什么才能获得房主保险？ ++$++ What  Do  I  Need  To  Know  To  Get  Homeowners  Insurance?',\n",
       " '978 ++$++ auto-insurance ++$++ 汽车保险是否覆盖了一个破裂的挡风玻璃？ ++$++ Does  Auto  Insurance  Cover  A  Cracked  Windshield?',\n",
       " '979 ++$++ life-insurance ++$++ 谁在北达科他州管理人寿保险？ ++$++ Who  Regulates  Life  Insurance  In  North  Dakota?',\n",
       " '980 ++$++ health-insurance ++$++ 你能否继续保持父母的健康保险？ ++$++ Can  You  Stay  On  Parents  Health  Insurance  If  Married?',\n",
       " '981 ++$++ retirement-plans ++$++ 公司是否要提供退休计划？ ++$++ Does  A  Company  Have  To  Offer  A  Retirement  Plan?',\n",
       " '982 ++$++ renters-insurance ++$++ 租客保险是否对房产造成损害？ ++$++ Does  Renters  Insurance  Cover  Damage  To  The  Property?',\n",
       " '983 ++$++ life-insurance ++$++ 退休时我需要人寿保险吗？ ++$++ Do  I  Need  Life  Insurance  When  I  Am  Retired?',\n",
       " '984 ++$++ life-insurance ++$++ 群变人寿保险如何运作？ ++$++ How  Does  Group  Variable  Life  Insurance  Work?',\n",
       " '985 ++$++ medicare-insurance ++$++ 为什么选择Medigap或Medicare的优势？ ++$++ Why  Choose  Medigap  Or  Medicare  Advantage?',\n",
       " '986 ++$++ health-insurance ++$++ 两个人的健康保险多少钱？ ++$++ How  Much  Is  Health  Insurance  For  Two  People?',\n",
       " '987 ++$++ life-insurance ++$++ 如何在线销售人寿保险？ ++$++ How  To  Sell  Life  Insurance  Online?',\n",
       " '988 ++$++ life-insurance ++$++ 我可以在线报价人寿保险吗？ ++$++ Can  I  Get  A  Life  Insurance  Quote  Online?',\n",
       " '989 ++$++ life-insurance ++$++ 一个人死后长时间得到人寿保险？ ++$++ Long  Does  Take  Get  Life  Insurance  After  Someone  Dies?',\n",
       " '990 ++$++ life-insurance ++$++ 你可以从整个人寿保险中借钱吗？ ++$++ Can  You  Borrow  From  Your  Whole  Life  Insurance  Policy?',\n",
       " '991 ++$++ life-insurance ++$++ 人寿保险与健康保险的区别是什么？ ++$++ What  Is  The  Difference  Between  Life  Insurance  And  Health  Insurance?',\n",
       " '992 ++$++ medicare-insurance ++$++ 如何注册医疗保险B部分在线？ ++$++ How  To  Sign  Up  For  Medicare  Part  B  Online?',\n",
       " '993 ++$++ life-insurance ++$++ AD＆D与人寿保险有何不同？ ++$++ How  Is  AD&D  Different  From  Life  Insurance?',\n",
       " '994 ++$++ health-insurance ++$++ 健康保险是否覆盖ED药物？ ++$++ Does  Health  Insurance  Cover  ED  Drugs?',\n",
       " '995 ++$++ medicare-insurance ++$++ 谁获得医疗保险总结通知？ ++$++ Who  Receives  A  Medicare  Summary  Notice?',\n",
       " '996 ++$++ medicare-insurance ++$++ 什么时候是Medicare主要付款人？ ++$++ When  Is  Medicare  Primary  Payer?',\n",
       " '997 ++$++ medicare-insurance ++$++ 医疗支付医生多少钱？ ++$++ How  Much  Does  Medicare  Pay  Doctors?',\n",
       " '998 ++$++ medicare-insurance ++$++ 什么时候什么时候适合医疗保险？ ++$++ When  Is  One  Eligible  For  Medicare  At  What  Age?',\n",
       " '999 ++$++ life-insurance ++$++ 普遍人寿保险是否过期？ ++$++ Does  Universal  Life  Insurance  Policy  Expire?',\n",
       " '1000 ++$++ auto-insurance ++$++ 格鲁吉亚最便宜的汽车保险是什么？ ++$++ What  Is  The  Cheapest  Car  Insurance  In  Georgia?',\n",
       " ...]"
      ]
     },
     "execution_count": 127,
     "metadata": {},
     "output_type": "execute_result"
    }
   ],
   "source": [
    "comment_train"
   ]
  },
  {
   "cell_type": "code",
   "execution_count": 128,
   "metadata": {},
   "outputs": [
    {
     "data": {
      "text/plain": [
       "12888"
      ]
     },
     "execution_count": 128,
     "metadata": {},
     "output_type": "execute_result"
    }
   ],
   "source": [
    "comment_train_chinese = [re.sub(\"[A-Za-z0-9\\!\\%\\[\\]\\,\\。]\", \"\",a) for a in comment_train]  #表格中的过滤英文\n",
    "len(comment_train_chinese)"
   ]
  },
  {
   "cell_type": "code",
   "execution_count": 129,
   "metadata": {},
   "outputs": [
    {
     "data": {
      "text/plain": [
       "(274385, 261497, 12888)"
      ]
     },
     "execution_count": 129,
     "metadata": {},
     "output_type": "execute_result"
    }
   ],
   "source": [
    "comment_all = comment_movie + comment_train_chinese           #将两个表格的数据合并\n",
    "len(comment_all),len(comment_movie),len(comment_train_chinese)"
   ]
  },
  {
   "cell_type": "code",
   "execution_count": 130,
   "metadata": {},
   "outputs": [],
   "source": [
    "def token(string):                              #提取文字函数\n",
    "    # we will learn the regular expression next course.\n",
    "    return re.findall('\\w+', string)"
   ]
  },
  {
   "cell_type": "code",
   "execution_count": 131,
   "metadata": {},
   "outputs": [],
   "source": [
    "comment_all_clean = [''.join(token(str(a))) for a in comment_all ]  #提取文字并合并"
   ]
  },
  {
   "cell_type": "code",
   "execution_count": 132,
   "metadata": {},
   "outputs": [
    {
     "data": {
      "text/plain": [
       "['首映礼看的太恐怖了这个电影不讲道理的完全就是吴京在实现他这个小粉红的英雄梦各种装备轮番上场视物理逻辑于不顾不得不说有钱真好随意胡闹',\n",
       " '吴京的炒作水平不输冯小刚但小刚至少不会用主旋律来炒作吴京让人看了不舒服为了主旋律而主旋律为了煽情而煽情让人觉得他是个大做作大谎言家729更新片子整体不如湄公河行动1整体不够流畅编剧有毒台词尴尬2刻意做作的主旋律煽情显得如此不合时宜而又多余']"
      ]
     },
     "execution_count": 132,
     "metadata": {},
     "output_type": "execute_result"
    }
   ],
   "source": [
    "comment_all_clean[1:3]"
   ]
  },
  {
   "cell_type": "code",
   "execution_count": 133,
   "metadata": {},
   "outputs": [],
   "source": [
    "with open('comment_homework.txt', 'w',encoding='utf-8') as f:                 #保存一下合并好的语料库(相当于游戏中的存档)        \n",
    "    for a in comment_all_clean:\n",
    "        f.write(a + '\\n')"
   ]
  },
  {
   "cell_type": "code",
   "execution_count": 134,
   "metadata": {},
   "outputs": [],
   "source": [
    "import jieba\n",
    "from collections import Counter    #用于统计每个元素出现的次数"
   ]
  },
  {
   "cell_type": "code",
   "execution_count": 135,
   "metadata": {},
   "outputs": [],
   "source": [
    "def cut(string): return list(jieba.cut(string))"
   ]
  },
  {
   "cell_type": "code",
   "execution_count": 136,
   "metadata": {},
   "outputs": [],
   "source": [
    "comment_cut = []"
   ]
  },
  {
   "cell_type": "code",
   "execution_count": 137,
   "metadata": {},
   "outputs": [],
   "source": [
    "comment_cut = cut(open('comment_homework.txt',encoding='utf-8').read()) "
   ]
  },
  {
   "cell_type": "code",
   "execution_count": 138,
   "metadata": {},
   "outputs": [
    {
     "data": {
      "text/plain": [
       "4839001"
      ]
     },
     "execution_count": 138,
     "metadata": {},
     "output_type": "execute_result"
    }
   ],
   "source": [
    "len(comment_cut)"
   ]
  },
  {
   "cell_type": "code",
   "execution_count": 139,
   "metadata": {},
   "outputs": [],
   "source": [
    "with open('comment_cut.txt', 'w',encoding='utf-8') as f:                 #保存一下切分好的语料库(相当于游戏中的存档)        \n",
    "    for a in comment_cut:\n",
    "        f.write(a + '\\n')"
   ]
  },
  {
   "cell_type": "markdown",
   "metadata": {},
   "source": [
    "> **评阅点** 1. 是否使用了新的数据集； 2. csv(txt)数据是否正确解析"
   ]
  },
  {
   "cell_type": "markdown",
   "metadata": {},
   "source": [
    "#### 3. 获得最优质的的语言"
   ]
  },
  {
   "cell_type": "markdown",
   "metadata": {},
   "source": [
    "当我们能够生成随机的语言并且能判断之后，我们就可以生成更加合理的语言了。请定义 generate_best 函数，该函数输入一个语法 + 语言模型，能够生成**n**个句子，并能选择一个最合理的句子: \n",
    "\n"
   ]
  },
  {
   "cell_type": "markdown",
   "metadata": {},
   "source": [
    "提示，要实现这个函数，你需要Python的sorted函数"
   ]
  },
  {
   "cell_type": "code",
   "execution_count": 140,
   "metadata": {},
   "outputs": [
    {
     "data": {
      "text/plain": [
       "[1, 2, 3, 5]"
      ]
     },
     "execution_count": 140,
     "metadata": {},
     "output_type": "execute_result"
    }
   ],
   "source": [
    "sorted([1, 3, 5, 2])"
   ]
  },
  {
   "cell_type": "markdown",
   "metadata": {},
   "source": [
    "这个函数接受一个参数key，这个参数接受一个函数作为输入，例如"
   ]
  },
  {
   "cell_type": "code",
   "execution_count": 141,
   "metadata": {},
   "outputs": [
    {
     "data": {
      "text/plain": [
       "[(1, 4), (2, 5), (4, 4), (5, 0)]"
      ]
     },
     "execution_count": 141,
     "metadata": {},
     "output_type": "execute_result"
    }
   ],
   "source": [
    "sorted([(2, 5), (1, 4), (5, 0), (4, 4)], key=lambda x: x[0])"
   ]
  },
  {
   "cell_type": "markdown",
   "metadata": {},
   "source": [
    "能够让list按照第0个元素进行排序."
   ]
  },
  {
   "cell_type": "code",
   "execution_count": 142,
   "metadata": {},
   "outputs": [
    {
     "data": {
      "text/plain": [
       "[(5, 0), (1, 4), (4, 4), (2, 5)]"
      ]
     },
     "execution_count": 142,
     "metadata": {},
     "output_type": "execute_result"
    }
   ],
   "source": [
    "sorted([(2, 5), (1, 4), (5, 0), (4, 4)], key=lambda x: x[1])"
   ]
  },
  {
   "cell_type": "markdown",
   "metadata": {},
   "source": [
    "能够让list按照第1个元素进行排序."
   ]
  },
  {
   "cell_type": "code",
   "execution_count": 143,
   "metadata": {},
   "outputs": [
    {
     "data": {
      "text/plain": [
       "[(2, 5), (1, 4), (4, 4), (5, 0)]"
      ]
     },
     "execution_count": 143,
     "metadata": {},
     "output_type": "execute_result"
    }
   ],
   "source": [
    "sorted([(2, 5), (1, 4), (5, 0), (4, 4)], key=lambda x: x[1], reverse=True)"
   ]
  },
  {
   "cell_type": "markdown",
   "metadata": {},
   "source": [
    "能够让list按照第1个元素进行排序, 但是是递减的顺序。"
   ]
  },
  {
   "cell_type": "markdown",
   "metadata": {},
   "source": [
    ">"
   ]
  },
  {
   "cell_type": "code",
   "execution_count": 144,
   "metadata": {},
   "outputs": [],
   "source": [
    "from functools import reduce\n",
    "from operator import add, mul\n",
    "from collections import Counter"
   ]
  },
  {
   "cell_type": "code",
   "execution_count": 145,
   "metadata": {},
   "outputs": [],
   "source": [
    "words_count = Counter(comment_cut)"
   ]
  },
  {
   "cell_type": "code",
   "execution_count": 146,
   "metadata": {
    "scrolled": true
   },
   "outputs": [
    {
     "data": {
      "text/plain": [
       "[('的', 331482),\n",
       " ('\\n', 274385),\n",
       " ('了', 102558),\n",
       " ('是', 75450),\n",
       " ('我', 52389),\n",
       " ('都', 36283),\n",
       " ('很', 34718),\n",
       " ('看', 34027),\n",
       " ('电影', 33675),\n",
       " ('在', 32158),\n",
       " ('也', 32066),\n",
       " ('和', 31441),\n",
       " ('有', 28712),\n",
       " ('不', 28547),\n",
       " ('就', 25689),\n",
       " ('人', 24006),\n",
       " ('好', 23026),\n",
       " ('啊', 20803),\n",
       " ('你', 18109),\n",
       " ('一个', 17563),\n",
       " ('这', 17490),\n",
       " ('还', 17454),\n",
       " ('还是', 16458),\n",
       " ('但', 15582),\n",
       " ('故事', 15010),\n",
       " ('没有', 14558),\n",
       " ('就是', 14007),\n",
       " ('喜欢', 13568),\n",
       " ('让', 13336),\n",
       " ('太', 12677),\n",
       " ('什么', 12248),\n",
       " ('又', 11566),\n",
       " ('剧情', 11359),\n",
       " ('没', 10858),\n",
       " ('说', 10774),\n",
       " ('吧', 10747),\n",
       " ('他', 10687),\n",
       " ('可以', 10676),\n",
       " ('不错', 10416),\n",
       " ('到', 10378),\n",
       " ('得', 10349),\n",
       " ('给', 10342),\n",
       " ('上', 10163),\n",
       " ('这个', 10059),\n",
       " ('被', 10046),\n",
       " ('对', 9921),\n",
       " ('能', 9703),\n",
       " ('最后', 9702),\n",
       " ('一部', 9693),\n",
       " ('片子', 9590),\n",
       " ('与', 9322),\n",
       " ('多', 9065),\n",
       " ('不是', 8819),\n",
       " ('最', 8785),\n",
       " ('中', 8690),\n",
       " ('觉得', 8626),\n",
       " ('导演', 8390),\n",
       " ('自己', 8387),\n",
       " ('要', 8273),\n",
       " ('拍', 8172),\n",
       " ('好看', 8085),\n",
       " ('真的', 7925),\n",
       " ('感觉', 7829),\n",
       " ('但是', 7725),\n",
       " ('会', 7670),\n",
       " ('里', 7663),\n",
       " ('那', 7505),\n",
       " ('有点', 7479),\n",
       " ('想', 7444),\n",
       " ('这部', 7433),\n",
       " ('去', 7325),\n",
       " ('吗', 7295),\n",
       " ('把', 7190),\n",
       " ('着', 7058),\n",
       " ('这么', 6807),\n",
       " ('小', 6627),\n",
       " ('个', 6559),\n",
       " ('而', 6528),\n",
       " ('时候', 6496),\n",
       " ('这样', 6474),\n",
       " ('真是', 6449),\n",
       " ('那么', 6436),\n",
       " ('这种', 6377),\n",
       " ('片', 6333),\n",
       " ('不过', 6292),\n",
       " ('挺', 6244),\n",
       " ('更', 6185),\n",
       " ('比', 6117),\n",
       " ('却', 5990),\n",
       " ('我们', 5932),\n",
       " ('爱', 5909),\n",
       " ('大', 5785),\n",
       " ('像', 5709),\n",
       " ('虽然', 5633),\n",
       " ('演技', 5631),\n",
       " ('其实', 5573),\n",
       " ('看到', 5454),\n",
       " ('知道', 5441),\n",
       " ('再', 5352),\n",
       " ('演员', 5328)]"
      ]
     },
     "execution_count": 146,
     "metadata": {},
     "output_type": "execute_result"
    }
   ],
   "source": [
    "words_count.most_common(100)"
   ]
  },
  {
   "cell_type": "code",
   "execution_count": 147,
   "metadata": {},
   "outputs": [],
   "source": [
    "def prob_1(word):                              #一个词出现的频次/总的词频\n",
    "    return words_count[word] / len(comment_cut) "
   ]
  },
  {
   "cell_type": "code",
   "execution_count": 148,
   "metadata": {},
   "outputs": [],
   "source": [
    "comment_cut_2_GRAM = [''.join(comment_cut[i:i+2]) for i in range(len(comment_cut[:-2]))]  #将相邻次链接起来，另生成表格"
   ]
  },
  {
   "cell_type": "code",
   "execution_count": 149,
   "metadata": {},
   "outputs": [],
   "source": [
    "words_count_2 = Counter(comment_cut_2_GRAM)"
   ]
  },
  {
   "cell_type": "code",
   "execution_count": 150,
   "metadata": {},
   "outputs": [],
   "source": [
    "def prob_2(word1, word2):             #如果 句子中有连词出现在连词表里，输出他们的概率\n",
    "    if word1 + word2 in words_count_2: return words_count_2[word1+word2] / len(comment_cut_2_GRAM)\n",
    "    else:\n",
    "        return 1 / len(comment_cut_2_GRAM)"
   ]
  },
  {
   "cell_type": "code",
   "execution_count": 151,
   "metadata": {},
   "outputs": [],
   "source": [
    "def get_probablity(sentence):\n",
    "    words = cut(sentence)    \n",
    "    sentence_pro = 1    \n",
    "    for i, word in enumerate(words[:-1]):\n",
    "        next_ = words[i+1]        \n",
    "        probability = prob_2(word, next_)        \n",
    "        sentence_pro *= probability    \n",
    "    return sentence_pro"
   ]
  },
  {
   "cell_type": "code",
   "execution_count": 152,
   "metadata": {},
   "outputs": [
    {
     "data": {
      "text/plain": [
       "2.0773177606441814e-40"
      ]
     },
     "execution_count": 152,
     "metadata": {},
     "output_type": "execute_result"
    }
   ],
   "source": [
    "get_probablity('吴京的电影流浪地球好看吗？')"
   ]
  },
  {
   "cell_type": "code",
   "execution_count": 89,
   "metadata": {},
   "outputs": [
    {
     "name": "stdout",
     "output_type": "stream",
     "text": [
      "[(1, 4), (2, 5), (3, 6)]\n"
     ]
    }
   ],
   "source": [
    "a=[1,2,3]       #测试一下生成元组列表的语法\n",
    "b=[4,5,6]\n",
    "c=list(map(lambda  x,y:(x,y),a,b))\n",
    "print(c)"
   ]
  },
  {
   "cell_type": "code",
   "execution_count": 177,
   "metadata": {},
   "outputs": [],
   "source": [
    "def generate_best(grammar_str,split,target,n): # you code here\n",
    "    sentence_list = generate_n(grammar_str,split,target,n)\n",
    "    pro_list=[]\n",
    "    for sentence in sentence_list:\n",
    "        pro_list.append(get_probablity(sentence))\n",
    "    sort_list=list(map(lambda x,y :(x,y),pro_list,sentence_list))\n",
    "    sorted_list=sorted(sort_list, key=lambda x: x[0], reverse=True)    #排序输出表格中的第一个句子（概率最大的）\n",
    "    \n",
    "    return sorted_list[0]\n",
    "    "
   ]
  },
  {
   "cell_type": "code",
   "execution_count": 178,
   "metadata": {
    "scrolled": true
   },
   "outputs": [
    {
     "name": "stdout",
     "output_type": "stream",
     "text": [
      "0 诸葛钢铁先生下午好，您预订的1月3号6:00从深圳到西安的K19列车抢票成功,请您及时取票。\n",
      "1 王尼玛女士你好，您预订的1月2号7:00从天津到辽宁的G138列车抢票失败,请您及时取票。\n",
      "2 阿尔萨斯女士晚上好，您预订的1月1号15:00从深圳到新疆的D35列车抢票成功,请您及时取票。\n",
      "3 阿尔萨斯女士你好，您预订的1月1号20:00从深圳到上海的D35列车抢票失败,请您及时取票。\n",
      "4 王铁柱女士晚上好，您预订的1月2号6:00从广州到武汉的D35列车抢票成功,请您及时取票。\n",
      "5 伊利丹女士晚上好，您预订的1月3号15:00从天津到武汉的K19列车抢票成功,请您及时取票。\n",
      "6 伊利丹女士晚上好，您预订的1月1号6:00从大连到武汉的D23列车抢票成功,请您及时取票。\n",
      "7 伊利丹先生你好，您预订的1月3号15:00从大连到新疆的G138列车抢票失败,请您及时取票。\n",
      "8 伊利丹先生你好，您预订的1月3号7:00从天津到新疆的G138列车抢票失败,请您及时改签其他车次。\n",
      "9 诸葛钢铁女士晚上好，您预订的1月3号7:00从北京到上海的D35列车抢票成功,请您及时改签其他车次。\n"
     ]
    },
    {
     "data": {
      "text/plain": [
       "(1.1350178907363908e-186, '王尼玛女士你好，您预订的1月3号6:00从北京到上海的D23列车抢票成功,请您及时取票。')"
      ]
     },
     "execution_count": 178,
     "metadata": {},
     "output_type": "execute_result"
    }
   ],
   "source": [
    "generate_best(Train_booking ,target='Train_booking' ,split='=' ,n=10)   #一路艰辛，终于完成，非研发的我为自己点赞！！！"
   ]
  },
  {
   "cell_type": "markdown",
   "metadata": {},
   "source": [
    "好了，现在我们实现了自己的第一个AI模型，这个模型能够生成比较接近于人类的语言。"
   ]
  },
  {
   "cell_type": "markdown",
   "metadata": {},
   "source": [
    "> **评阅点**： 是否使用 lambda 语法进行排序"
   ]
  },
  {
   "cell_type": "markdown",
   "metadata": {},
   "source": [
    "Q: 这个模型有什么问题？ 你准备如何提升？ "
   ]
  },
  {
   "cell_type": "markdown",
   "metadata": {},
   "source": [
    "Ans:\n",
    "问题一：\n",
    "1-gram，只能判断语法是否通顺，无法判断句子前后的逻辑关系是否正确。因此实际应用输出的结果可能不可靠。\n",
    "比如：我在作业1中的一个例子； 您预订的车票（成功|失败），请（按时取票|及时改签）。 \n",
    "可能会输出： “您预订的车票成功，请及时改签” 或“您预订的车票失败，请按时取票”\n",
    "句子的语法是通畅的，但是句意的逻辑错误，这个问题1-gram无法识别。\n",
    "\n",
    "问题一的思考\n",
    "目前正对这个情况，我没有想出更好的解决思路，因为如果单纯给句子中加逻辑判断的规则，那么又变成了“专家系统”的那一套路，之后会出现无数的规则需要维护，不太符合课上老师讲的代码思想； 所以有待对这个领域知识进一步的深化和挖掘。\n",
    "如果拓展 n-gram的数量，那么又会让模型的“数据稀疏”问题和存储成本变高；这里的取舍需要权衡业务场景的性价比。\n",
    "\n",
    "问题二：\n",
    "语料库的内容存在偏倚\n",
    "问题二的建议\n",
    "即使更新维护语料库是十分必要的。同时提升数据集质量也是提高机器学习模型精度的主要途径。\n",
    "\n"
   ]
  },
  {
   "cell_type": "markdown",
   "metadata": {},
   "source": [
    ">**评阅点**: 是否提出了比较实际的问题，例如OOV问题，例如数据量，例如变成 3-gram问题。"
   ]
  },
  {
   "cell_type": "markdown",
   "metadata": {},
   "source": [
    "##### 以下内容为可选部分，对于绝大多数同学，能完成以上的项目已经很优秀了，下边的内容如果你还有精力可以试试，但不是必须的。"
   ]
  },
  {
   "cell_type": "markdown",
   "metadata": {},
   "source": [
    "#### 4. (Optional) 完成基于Pattern Match的语句问答\n",
    "> 我们的GitHub仓库中，有一个assignment-01-optional-pattern-match，这个难度较大，感兴趣的同学可以挑战一下。"
   ]
  },
  {
   "cell_type": "markdown",
   "metadata": {},
   "source": [
    "\n",
    "#### 5. (Optional) 完成阿兰图灵机器智能原始论文的阅读\n",
    "1. 请阅读阿兰图灵关于机器智能的原始论文：https://github.com/Computing-Intelligence/References/blob/master/AI%20%26%20Machine%20Learning/Computer%20Machinery%20and%20Intelligence.pdf \n",
    "2. 并按照GitHub仓库中的论文阅读模板，填写完毕后发送给我: mqgao@kaikeba.com 谢谢"
   ]
  },
  {
   "cell_type": "markdown",
   "metadata": {},
   "source": [
    "> "
   ]
  },
  {
   "cell_type": "markdown",
   "metadata": {},
   "source": [
    "各位同学，我们已经完成了自己的第一个AI模型，大家对人工智能可能已经有了一些感觉，人工智能的核心就是，我们如何设计一个模型、程序，在外部的输入变化的时候，我们的程序不变，依然能够解决问题。人工智能是一个很大的领域，目前大家所熟知的深度学习只是其中一小部分，之后也肯定会有更多的方法提出来，但是大家知道人工智能的目标，就知道了之后进步的方向。"
   ]
  },
  {
   "cell_type": "markdown",
   "metadata": {},
   "source": [
    "然后，希望大家对AI不要有恐惧感，这个并不难，大家加油！"
   ]
  },
  {
   "cell_type": "markdown",
   "metadata": {},
   "source": [
    ">"
   ]
  },
  {
   "cell_type": "markdown",
   "metadata": {},
   "source": [
    "![](https://timgsa.baidu.com/timg?image&quality=80&size=b9999_10000&sec=1561828422005&di=48d19c16afb6acc9180183a6116088ac&imgtype=0&src=http%3A%2F%2Fb-ssl.duitang.com%2Fuploads%2Fitem%2F201807%2F28%2F20180728150843_BECNF.thumb.224_0.jpeg)"
   ]
  }
 ],
 "metadata": {
  "kernelspec": {
   "display_name": "Python 3",
   "language": "python",
   "name": "python3"
  },
  "language_info": {
   "codemirror_mode": {
    "name": "ipython",
    "version": 3
   },
   "file_extension": ".py",
   "mimetype": "text/x-python",
   "name": "python",
   "nbconvert_exporter": "python",
   "pygments_lexer": "ipython3",
   "version": "3.7.3"
  }
 },
 "nbformat": 4,
 "nbformat_minor": 2
}
