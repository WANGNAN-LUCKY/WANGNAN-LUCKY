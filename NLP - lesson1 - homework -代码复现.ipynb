{
 "cells": [
  {
   "cell_type": "markdown",
   "metadata": {},
   "source": [
    "# NLP - lesson1 - homework1- 代码复现"
   ]
  },
  {
   "cell_type": "markdown",
   "metadata": {},
   "source": [
    "已知语法，用代码实现语句构建"
   ]
  },
  {
   "cell_type": "code",
   "execution_count": 39,
   "metadata": {},
   "outputs": [],
   "source": [
    "two_num = ''' num num\n",
    "num => '0|1|2|3|4 '\n",
    "'''"
   ]
  },
  {
   "cell_type": "code",
   "execution_count": 8,
   "metadata": {},
   "outputs": [],
   "source": [
    "import random"
   ]
  },
  {
   "cell_type": "code",
   "execution_count": 9,
   "metadata": {},
   "outputs": [],
   "source": [
    "def two_num ():\n",
    "    return num()+num()\n",
    "def num():\n",
    "    return random.choice( '0|1|2|3|4 '.split('|'))\n",
    "\n",
    "def numbers():\n",
    "    if random.random() < 0.5:        \n",
    "        return  num()\n",
    "    else:    \n",
    "        return  numbers()+num()\n"
   ]
  },
  {
   "cell_type": "code",
   "execution_count": 10,
   "metadata": {},
   "outputs": [
    {
     "name": "stdout",
     "output_type": "stream",
     "text": [
      "0\n",
      "4 \n",
      "23\n",
      "0\n",
      "3\n",
      "1\n",
      "3\n",
      "4 \n",
      "4 \n",
      "4 \n",
      "04 304 \n",
      "1\n",
      "00\n",
      "2\n",
      "133\n",
      "4 0\n",
      "014 \n",
      "334 32\n",
      "2\n",
      "0\n",
      "22\n",
      "4 3\n",
      "4 \n",
      "2\n",
      "3\n",
      "24 12121\n",
      "4 \n",
      "24 14 \n",
      "34 1\n",
      "323\n",
      "04 11\n",
      "20\n",
      "0\n",
      "0\n",
      "4 \n",
      "4 0\n",
      "2\n",
      "0\n",
      "3\n",
      "114 4 4 \n",
      "4 4 04 02\n",
      "12\n",
      "21\n",
      "4 \n",
      "3\n",
      "3\n",
      "0\n",
      "2\n",
      "024 \n",
      "3\n"
     ]
    }
   ],
   "source": [
    "for i in range(50):\n",
    "    print(numbers())"
   ]
  },
  {
   "cell_type": "markdown",
   "metadata": {},
   "source": [
    "语法可以用代码实现；可以用递归创建无限长代码"
   ]
  },
  {
   "cell_type": "markdown",
   "metadata": {},
   "source": [
    "“*” 代表0个或多个"
   ]
  },
  {
   "cell_type": "code",
   "execution_count": 11,
   "metadata": {},
   "outputs": [],
   "source": [
    "simple_grammar = \"\"\"\n",
    "sentence => noun_phrase verb_phrase    句子 = 名词短语 + 动词短语\n",
    "noun_phrase => Article Adj* noun       名词短语 = 冠词 + 形容词* + 名词     \n",
    "Adj* => null | Adj Adj*                形容词*  = 没有 | 形容词 + 形容词*\n",
    "verb_phrase => verb noun_phrase        动词短语 = 动词 + 名词短语\n",
    "Article =>  一个 | 这个\n",
    "noun =>   女人 |  篮球 | 桌子 | 小猫\n",
    "verb => 看着   |  坐在 |  听着 | 看见\n",
    "Adj =>  蓝色的 | 好看的 | 小小的\n",
    "\"\"\""
   ]
  },
  {
   "cell_type": "code",
   "execution_count": 1,
   "metadata": {},
   "outputs": [],
   "source": [
    "import random"
   ]
  },
  {
   "cell_type": "code",
   "execution_count": 2,
   "metadata": {},
   "outputs": [],
   "source": [
    "def adj():  \n",
    "    return random.choice('蓝色的 | 好看的 | 小小的'.split('|')).split()[0]\n",
    "def adj_star():\n",
    "    return random.choice([lambda : '', lambda : adj() + adj_star()])()"
   ]
  },
  {
   "cell_type": "code",
   "execution_count": 3,
   "metadata": {},
   "outputs": [],
   "source": [
    "def sentence():\n",
    "    return noun_phrase() + verb_phrase()\n",
    "def noun_phrase():\n",
    "    return Article() + adj() + noun()\n",
    "def Article():\n",
    "    return random.choice('一个 | 这个'.split('|'))\n",
    "def noun():\n",
    "    return random.choice('女人 |  篮球 | 桌子 | 小猫'.split('|'))\n",
    "def verb_phrase():\n",
    "    return verb() + noun_phrase() \n",
    "def verb():\n",
    "    return random.choice('看着 | 坐在 | 听着 | 看见'.split('|'))\n",
    "  "
   ]
  },
  {
   "cell_type": "code",
   "execution_count": 4,
   "metadata": {},
   "outputs": [
    {
     "name": "stdout",
     "output_type": "stream",
     "text": [
      "一个 小小的 小猫 听着 一个 好看的 小猫\n",
      " 这个好看的 小猫 看见一个 好看的 桌子 \n",
      "一个 好看的  篮球  听着  这个好看的 小猫\n",
      "一个 小小的 桌子  听着 一个 小小的女人 \n",
      " 这个好看的女人 看着  这个小小的 小猫\n",
      "一个 蓝色的  篮球  看见一个 小小的  篮球 \n",
      " 这个好看的女人 看着  这个蓝色的女人 \n",
      "一个 蓝色的女人  听着 一个 好看的 小猫\n",
      " 这个好看的 小猫 看见一个 好看的 桌子 \n",
      " 这个蓝色的  篮球  坐在 一个 蓝色的  篮球 \n"
     ]
    }
   ],
   "source": [
    "for i in range(10):\n",
    "    print(sentence())"
   ]
  },
  {
   "cell_type": "markdown",
   "metadata": {},
   "source": [
    "But the question is ? 如果我们更换了语法，会发现所有写过的程序，都要重新写。:(\n",
    "\n",
    "\n"
   ]
  },
  {
   "cell_type": "markdown",
   "metadata": {},
   "source": [
    "思路： data drive 数据变化，程序不变 ； 先思考数据结构，再思考如何构建程序；\n",
    "\n",
    "重点： 如何写好“规则引擎”！！！\n",
    "\n",
    "1. 创建字典\n",
    "2. 将语法中的变量作为 字典中的 key\n",
    "3. 语法结构中，不是变量 ； 直接输出"
   ]
  },
  {
   "cell_type": "code",
   "execution_count": 5,
   "metadata": {},
   "outputs": [],
   "source": [
    "two_num_add = '''\n",
    "two => num op num | num op num\n",
    "op => + | - | * | /\n",
    "num => 1|2|3|4\n",
    "'''"
   ]
  },
  {
   "cell_type": "code",
   "execution_count": 6,
   "metadata": {},
   "outputs": [],
   "source": [
    "def generate_grammar(grammar_str: str ,target,split='=>' ):\n",
    "    grammar ={}\n",
    "    \n",
    "    for line in grammar_str.split('\\n'):\n",
    "        if not line: continue\n",
    "        \n",
    "        expression, formula = line.split(split)\n",
    "        \n",
    "        formulas = formula.split('|')\n",
    "        \n",
    "        formulas = [f.split() for f in formulas]\n",
    "        \n",
    "        grammar[expression.strip()] = formulas\n",
    "        \n",
    "        print(expression,':' ,formulas)\n",
    "    return grammar\n",
    "\n",
    "choice_a_expr = random.choice\n",
    "\n",
    "def generate_by_grammar(grammar:dict,target:str):\n",
    "    if target not in grammar: return target    \n",
    "    expr = choice_a_expr(grammar[target])\n",
    "    \n",
    "    return ' '.join( generate_by_grammar(grammar,t) for t in expr)\n",
    "\n",
    "def generate_by_str(grammar_str,split,target):\n",
    "    grammar = generate_grammar(grammar_str , target , split)\n",
    "    return generate_by_grammar(grammar,target)\n",
    "\n",
    "\n",
    "\n",
    "\n"
   ]
  },
  {
   "cell_type": "code",
   "execution_count": 7,
   "metadata": {},
   "outputs": [
    {
     "name": "stdout",
     "output_type": "stream",
     "text": [
      "two  : [['num', 'op', 'num'], ['num', 'op', 'num']]\n",
      "op  : [['+'], ['-'], ['*'], ['/']]\n",
      "num  : [['1'], ['2'], ['3'], ['4']]\n"
     ]
    },
    {
     "data": {
      "text/plain": [
       "'1 / 3'"
      ]
     },
     "execution_count": 7,
     "metadata": {},
     "output_type": "execute_result"
    }
   ],
   "source": [
    "generate_by_str(two_num_add,split ='=>' , target ='two')"
   ]
  },
  {
   "cell_type": "code",
   "execution_count": 8,
   "metadata": {},
   "outputs": [
    {
     "name": "stdout",
     "output_type": "stream",
     "text": [
      "two  : [['num', 'op', 'num'], ['num', 'op', 'num']]\n",
      "op  : [['+'], ['-'], ['*'], ['/']]\n",
      "num  : [['1'], ['2'], ['3'], ['4']]\n"
     ]
    }
   ],
   "source": [
    "generated_grammar = generate_grammar(two_num_add,target = 'two')"
   ]
  },
  {
   "cell_type": "code",
   "execution_count": 9,
   "metadata": {},
   "outputs": [
    {
     "data": {
      "text/plain": [
       "{'two': [['num', 'op', 'num'], ['num', 'op', 'num']],\n",
       " 'op': [['+'], ['-'], ['*'], ['/']],\n",
       " 'num': [['1'], ['2'], ['3'], ['4']]}"
      ]
     },
     "execution_count": 9,
     "metadata": {},
     "output_type": "execute_result"
    }
   ],
   "source": [
    "generated_grammar"
   ]
  },
  {
   "cell_type": "code",
   "execution_count": null,
   "metadata": {},
   "outputs": [],
   "source": []
  },
  {
   "cell_type": "code",
   "execution_count": null,
   "metadata": {},
   "outputs": [],
   "source": []
  },
  {
   "cell_type": "code",
   "execution_count": 49,
   "metadata": {},
   "outputs": [
    {
     "name": "stdout",
     "output_type": "stream",
     "text": [
      "ab cd ef\n"
     ]
    }
   ],
   "source": [
    "test = 'ab,cd,ef' \n",
    "\n",
    "#a = test.split(',')\n",
    "a = test.split(',')\n",
    "b,c,d = test.split(',')\n",
    "print(b,c,d)\n"
   ]
  },
  {
   "cell_type": "code",
   "execution_count": 50,
   "metadata": {},
   "outputs": [],
   "source": [
    "#在西部世界里，一个”人类“的语言可以定义为：\n",
    "\n",
    "human = \"\"\"\n",
    "human = 自己 寻找 活动\n",
    "自己 = 我 | 俺 | 我们 \n",
    "寻找 = 找找 | 想找点 \n",
    "活动 = 乐子 | 玩的\n",
    "\"\"\"\n",
    "\n",
    "\n",
    "#一个“接待员”的语言可以定义为\n",
    "\n",
    "host = \"\"\"\n",
    "host = 寒暄 报数 询问 业务相关 结尾 \n",
    "报数 = 我是 数字 号 ,\n",
    "数字 = 单个数字 | 数字 单个数字 \n",
    "单个数字 = 1 | 2 | 3 | 4 | 5 | 6 | 7 | 8 | 9 \n",
    "寒暄 = 称谓 打招呼 | 打招呼\n",
    "称谓 = 人称 ,\n",
    "人称 = 先生 | 女士 | 小朋友\n",
    "打招呼 = 你好 | 您好 \n",
    "询问 = 请问你要 | 您需要\n",
    "业务相关 = 玩玩 具体业务\n",
    "玩玩 = null\n",
    "具体业务 = 喝酒 | 打牌 | 打猎 | 赌博\n",
    "结尾 = 吗？\n",
    "\"\"\""
   ]
  },
  {
   "cell_type": "code",
   "execution_count": 51,
   "metadata": {},
   "outputs": [
    {
     "name": "stdout",
     "output_type": "stream",
     "text": [
      "host  : [['寒暄', '报数', '询问', '业务相关', '结尾']]\n",
      "报数  : [['我是', '数字', '号', ',']]\n",
      "数字  : [['单个数字'], ['数字', '单个数字']]\n",
      "单个数字  : [['1'], ['2'], ['3'], ['4'], ['5'], ['6'], ['7'], ['8'], ['9']]\n",
      "寒暄  : [['称谓', '打招呼'], ['打招呼']]\n",
      "称谓  : [['人称', ',']]\n",
      "人称  : [['先生'], ['女士'], ['小朋友']]\n",
      "打招呼  : [['你好'], ['您好']]\n",
      "询问  : [['请问你要'], ['您需要']]\n",
      "业务相关  : [['玩玩', '具体业务']]\n",
      "玩玩  : [['null']]\n",
      "具体业务  : [['喝酒'], ['打牌'], ['打猎'], ['赌博']]\n",
      "结尾  : [['吗？']]\n"
     ]
    },
    {
     "data": {
      "text/plain": [
       "'女士 , 你好 我是 5 号 , 请问你要 null 赌博 吗？'"
      ]
     },
     "execution_count": 51,
     "metadata": {},
     "output_type": "execute_result"
    }
   ],
   "source": [
    "generate_by_str(host,split =\"=\" , target ='host')"
   ]
  },
  {
   "cell_type": "markdown",
   "metadata": {},
   "source": [
    "# Language Model\n",
    "𝑙𝑎𝑛𝑔𝑢𝑎𝑔𝑒_𝑚𝑜𝑑𝑒𝑙(𝑆𝑡𝑟𝑖𝑛𝑔)=𝑃𝑟𝑜𝑏𝑎𝑏𝑖𝑙𝑖𝑡𝑦(𝑆𝑡𝑟𝑖𝑛𝑔)∈(0,1)\n",
    "language_model(String)=Probability(String)∈(0,1)\n"
   ]
  },
  {
   "cell_type": "code",
   "execution_count": 2,
   "metadata": {},
   "outputs": [],
   "source": [
    "import random\n"
   ]
  },
  {
   "cell_type": "code",
   "execution_count": 3,
   "metadata": {},
   "outputs": [
    {
     "data": {
      "text/plain": [
       "45"
      ]
     },
     "execution_count": 3,
     "metadata": {},
     "output_type": "execute_result"
    }
   ],
   "source": [
    "random.choice(range(100))"
   ]
  },
  {
   "cell_type": "code",
   "execution_count": 4,
   "metadata": {},
   "outputs": [],
   "source": [
    "filename = 'C:\\\\Users\\\\wnapple\\\\Desktop\\\\dataset\\\\sqlResult_1558435.csv'"
   ]
  },
  {
   "cell_type": "code",
   "execution_count": 5,
   "metadata": {},
   "outputs": [],
   "source": [
    "import pandas as pd"
   ]
  },
  {
   "cell_type": "code",
   "execution_count": 6,
   "metadata": {},
   "outputs": [],
   "source": [
    "content = pd.read_csv(filename, encoding='gb18030')"
   ]
  },
  {
   "cell_type": "code",
   "execution_count": 7,
   "metadata": {
    "scrolled": true
   },
   "outputs": [
    {
     "data": {
      "text/html": [
       "<div>\n",
       "<style scoped>\n",
       "    .dataframe tbody tr th:only-of-type {\n",
       "        vertical-align: middle;\n",
       "    }\n",
       "\n",
       "    .dataframe tbody tr th {\n",
       "        vertical-align: top;\n",
       "    }\n",
       "\n",
       "    .dataframe thead th {\n",
       "        text-align: right;\n",
       "    }\n",
       "</style>\n",
       "<table border=\"1\" class=\"dataframe\">\n",
       "  <thead>\n",
       "    <tr style=\"text-align: right;\">\n",
       "      <th></th>\n",
       "      <th>id</th>\n",
       "      <th>author</th>\n",
       "      <th>source</th>\n",
       "      <th>content</th>\n",
       "      <th>feature</th>\n",
       "      <th>title</th>\n",
       "      <th>url</th>\n",
       "    </tr>\n",
       "  </thead>\n",
       "  <tbody>\n",
       "    <tr>\n",
       "      <th>0</th>\n",
       "      <td>89617</td>\n",
       "      <td>NaN</td>\n",
       "      <td>快科技@http://www.kkj.cn/</td>\n",
       "      <td>此外，自本周（6月12日）起，除小米手机6等15款机型外，其余机型已暂停更新发布（含开发版/...</td>\n",
       "      <td>{\"type\":\"科技\",\"site\":\"cnbeta\",\"commentNum\":\"37\"...</td>\n",
       "      <td>小米MIUI 9首批机型曝光：共计15款</td>\n",
       "      <td>http://www.cnbeta.com/articles/tech/623597.htm</td>\n",
       "    </tr>\n",
       "    <tr>\n",
       "      <th>1</th>\n",
       "      <td>89616</td>\n",
       "      <td>NaN</td>\n",
       "      <td>快科技@http://www.kkj.cn/</td>\n",
       "      <td>骁龙835作为唯一通过Windows 10桌面平台认证的ARM处理器，高通强调，不会因为只考...</td>\n",
       "      <td>{\"type\":\"科技\",\"site\":\"cnbeta\",\"commentNum\":\"15\"...</td>\n",
       "      <td>骁龙835在Windows 10上的性能表现有望改善</td>\n",
       "      <td>http://www.cnbeta.com/articles/tech/623599.htm</td>\n",
       "    </tr>\n",
       "    <tr>\n",
       "      <th>2</th>\n",
       "      <td>89615</td>\n",
       "      <td>NaN</td>\n",
       "      <td>快科技@http://www.kkj.cn/</td>\n",
       "      <td>此前的一加3T搭载的是3400mAh电池，DashCharge快充规格为5V/4A。\\r\\n...</td>\n",
       "      <td>{\"type\":\"科技\",\"site\":\"cnbeta\",\"commentNum\":\"18\"...</td>\n",
       "      <td>一加手机5细节曝光：3300mAh、充半小时用1天</td>\n",
       "      <td>http://www.cnbeta.com/articles/tech/623601.htm</td>\n",
       "    </tr>\n",
       "    <tr>\n",
       "      <th>3</th>\n",
       "      <td>89614</td>\n",
       "      <td>NaN</td>\n",
       "      <td>新华社</td>\n",
       "      <td>这是6月18日在葡萄牙中部大佩德罗冈地区拍摄的被森林大火烧毁的汽车。新华社记者张立云摄\\r\\n</td>\n",
       "      <td>{\"type\":\"国际新闻\",\"site\":\"环球\",\"commentNum\":\"0\",\"j...</td>\n",
       "      <td>葡森林火灾造成至少62人死亡 政府宣布进入紧急状态（组图）</td>\n",
       "      <td>http://world.huanqiu.com/hot/2017-06/10866126....</td>\n",
       "    </tr>\n",
       "    <tr>\n",
       "      <th>4</th>\n",
       "      <td>89613</td>\n",
       "      <td>胡淑丽_MN7479</td>\n",
       "      <td>深圳大件事</td>\n",
       "      <td>（原标题：44岁女子跑深圳约会网友被拒，暴雨中裸身奔走……）\\r\\n@深圳交警微博称：昨日清...</td>\n",
       "      <td>{\"type\":\"新闻\",\"site\":\"网易热门\",\"commentNum\":\"978\",...</td>\n",
       "      <td>44岁女子约网友被拒暴雨中裸奔 交警为其披衣相随</td>\n",
       "      <td>http://news.163.com/17/0618/00/CN617P3Q0001875...</td>\n",
       "    </tr>\n",
       "  </tbody>\n",
       "</table>\n",
       "</div>"
      ],
      "text/plain": [
       "      id      author                  source  \\\n",
       "0  89617         NaN  快科技@http://www.kkj.cn/   \n",
       "1  89616         NaN  快科技@http://www.kkj.cn/   \n",
       "2  89615         NaN  快科技@http://www.kkj.cn/   \n",
       "3  89614         NaN                     新华社   \n",
       "4  89613  胡淑丽_MN7479                   深圳大件事   \n",
       "\n",
       "                                             content  \\\n",
       "0  此外，自本周（6月12日）起，除小米手机6等15款机型外，其余机型已暂停更新发布（含开发版/...   \n",
       "1  骁龙835作为唯一通过Windows 10桌面平台认证的ARM处理器，高通强调，不会因为只考...   \n",
       "2  此前的一加3T搭载的是3400mAh电池，DashCharge快充规格为5V/4A。\\r\\n...   \n",
       "3    这是6月18日在葡萄牙中部大佩德罗冈地区拍摄的被森林大火烧毁的汽车。新华社记者张立云摄\\r\\n   \n",
       "4  （原标题：44岁女子跑深圳约会网友被拒，暴雨中裸身奔走……）\\r\\n@深圳交警微博称：昨日清...   \n",
       "\n",
       "                                             feature  \\\n",
       "0  {\"type\":\"科技\",\"site\":\"cnbeta\",\"commentNum\":\"37\"...   \n",
       "1  {\"type\":\"科技\",\"site\":\"cnbeta\",\"commentNum\":\"15\"...   \n",
       "2  {\"type\":\"科技\",\"site\":\"cnbeta\",\"commentNum\":\"18\"...   \n",
       "3  {\"type\":\"国际新闻\",\"site\":\"环球\",\"commentNum\":\"0\",\"j...   \n",
       "4  {\"type\":\"新闻\",\"site\":\"网易热门\",\"commentNum\":\"978\",...   \n",
       "\n",
       "                           title  \\\n",
       "0           小米MIUI 9首批机型曝光：共计15款   \n",
       "1     骁龙835在Windows 10上的性能表现有望改善   \n",
       "2      一加手机5细节曝光：3300mAh、充半小时用1天   \n",
       "3  葡森林火灾造成至少62人死亡 政府宣布进入紧急状态（组图）   \n",
       "4       44岁女子约网友被拒暴雨中裸奔 交警为其披衣相随   \n",
       "\n",
       "                                                 url  \n",
       "0     http://www.cnbeta.com/articles/tech/623597.htm  \n",
       "1     http://www.cnbeta.com/articles/tech/623599.htm  \n",
       "2     http://www.cnbeta.com/articles/tech/623601.htm  \n",
       "3  http://world.huanqiu.com/hot/2017-06/10866126....  \n",
       "4  http://news.163.com/17/0618/00/CN617P3Q0001875...  "
      ]
     },
     "execution_count": 7,
     "metadata": {},
     "output_type": "execute_result"
    }
   ],
   "source": [
    "content.head()"
   ]
  },
  {
   "cell_type": "code",
   "execution_count": null,
   "metadata": {},
   "outputs": [],
   "source": []
  },
  {
   "cell_type": "code",
   "execution_count": 8,
   "metadata": {},
   "outputs": [],
   "source": [
    "articles = content['content'].tolist()   #tolist（） 将数组或句子转化成列表"
   ]
  },
  {
   "cell_type": "code",
   "execution_count": 9,
   "metadata": {},
   "outputs": [
    {
     "data": {
      "text/plain": [
       "89611"
      ]
     },
     "execution_count": 9,
     "metadata": {},
     "output_type": "execute_result"
    }
   ],
   "source": [
    "len(articles)"
   ]
  },
  {
   "cell_type": "code",
   "execution_count": 34,
   "metadata": {},
   "outputs": [
    {
     "data": {
      "text/plain": [
       "'骁龙835作为唯一通过Windows 10桌面平台认证的ARM处理器，高通强调，不会因为只考虑性能而去屏蔽掉小核心。相反，他们正联手微软，找到一种适合桌面平台的、兼顾性能和功耗的完美方案。\\r\\n报道称，微软已经拿到了一些新的源码，以便Windows 10更好地理解big.little架构。\\r\\n资料显示，骁龙835作为一款集成了CPU、GPU、基带、蓝牙/Wi-Fi的SoC，比传统的Wintel方案可以节省至少30%的PCB空间。\\r\\n按计划，今年Q4，华硕、惠普、联想将首发骁龙835 Win10电脑，预计均是二合一形态的产品。\\r\\n当然，高通骁龙只是个开始，未来也许还能见到三星Exynos、联发科、华为麒麟、小米澎湃等进入Windows 10桌面平台。\\r\\n'"
      ]
     },
     "execution_count": 34,
     "metadata": {},
     "output_type": "execute_result"
    }
   ],
   "source": [
    "articles[1]"
   ]
  },
  {
   "cell_type": "code",
   "execution_count": 35,
   "metadata": {},
   "outputs": [],
   "source": [
    "import re  #用正则去掉段落中的特殊符号"
   ]
  },
  {
   "cell_type": "code",
   "execution_count": 36,
   "metadata": {},
   "outputs": [],
   "source": [
    "def token(string):\n",
    "\n",
    "    return re.findall('\\w+', string)    # \\w 代表找所有的words ；复习 re.findall（）"
   ]
  },
  {
   "cell_type": "code",
   "execution_count": 33,
   "metadata": {},
   "outputs": [
    {
     "data": {
      "text/plain": [
       "['受到A股被纳入MSCI指数的利好消息刺激',\n",
       " 'A股市场从周三开始再度上演龙马行情',\n",
       " '周四上午金融股和白马股表现喜人',\n",
       " '但是尾盘跳水之后',\n",
       " '仅金融板块仍维系红盘状态',\n",
       " '分析人士认为',\n",
       " '金融股受益于MSCI纳入A股和低估值而重获资金青睐',\n",
       " '但是存量资金博弈格局下',\n",
       " '风格交替的震荡格局料延续',\n",
       " '流动性改善',\n",
       " '经济悲观预期修正等有助于支撑板块继而大盘指数逐步向好',\n",
       " '一九',\n",
       " '再现',\n",
       " '周四',\n",
       " 'A股市场未能延续周三的上行态势',\n",
       " '两市成交小幅放量',\n",
       " '29个中信一级行业中',\n",
       " '收盘仅银行和非银行金融两个行业指数收红',\n",
       " '分别上涨1',\n",
       " '80',\n",
       " '和0',\n",
       " '20',\n",
       " '从二级行业来看',\n",
       " '股份制与城商行的涨幅最高',\n",
       " '达到2',\n",
       " '22',\n",
       " '国有银行上涨0',\n",
       " '82',\n",
       " '信托及其他上涨0',\n",
       " '64',\n",
       " '保险板块上涨0',\n",
       " '34',\n",
       " '证券板块上涨0',\n",
       " '06',\n",
       " '银行板块25只成分股中',\n",
       " '共有21只收红',\n",
       " '其中',\n",
       " '招商银行涨幅最大',\n",
       " '上涨6',\n",
       " '66',\n",
       " '贵阳银行上涨3',\n",
       " '65',\n",
       " '上海银行',\n",
       " '华夏银行',\n",
       " '浦发银行和兴业银行的涨幅均超过1',\n",
       " '50',\n",
       " '非银行金融板块44只成分股中',\n",
       " '共17只个股上涨',\n",
       " '其中',\n",
       " '安信信托',\n",
       " '中国太保涨幅居前两名',\n",
       " '分别上涨4',\n",
       " '57',\n",
       " '和3',\n",
       " '04',\n",
       " '西水股份',\n",
       " '华安证券',\n",
       " '中国人寿和新华保险的涨幅也均超过2',\n",
       " '相对而言',\n",
       " '券商股多小幅下跌',\n",
       " '近期',\n",
       " '对A股市场消息面影响最大的就是MSCI宣布从2018年6月开始将A股纳入MSCI新兴市场指数',\n",
       " '而其中',\n",
       " '金融股是占比最大的一个群体',\n",
       " '国金证券李立峰团队指出',\n",
       " '最新方案中包含的222只成分股中',\n",
       " '剔除了中等市值',\n",
       " '非互联互通可交易的股票以及有停牌限制的标的',\n",
       " '由于纳入了很多大市值AH股',\n",
       " 'A股在MSCI',\n",
       " 'EM中的权重由0',\n",
       " '5',\n",
       " '上升到了0',\n",
       " '73',\n",
       " '其中',\n",
       " '金融板块占比最高',\n",
       " '达到40',\n",
       " '11',\n",
       " '泛消费次之',\n",
       " '占比为24',\n",
       " '26',\n",
       " '两个板块涵盖了大部分权重股',\n",
       " '动态来看',\n",
       " '由于加入了很多是指占比高的金融公司',\n",
       " '金融板块的权重增加了近一半',\n",
       " '其他大部分行业权重都受到了稀释',\n",
       " '尽管A股被纳入MSCI这一利好事件对短期市场情绪有所提振',\n",
       " '对中长期海外增量资金预期升温',\n",
       " '但短期内',\n",
       " '市场量能尚不能有效放大',\n",
       " '金融股独乐乐情景也就难以持续',\n",
       " '存量博弈格局下',\n",
       " '风格交替',\n",
       " '指数震荡格局难改变',\n",
       " '光大证券指出',\n",
       " '利好并未引起市场太大的热情',\n",
       " '两市指数和成交量均较为平淡',\n",
       " '但市场风格出现了较大变化',\n",
       " '白马股金融股上涨的同时',\n",
       " '成长股',\n",
       " '题材股全天低迷',\n",
       " '这表明市场增量资金依然很少',\n",
       " '存量资金在不同板块之间腾挪',\n",
       " '这样的跷跷板格局使得指数难有突破',\n",
       " '市场中期依旧偏空',\n",
       " '短期依旧可能维持震荡格局']"
      ]
     },
     "execution_count": 33,
     "metadata": {},
     "output_type": "execute_result"
    }
   ],
   "source": [
    "token(articles[5])"
   ]
  },
  {
   "cell_type": "code",
   "execution_count": 38,
   "metadata": {},
   "outputs": [],
   "source": [
    "from collections import Counter    #用于统计每个元素出现的次数"
   ]
  },
  {
   "cell_type": "code",
   "execution_count": 39,
   "metadata": {},
   "outputs": [],
   "source": [
    "import jieba"
   ]
  },
  {
   "cell_type": "code",
   "execution_count": 45,
   "metadata": {},
   "outputs": [
    {
     "name": "stdout",
     "output_type": "stream",
     "text": [
      "Counter({'，': 13, '、': 9, '的': 8, '。': 6, '\\r\\n': 5, '骁龙': 4, ' ': 4, '835': 3, 'Windows': 3, '10': 3, '桌面': 3, '平台': 3, '作为': 2, '高通': 2, '性能': 2, '微软': 2, '方案': 2, '了': 2, '唯一': 1, '通过': 1, '认证': 1, 'ARM': 1, '处理器': 1, '强调': 1, '不会': 1, '因为': 1, '只': 1, '考虑': 1, '而': 1, '去': 1, '屏蔽掉': 1, '小': 1, '核心': 1, '相反': 1, '他们': 1, '正': 1, '联手': 1, '找到': 1, '一种': 1, '适合': 1, '兼顾': 1, '和': 1, '功耗': 1, '完美': 1, '报道': 1, '称': 1, '已经': 1, '拿到': 1, '一些': 1, '新': 1, '源码': 1, '以便': 1, '更好': 1, '地': 1, '理解': 1, 'big': 1, '.': 1, 'little': 1, '架构': 1, '资料': 1, '显示': 1, '一款': 1, '集成': 1, 'CPU': 1, 'GPU': 1, '基带': 1, '蓝牙': 1, '/': 1, 'Wi': 1, '-': 1, 'Fi': 1, 'SoC': 1, '比': 1, '传统': 1, 'Wintel': 1, '可以': 1, '节省': 1, '至少': 1, '30%': 1, 'PCB': 1, '空间': 1, '按计划': 1, '今年': 1, 'Q4': 1, '华硕': 1, '惠普': 1, '联想': 1, '将': 1, '首发': 1, 'Win10': 1, '电脑': 1, '预计': 1, '均': 1, '是': 1, '二合一': 1, '形态': 1, '产品': 1, '当然': 1, '只是': 1, '个': 1, '开始': 1, '未来': 1, '也许': 1, '还': 1, '能': 1, '见到': 1, '三星': 1, 'Exynos': 1, '联发科': 1, '华为': 1, '麒麟': 1, '小米': 1, '澎湃': 1, '等': 1, '进入': 1})\n"
     ]
    }
   ],
   "source": [
    "with_jieba_cut = Counter(jieba.cut(articles[1]))\n",
    "print(with_jieba_cuth_jieba_cut)"
   ]
  },
  {
   "cell_type": "code",
   "execution_count": 43,
   "metadata": {},
   "outputs": [
    {
     "data": {
      "text/plain": [
       "['尝试', '一下', '用', 'jieba']"
      ]
     },
     "execution_count": 43,
     "metadata": {},
     "output_type": "execute_result"
    }
   ],
   "source": [
    "list(jieba.cut('尝试一下用jieba'))"
   ]
  },
  {
   "cell_type": "code",
   "execution_count": 44,
   "metadata": {},
   "outputs": [
    {
     "data": {
      "text/plain": [
       "[('，', 13),\n",
       " ('、', 9),\n",
       " ('的', 8),\n",
       " ('。', 6),\n",
       " ('\\r\\n', 5),\n",
       " ('骁龙', 4),\n",
       " (' ', 4),\n",
       " ('835', 3),\n",
       " ('Windows', 3),\n",
       " ('10', 3)]"
      ]
     },
     "execution_count": 44,
     "metadata": {},
     "output_type": "execute_result"
    }
   ],
   "source": [
    "with_jieba_cut.most_common()[:10]   #输出前十个频次最高的"
   ]
  },
  {
   "cell_type": "code",
   "execution_count": 46,
   "metadata": {},
   "outputs": [
    {
     "data": {
      "text/plain": [
       "'骁龙835作为唯一通过Windows10桌面平台认证的ARM处理器高通强调不会因为只考虑性能而去屏蔽掉小核心相反他们正联手微软找到一种适合桌面平台的兼顾性能和功耗的完美方案报道称微软已经拿到了一些新的源码以便Windows10更好地理解biglittle架构资料显示骁龙835作为一款集成了CPUGPU基带蓝牙WiFi的SoC比传统的Wintel方案可以节省至少30的PCB空间按计划今年Q4华硕惠普联想将首发骁龙835Win10电脑预计均是二合一形态的产品当然高通骁龙只是个开始未来也许还能见到三星Exynos联发科华为麒麟小米澎湃等进入Windows10桌面平台'"
      ]
     },
     "execution_count": 46,
     "metadata": {},
     "output_type": "execute_result"
    }
   ],
   "source": [
    "''.join(token(articles[1]))     #对字符串进行拼接 join（）"
   ]
  },
  {
   "cell_type": "code",
   "execution_count": 50,
   "metadata": {},
   "outputs": [],
   "source": [
    "articles_clean = [''.join(token(str(a))) for a in articles]"
   ]
  },
  {
   "cell_type": "code",
   "execution_count": 51,
   "metadata": {},
   "outputs": [
    {
     "data": {
      "text/plain": [
       "89611"
      ]
     },
     "execution_count": 51,
     "metadata": {},
     "output_type": "execute_result"
    }
   ],
   "source": [
    "len(articles_clean)"
   ]
  },
  {
   "cell_type": "code",
   "execution_count": 58,
   "metadata": {},
   "outputs": [
    {
     "data": {
      "text/plain": [
       "'新华社德国杜塞尔多夫６月６日电题乒乓女球迷n新华社记者王子江张寒n熊老师离开上海前特意花一千多元买了一只张继科代言的球拍准备在世界锦标赛期间他赢了比赛后能在球拍上签个名但没想到张继科在３２强赛中输给了韩国的李尚洙n拍子算是白拿过来了熊老师摇头就算是信仰充值了n信仰充值是乒乓球粉丝圈非常流行的词汇简单来说就是为自己喜欢的明星或球队花钱n熊老师是这位２２岁的成都姑娘的艺名艺名这一称呼也是她们自己形容的熊老师的真实身份是上海一所名牌大学会计专业的大四学生其他同学正在抓紧毕业找工作她一个人溜到德国观看世乒赛尽管带着张继科的球拍但熊老师并不是张的铁粉她并不喜欢张继科输了比赛之后一堆科迷在赛场外抱头痛哭的场景而显得比较理智但是因为科迷数量众多让她这种散户也有些说不出的羡慕n他们竟然连续两天买断了一面看台上所有的门票为的是挂起带有张继科名字的旗子两天就要花４５万人民币熊老师直喊过分n熊老师与其他１０名中国队女球迷挤在一套三居室里厨房的柜子里塞了很多方便面至少三个人挤在一个房间里条件的确差了点但住宿费平摊下来每天只有大约２００元人民币这样让大家心里平衡了很多n房间里的所有人都是在网上认识的大家也并不全知道对方真实的姓名和身份我们都用艺名来自广州的茶茶说茶茶已经工作了几年这次也是利用假期出来的n所有人都是提前大约半年从国际乒联的官网上买了比赛的通票可以观看全程所有的比赛票价大约两千块人民币５月底６月初并不是旅游旺季机票也不是太贵这让她们都很庆幸n里面最幸运的应该是井井她这次来的身份是一家时尚媒体的记者她申请到了记者证每天背着一个大相机在场地里边拍照边看球她提前大约一个星期就来到了德国比赛开始前她去附近几个城市玩了玩这一趟世乒赛之旅非常充实n十几个人中最不像球迷的是一位来自香港的女大学生看上去文静内向其他人都叫她香港妹香港妹与熊老师一样都是学的会计专业她告诉父母这次出来是到德国看朋友住宿和球票的花费都是平时做家教挣的父母支援了机票钱从香港到杜塞尔多夫往返只有三千多元人民币让其他内地球迷非常羡慕n香港妹以前并不懂乒乓球去年里约奥运会时一家人边吃饭边看电视正好电视直播乒乓球比赛从此她就成了中国队的球迷n香港妹更让人羡慕的还是来德国不用签证不过熊老师也欣慰地说这次有了德国的签证以后去日本看比赛签证就容易多了n这些女孩子大部分都是第一次出国以前都是在国内看比赛熊老师自称这几年甚至到过一些非常奇葩的赛场去年一个比赛在东北某城市举行由于赛场过于偏僻她在手机上点了外卖最后却被强制退单她饿着肚子看完了比赛n女球迷们每天早出晚归看完比赛回来有时候近半夜回来之后还要互相交流当天的看球感想十几个女孩子叽叽喳喳吵得楼上一个德国老太太下来敲门让她们保持安静但她们聊着聊着仍然不自觉嗓门就大起来n世乒赛闭幕那天晚上她们在餐馆里吃了顿散伙饭中国队拿了４个冠军但每个人的心情不一样因为她们支持的偶像并不完全相同好几人支持刘诗雯但她在女单半决赛就输了小伙伴们一起丧了很久井井在朋友圈里说n告别的那天大家不约而同在朋友圈里晒了聚餐的照片伤感地告别n走了杜塞尔多夫井井说n在这呆了一个星期要走了还是有点不舍得都还没好好看看这个城市再见啦杜塞茶茶说n熊老师最后一条朋友圈发的是丁宁和刘诗雯赢得女双冠军的照片n懂事之前情动以后长不过一天留不住算不出流年她写道完n'"
      ]
     },
     "execution_count": 58,
     "metadata": {},
     "output_type": "execute_result"
    }
   ],
   "source": [
    "articles_clean[89610]"
   ]
  },
  {
   "cell_type": "markdown",
   "metadata": {},
   "source": [
    "经验：数据预处理（重要信息要实时保存）\n",
    "数据要存到硬盘里\n",
    "如何做？　方法：生成一个新文件，存到里面\n"
   ]
  },
  {
   "cell_type": "code",
   "execution_count": 54,
   "metadata": {},
   "outputs": [],
   "source": [
    "with open('article_9k.txt', 'w') as f:                         \n",
    "    for a in articles_clean:\n",
    "        f.write(a + '\\n')"
   ]
  },
  {
   "cell_type": "code",
   "execution_count": 29,
   "metadata": {},
   "outputs": [],
   "source": [
    "import jieba"
   ]
  },
  {
   "cell_type": "code",
   "execution_count": 30,
   "metadata": {},
   "outputs": [],
   "source": [
    "def cut(string): return  list(jieba.cut(string))"
   ]
  },
  {
   "cell_type": "code",
   "execution_count": 31,
   "metadata": {},
   "outputs": [],
   "source": [
    "TOKEN = []"
   ]
  },
  {
   "cell_type": "code",
   "execution_count": 32,
   "metadata": {},
   "outputs": [
    {
     "name": "stderr",
     "output_type": "stream",
     "text": [
      "Building prefix dict from the default dictionary ...\n",
      "Loading model from cache C:\\Users\\wnapple\\AppData\\Local\\Temp\\jieba.cache\n",
      "Loading model cost 1.282 seconds.\n",
      "Prefix dict has been built successfully.\n"
     ]
    }
   ],
   "source": [
    "TOKEN = cut (open('article_9k.txt').read())       #读取txt中的内容，并完成切词，存在TOKEN中"
   ]
  },
  {
   "cell_type": "code",
   "execution_count": 33,
   "metadata": {},
   "outputs": [
    {
     "data": {
      "text/plain": [
       "17618254"
      ]
     },
     "execution_count": 33,
     "metadata": {},
     "output_type": "execute_result"
    }
   ],
   "source": [
    "len(TOKEN)  # 1.7kw个单词"
   ]
  },
  {
   "cell_type": "code",
   "execution_count": 34,
   "metadata": {},
   "outputs": [],
   "source": [
    "from functools import reduce           #计算阶乘用的工具包   \n",
    "from operator import add,mul"
   ]
  },
  {
   "attachments": {
    "image.png": {
     "image/png": "[encoded data removed]"
    }
   },
   "cell_type": "markdown",
   "metadata": {},
   "source": [
    "![image.png](attachment:image.png)"
   ]
  },
  {
   "cell_type": "code",
   "execution_count": 35,
   "metadata": {},
   "outputs": [
    {
     "data": {
      "text/plain": [
       "15"
      ]
     },
     "execution_count": 35,
     "metadata": {},
     "output_type": "execute_result"
    }
   ],
   "source": [
    "reduce(add,[1,2,3,4,5]) "
   ]
  },
  {
   "cell_type": "markdown",
   "metadata": {},
   "source": [
    "## nlp比较重要的规律: 出现频率第二多的单词是第一多的1/2 ； 第n多的单词是第1多的单词的1/N"
   ]
  },
  {
   "cell_type": "markdown",
   "metadata": {},
   "source": [
    "## 1-GRam模型的原理和代码实现\n",
    "## 语料库数据放大（homework）"
   ]
  },
  {
   "cell_type": "code",
   "execution_count": 36,
   "metadata": {},
   "outputs": [],
   "source": [
    "from collections import Counter   "
   ]
  },
  {
   "cell_type": "code",
   "execution_count": 37,
   "metadata": {},
   "outputs": [],
   "source": [
    "words_count = Counter(TOKEN)         #统计TOKEN中的单词数量"
   ]
  },
  {
   "cell_type": "code",
   "execution_count": 38,
   "metadata": {},
   "outputs": [
    {
     "data": {
      "text/plain": [
       "[('的', 703716),\n",
       " ('n', 382020),\n",
       " ('在', 263597),\n",
       " ('月', 189330),\n",
       " ('日', 166300),\n",
       " ('新华社', 142462),\n",
       " ('和', 134061),\n",
       " ('年', 123106),\n",
       " ('了', 121938),\n",
       " ('是', 100909),\n",
       " ('\\n', 89611),\n",
       " ('１', 88187),\n",
       " ('０', 84945),\n",
       " ('外代', 83268),\n",
       " ('中', 73926),\n",
       " ('中国', 71179),\n",
       " ('２', 70521),\n",
       " ('2017', 69894),\n",
       " ('记者', 62147),\n",
       " ('二线', 61998),\n",
       " ('将', 61420),\n",
       " ('与', 58309),\n",
       " ('等', 58162),\n",
       " ('为', 57019),\n",
       " ('5', 54578),\n",
       " ('照片', 52271),\n",
       " ('4', 51626),\n",
       " ('对', 50317),\n",
       " ('上', 47452),\n",
       " ('也', 47401),\n",
       " ('有', 45767),\n",
       " ('５', 40857),\n",
       " ('说', 39017),\n",
       " ('发展', 37632),\n",
       " ('他', 37194),\n",
       " ('３', 36906),\n",
       " ('以', 36867),\n",
       " ('国际', 35842),\n",
       " ('nn', 35330),\n",
       " ('４', 34659),\n",
       " ('比赛', 32232),\n",
       " ('６', 30575),\n",
       " ('到', 30109),\n",
       " ('人', 29572),\n",
       " ('从', 29489),\n",
       " ('6', 29002),\n",
       " ('都', 28027),\n",
       " ('不', 27963),\n",
       " ('后', 27393),\n",
       " ('当日', 27186),\n",
       " ('就', 26684),\n",
       " ('并', 26568),\n",
       " ('国家', 26439),\n",
       " ('７', 26386),\n",
       " ('企业', 26147),\n",
       " ('进行', 25987),\n",
       " ('3', 25491),\n",
       " ('美国', 25485),\n",
       " ('举行', 25389),\n",
       " ('被', 25277),\n",
       " ('北京', 25245),\n",
       " ('体育', 24873),\n",
       " ('2', 24376),\n",
       " ('1', 24182),\n",
       " ('这', 24118),\n",
       " ('新', 23828),\n",
       " ('但', 23385),\n",
       " ('比', 23229),\n",
       " ('个', 23081),\n",
       " ('足球', 22554),\n",
       " ('表示', 22134),\n",
       " ('经济', 22006),\n",
       " ('我', 21940),\n",
       " ('一个', 21932),\n",
       " ('９', 21920),\n",
       " ('还', 21861),\n",
       " ('合作', 21567),\n",
       " ('要', 21045),\n",
       " ('n5', 20946),\n",
       " ('已', 20882),\n",
       " ('摄', 20837),\n",
       " ('８', 20701),\n",
       " ('工作', 20700),\n",
       " ('n4', 20658),\n",
       " ('选手', 19986),\n",
       " ('我们', 19982),\n",
       " ('市场', 19001),\n",
       " ('一路', 18978),\n",
       " ('一带', 18907),\n",
       " ('建设', 18634),\n",
       " ('让', 18609),\n",
       " ('日电', 18384),\n",
       " ('通过', 18159),\n",
       " ('多', 17760),\n",
       " ('时', 17750),\n",
       " ('完', 17424),\n",
       " ('于', 17421),\n",
       " ('问题', 17338),\n",
       " ('更', 17275),\n",
       " ('项目', 17260)]"
      ]
     },
     "execution_count": 38,
     "metadata": {},
     "output_type": "execute_result"
    }
   ],
   "source": [
    "words_count.most_common(100)         #前100排序  "
   ]
  },
  {
   "cell_type": "code",
   "execution_count": 39,
   "metadata": {},
   "outputs": [],
   "source": [
    "frequiences = [f for w, f in words_count.most_common(100)]   "
   ]
  },
  {
   "cell_type": "code",
   "execution_count": 40,
   "metadata": {},
   "outputs": [],
   "source": [
    "x = [i for i in range(100)]"
   ]
  },
  {
   "cell_type": "code",
   "execution_count": 41,
   "metadata": {},
   "outputs": [],
   "source": [
    "import matplotlib.pyplot as plt"
   ]
  },
  {
   "cell_type": "code",
   "execution_count": 42,
   "metadata": {},
   "outputs": [
    {
     "data": {
      "text/plain": [
       "[<matplotlib.lines.Line2D at 0xbfa3dd8>]"
      ]
     },
     "execution_count": 42,
     "metadata": {},
     "output_type": "execute_result"
    },
    {
     "data": {
      "image/png": "[encoded data removed]",
      "text/plain": [
       "<Figure size 432x288 with 1 Axes>"
      ]
     },
     "metadata": {
      "needs_background": "light"
     },
     "output_type": "display_data"
    }
   ],
   "source": [
    "plt.plot(x, frequiences)"
   ]
  },
  {
   "cell_type": "code",
   "execution_count": 43,
   "metadata": {},
   "outputs": [
    {
     "data": {
      "text/plain": [
       "[<matplotlib.lines.Line2D at 0x9bbb208>]"
      ]
     },
     "execution_count": 43,
     "metadata": {},
     "output_type": "execute_result"
    },
    {
     "data": {
      "image/png": "[encoded data removed]",
      "text/plain": [
       "<Figure size 432x288 with 1 Axes>"
      ]
     },
     "metadata": {
      "needs_background": "light"
     },
     "output_type": "display_data"
    }
   ],
   "source": [
    "import numpy as np                     #对数变换\n",
    "plt.plot(x, np.log(frequiences))"
   ]
  },
  {
   "cell_type": "code",
   "execution_count": 44,
   "metadata": {},
   "outputs": [],
   "source": [
    "def prob_1(word):                                 #公式：prob_1(某词)= 某个词的出现的次数/预料库总词数\n",
    "    return words_count[word] / len(TOKEN)"
   ]
  },
  {
   "cell_type": "code",
   "execution_count": 45,
   "metadata": {},
   "outputs": [
    {
     "data": {
      "text/plain": [
       "4.256948503523675e-06"
      ]
     },
     "execution_count": 45,
     "metadata": {},
     "output_type": "execute_result"
    }
   ],
   "source": [
    "prob_1('科比')"
   ]
  },
  {
   "cell_type": "code",
   "execution_count": 46,
   "metadata": {},
   "outputs": [
    {
     "data": {
      "text/plain": [
       "['此外', '自', '本周', '6', '月', '12', '日起', '除', '小米', '手机']"
      ]
     },
     "execution_count": 46,
     "metadata": {},
     "output_type": "execute_result"
    }
   ],
   "source": [
    "TOKEN[:10]"
   ]
  },
  {
   "cell_type": "code",
   "execution_count": 47,
   "metadata": {},
   "outputs": [],
   "source": [
    "TOKEN = [str(t) for t in TOKEN]         #将所有的词转为字符型"
   ]
  },
  {
   "cell_type": "code",
   "execution_count": 48,
   "metadata": {},
   "outputs": [],
   "source": [
    "TOKEN_2_GRAM = [''.join(TOKEN[i:i+2]) for i in range(len(TOKEN[:-2]))]       #将两个词连在一起[0,1][1,2],[2,3],[n,n+1]=> 01,12,23,34"
   ]
  },
  {
   "cell_type": "code",
   "execution_count": 49,
   "metadata": {},
   "outputs": [
    {
     "data": {
      "text/plain": [
       "['此外自', '自本周', '本周6', '6月', '月12', '12日起', '日起除', '除小米', '小米手机', '手机6']"
      ]
     },
     "execution_count": 49,
     "metadata": {},
     "output_type": "execute_result"
    }
   ],
   "source": [
    "TOKEN_2_GRAM[:10]"
   ]
  },
  {
   "cell_type": "code",
   "execution_count": 50,
   "metadata": {},
   "outputs": [],
   "source": [
    "words_count_2 = Counter(TOKEN_2_GRAM)"
   ]
  },
  {
   "cell_type": "code",
   "execution_count": 51,
   "metadata": {},
   "outputs": [],
   "source": [
    "def prob_1(word): return words_count[word] / len(TOKEN)"
   ]
  },
  {
   "cell_type": "code",
   "execution_count": 52,
   "metadata": {},
   "outputs": [],
   "source": [
    "def prob_2(word1, word2):                        # 如何 两个词连一起出现在 count2里；那么输出其概率\n",
    "    if word1 + word2 in words_count_2: return words_count_2[word1+word2] / len(TOKEN_2_GRAM)\n",
    "    else:\n",
    "        return 1 / len(TOKEN_2_GRAM)"
   ]
  },
  {
   "cell_type": "code",
   "execution_count": 58,
   "metadata": {},
   "outputs": [],
   "source": [
    "def get_probablity(sentence):             #定义句子概率函数\n",
    "    words = cut(sentence)                 #输入一个句子切词       \n",
    "    sentence_pro = 1                      #初始句子为概率为1         \n",
    "    for i, word in enumerate(words[:-1]):  \n",
    "        next_ = words[i+1]               # next是words后一个相联单词           \n",
    "        \n",
    "        probability = prob_2(word, next_)\n",
    "        \n",
    "        sentence_pro *= probability\n",
    "    \n",
    "    return sentence_pro"
   ]
  },
  {
   "cell_type": "code",
   "execution_count": 59,
   "metadata": {},
   "outputs": [
    {
     "data": {
      "text/plain": [
       "1.3714273641474264e-20"
      ]
     },
     "execution_count": 59,
     "metadata": {},
     "output_type": "execute_result"
    }
   ],
   "source": [
    "get_probablity('科比今天访问中国')"
   ]
  },
  {
   "cell_type": "code",
   "execution_count": 1,
   "metadata": {},
   "outputs": [
    {
     "ename": "NameError",
     "evalue": "name 'generate' is not defined",
     "output_type": "error",
     "traceback": [
      "\u001b[1;31m---------------------------------------------------------------------------\u001b[0m",
      "\u001b[1;31mNameError\u001b[0m                                 Traceback (most recent call last)",
      "\u001b[1;32m<ipython-input-1-7e27f4633a0a>\u001b[0m in \u001b[0;36m<module>\u001b[1;34m\u001b[0m\n\u001b[1;32m----> 1\u001b[1;33m \u001b[1;32mfor\u001b[0m \u001b[0msen\u001b[0m \u001b[1;32min\u001b[0m \u001b[1;33m[\u001b[0m\u001b[0mgenerate\u001b[0m\u001b[1;33m(\u001b[0m\u001b[0mgram\u001b[0m\u001b[1;33m=\u001b[0m\u001b[0mexample_grammar\u001b[0m\u001b[1;33m,\u001b[0m \u001b[0mtarget\u001b[0m\u001b[1;33m=\u001b[0m\u001b[1;34m'sentence'\u001b[0m\u001b[1;33m)\u001b[0m \u001b[1;32mfor\u001b[0m \u001b[0mi\u001b[0m \u001b[1;32min\u001b[0m \u001b[0mrange\u001b[0m\u001b[1;33m(\u001b[0m\u001b[1;36m10\u001b[0m\u001b[1;33m)\u001b[0m\u001b[1;33m]\u001b[0m\u001b[1;33m:\u001b[0m\u001b[1;33m\u001b[0m\u001b[1;33m\u001b[0m\u001b[0m\n\u001b[0m\u001b[0;32m      2\u001b[0m     \u001b[0mprint\u001b[0m\u001b[1;33m(\u001b[0m\u001b[1;34m'sentence: {} with Prb: {}'\u001b[0m\u001b[1;33m.\u001b[0m\u001b[0mformat\u001b[0m\u001b[1;33m(\u001b[0m\u001b[0msen\u001b[0m\u001b[1;33m,\u001b[0m \u001b[0mget_probablity\u001b[0m\u001b[1;33m(\u001b[0m\u001b[0msen\u001b[0m\u001b[1;33m)\u001b[0m\u001b[1;33m)\u001b[0m\u001b[1;33m)\u001b[0m\u001b[1;33m\u001b[0m\u001b[1;33m\u001b[0m\u001b[0m\n",
      "\u001b[1;32m<ipython-input-1-7e27f4633a0a>\u001b[0m in \u001b[0;36m<listcomp>\u001b[1;34m(.0)\u001b[0m\n\u001b[1;32m----> 1\u001b[1;33m \u001b[1;32mfor\u001b[0m \u001b[0msen\u001b[0m \u001b[1;32min\u001b[0m \u001b[1;33m[\u001b[0m\u001b[0mgenerate\u001b[0m\u001b[1;33m(\u001b[0m\u001b[0mgram\u001b[0m\u001b[1;33m=\u001b[0m\u001b[0mexample_grammar\u001b[0m\u001b[1;33m,\u001b[0m \u001b[0mtarget\u001b[0m\u001b[1;33m=\u001b[0m\u001b[1;34m'sentence'\u001b[0m\u001b[1;33m)\u001b[0m \u001b[1;32mfor\u001b[0m \u001b[0mi\u001b[0m \u001b[1;32min\u001b[0m \u001b[0mrange\u001b[0m\u001b[1;33m(\u001b[0m\u001b[1;36m10\u001b[0m\u001b[1;33m)\u001b[0m\u001b[1;33m]\u001b[0m\u001b[1;33m:\u001b[0m\u001b[1;33m\u001b[0m\u001b[1;33m\u001b[0m\u001b[0m\n\u001b[0m\u001b[0;32m      2\u001b[0m     \u001b[0mprint\u001b[0m\u001b[1;33m(\u001b[0m\u001b[1;34m'sentence: {} with Prb: {}'\u001b[0m\u001b[1;33m.\u001b[0m\u001b[0mformat\u001b[0m\u001b[1;33m(\u001b[0m\u001b[0msen\u001b[0m\u001b[1;33m,\u001b[0m \u001b[0mget_probablity\u001b[0m\u001b[1;33m(\u001b[0m\u001b[0msen\u001b[0m\u001b[1;33m)\u001b[0m\u001b[1;33m)\u001b[0m\u001b[1;33m)\u001b[0m\u001b[1;33m\u001b[0m\u001b[1;33m\u001b[0m\u001b[0m\n",
      "\u001b[1;31mNameError\u001b[0m: name 'generate' is not defined"
     ]
    }
   ],
   "source": [
    "for sen in [generate(gram=example_grammar, target='sentence') for i in range(10)]:\n",
    "    print('sentence: {} with Prb: {}'.format(sen, get_probablity(sen)))"
   ]
  },
  {
   "cell_type": "code",
   "execution_count": 2,
   "metadata": {},
   "outputs": [
    {
     "ename": "NameError",
     "evalue": "name 'get_probablity' is not defined",
     "output_type": "error",
     "traceback": [
      "\u001b[1;31m---------------------------------------------------------------------------\u001b[0m",
      "\u001b[1;31mNameError\u001b[0m                                 Traceback (most recent call last)",
      "\u001b[1;32m<ipython-input-2-ff6f81720bd2>\u001b[0m in \u001b[0;36m<module>\u001b[1;34m\u001b[0m\n\u001b[0;32m      8\u001b[0m \u001b[1;32mfor\u001b[0m \u001b[0ms\u001b[0m \u001b[1;32min\u001b[0m \u001b[0mneed_compared\u001b[0m\u001b[1;33m:\u001b[0m\u001b[1;33m\u001b[0m\u001b[1;33m\u001b[0m\u001b[0m\n\u001b[0;32m      9\u001b[0m     \u001b[0ms1\u001b[0m\u001b[1;33m,\u001b[0m \u001b[0ms2\u001b[0m \u001b[1;33m=\u001b[0m \u001b[0ms\u001b[0m\u001b[1;33m.\u001b[0m\u001b[0msplit\u001b[0m\u001b[1;33m(\u001b[0m\u001b[1;33m)\u001b[0m\u001b[1;33m\u001b[0m\u001b[1;33m\u001b[0m\u001b[0m\n\u001b[1;32m---> 10\u001b[1;33m     \u001b[0mp1\u001b[0m\u001b[1;33m,\u001b[0m \u001b[0mp2\u001b[0m \u001b[1;33m=\u001b[0m \u001b[0mget_probablity\u001b[0m\u001b[1;33m(\u001b[0m\u001b[0ms1\u001b[0m\u001b[1;33m)\u001b[0m\u001b[1;33m,\u001b[0m \u001b[0mget_probablity\u001b[0m\u001b[1;33m(\u001b[0m\u001b[0ms2\u001b[0m\u001b[1;33m)\u001b[0m\u001b[1;33m\u001b[0m\u001b[1;33m\u001b[0m\u001b[0m\n\u001b[0m\u001b[0;32m     11\u001b[0m \u001b[1;33m\u001b[0m\u001b[0m\n\u001b[0;32m     12\u001b[0m     \u001b[0mbetter\u001b[0m \u001b[1;33m=\u001b[0m \u001b[0ms1\u001b[0m \u001b[1;32mif\u001b[0m \u001b[0mp1\u001b[0m \u001b[1;33m>\u001b[0m \u001b[0mp2\u001b[0m \u001b[1;32melse\u001b[0m \u001b[0ms2\u001b[0m\u001b[1;33m\u001b[0m\u001b[1;33m\u001b[0m\u001b[0m\n",
      "\u001b[1;31mNameError\u001b[0m: name 'get_probablity' is not defined"
     ]
    }
   ],
   "source": [
    "need_compared = [\n",
    "    \"今天晚上请你吃大餐，我们一起吃日料 明天晚上请你吃大餐，我们一起吃苹果\",\n",
    "    \"真事一只好看的小猫 真是一只好看的小猫\",\n",
    "    \"今晚我去吃火锅 今晚火锅去吃我\",\n",
    "    \"洋葱奶昔来一杯 养乐多绿来一杯\"\n",
    "]\n",
    "\n",
    "for s in need_compared:\n",
    "    s1, s2 = s.split()\n",
    "    p1, p2 = get_probablity(s1), get_probablity(s2)\n",
    "    \n",
    "    better = s1 if p1 > p2 else s2\n",
    "    \n",
    "    print('{} is more possible'.format(better))\n",
    "    print('-'*4 + ' {} with probility {}'.format(s1, p1))\n",
    "    print('-'*4 + ' {} with probility {}'.format(s2, p2))"
   ]
  },
  {
   "cell_type": "code",
   "execution_count": null,
   "metadata": {},
   "outputs": [],
   "source": []
  }
 ],
 "metadata": {
  "kernelspec": {
   "display_name": "Python 3",
   "language": "python",
   "name": "python3"
  },
  "language_info": {
   "codemirror_mode": {
    "name": "ipython",
    "version": 3
   },
   "file_extension": ".py",
   "mimetype": "text/x-python",
   "name": "python",
   "nbconvert_exporter": "python",
   "pygments_lexer": "ipython3",
   "version": "3.7.3"
  }
 },
 "nbformat": 4,
 "nbformat_minor": 2
}
